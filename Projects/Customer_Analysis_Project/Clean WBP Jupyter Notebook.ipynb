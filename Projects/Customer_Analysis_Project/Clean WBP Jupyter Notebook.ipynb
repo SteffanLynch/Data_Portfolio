{
 "cells": [
  {
   "cell_type": "markdown",
   "id": "16d28f4c",
   "metadata": {},
   "source": [
    "# Introduction, Importing and Cleaning the Data\n"
   ]
  },
  {
   "cell_type": "code",
   "execution_count": 124,
   "id": "559213ef",
   "metadata": {},
   "outputs": [],
   "source": [
    "import pandas as pd\n",
    "from matplotlib import pyplot as plt\n",
    "import matplotlib\n",
    "import seaborn as sns\n",
    "import numpy as np\n",
    "#pd.set_option('display.max_rows', None)\n",
    "pd.set_option('display.max_columns', None)\n",
    "%matplotlib inline"
   ]
  },
  {
   "cell_type": "code",
   "execution_count": 125,
   "id": "efd60d7e",
   "metadata": {},
   "outputs": [
    {
     "data": {
      "text/html": [
       "<div>\n",
       "<style scoped>\n",
       "    .dataframe tbody tr th:only-of-type {\n",
       "        vertical-align: middle;\n",
       "    }\n",
       "\n",
       "    .dataframe tbody tr th {\n",
       "        vertical-align: top;\n",
       "    }\n",
       "\n",
       "    .dataframe thead th {\n",
       "        text-align: right;\n",
       "    }\n",
       "</style>\n",
       "<table border=\"1\" class=\"dataframe\">\n",
       "  <thead>\n",
       "    <tr style=\"text-align: right;\">\n",
       "      <th></th>\n",
       "      <th>revised Associate id</th>\n",
       "      <th>Grade</th>\n",
       "      <th>Customer ID</th>\n",
       "      <th>Revised Customer Name</th>\n",
       "      <th>Parent Customer ID</th>\n",
       "      <th>Revised Parent customer id</th>\n",
       "      <th>Vertical</th>\n",
       "      <th>Vertical ServiceLines</th>\n",
       "      <th>Project Billability</th>\n",
       "      <th>Region</th>\n",
       "      <th>Revised On Off</th>\n",
       "      <th>Available Hrs</th>\n",
       "      <th>Billed Hrs</th>\n",
       "      <th>Location Avl Hrs</th>\n",
       "      <th>Utilization Percentage</th>\n",
       "      <th>Billed FTE</th>\n",
       "      <th>Total FTE</th>\n",
       "      <th>Unbilled FTE</th>\n",
       "      <th>Month</th>\n",
       "      <th>Location Available Hours 8hrs</th>\n",
       "      <th>Available Hours 8hrs</th>\n",
       "      <th>Billed Hours 8hrs</th>\n",
       "      <th>Utilization Percentage 8hrs</th>\n",
       "      <th>Assign State tag</th>\n",
       "    </tr>\n",
       "  </thead>\n",
       "  <tbody>\n",
       "    <tr>\n",
       "      <th>0</th>\n",
       "      <td>A000001</td>\n",
       "      <td>AD</td>\n",
       "      <td>1208649</td>\n",
       "      <td>CU000001</td>\n",
       "      <td>2000522.0</td>\n",
       "      <td>PC2000000</td>\n",
       "      <td>Manlog</td>\n",
       "      <td>Data-Indst</td>\n",
       "      <td>BFD</td>\n",
       "      <td>UK</td>\n",
       "      <td>Offshore</td>\n",
       "      <td>32.0192</td>\n",
       "      <td>32.019200</td>\n",
       "      <td>160.0</td>\n",
       "      <td>1.000000</td>\n",
       "      <td>0.200120</td>\n",
       "      <td>0.20012</td>\n",
       "      <td>0.000000</td>\n",
       "      <td>2022-04-01</td>\n",
       "      <td>0.0</td>\n",
       "      <td>0.0</td>\n",
       "      <td>0.0</td>\n",
       "      <td>0.0</td>\n",
       "      <td>Billed</td>\n",
       "    </tr>\n",
       "    <tr>\n",
       "      <th>1</th>\n",
       "      <td>A000002</td>\n",
       "      <td>A</td>\n",
       "      <td>1208797</td>\n",
       "      <td>CU000002</td>\n",
       "      <td>2001744.0</td>\n",
       "      <td>PC2000001</td>\n",
       "      <td>Manlog</td>\n",
       "      <td>MSFT-Data</td>\n",
       "      <td>BTM</td>\n",
       "      <td>UK</td>\n",
       "      <td>Offshore</td>\n",
       "      <td>142.5096</td>\n",
       "      <td>120.000000</td>\n",
       "      <td>180.0</td>\n",
       "      <td>0.842049</td>\n",
       "      <td>0.666667</td>\n",
       "      <td>0.79172</td>\n",
       "      <td>0.125053</td>\n",
       "      <td>2022-04-01</td>\n",
       "      <td>0.0</td>\n",
       "      <td>0.0</td>\n",
       "      <td>0.0</td>\n",
       "      <td>0.0</td>\n",
       "      <td>Billed</td>\n",
       "    </tr>\n",
       "    <tr>\n",
       "      <th>2</th>\n",
       "      <td>A000003</td>\n",
       "      <td>M</td>\n",
       "      <td>1312366</td>\n",
       "      <td>CU000003</td>\n",
       "      <td>2000318.0</td>\n",
       "      <td>PC2000002</td>\n",
       "      <td>Life Sciences</td>\n",
       "      <td>AISQUAD</td>\n",
       "      <td>BFD</td>\n",
       "      <td>CE</td>\n",
       "      <td>Offshore</td>\n",
       "      <td>180.0000</td>\n",
       "      <td>105.930000</td>\n",
       "      <td>180.0</td>\n",
       "      <td>0.588500</td>\n",
       "      <td>0.588500</td>\n",
       "      <td>1.00000</td>\n",
       "      <td>0.411500</td>\n",
       "      <td>2022-04-01</td>\n",
       "      <td>0.0</td>\n",
       "      <td>0.0</td>\n",
       "      <td>0.0</td>\n",
       "      <td>0.0</td>\n",
       "      <td>Billed</td>\n",
       "    </tr>\n",
       "    <tr>\n",
       "      <th>3</th>\n",
       "      <td>A000004</td>\n",
       "      <td>SA</td>\n",
       "      <td>1221970</td>\n",
       "      <td>CU000004</td>\n",
       "      <td>2001050.0</td>\n",
       "      <td>PC2000003</td>\n",
       "      <td>BFS</td>\n",
       "      <td>CloudDataIntegration</td>\n",
       "      <td>BTM</td>\n",
       "      <td>UK</td>\n",
       "      <td>Offshore</td>\n",
       "      <td>180.0000</td>\n",
       "      <td>144.000000</td>\n",
       "      <td>180.0</td>\n",
       "      <td>0.800000</td>\n",
       "      <td>0.800000</td>\n",
       "      <td>1.00000</td>\n",
       "      <td>0.200000</td>\n",
       "      <td>2022-04-01</td>\n",
       "      <td>0.0</td>\n",
       "      <td>0.0</td>\n",
       "      <td>0.0</td>\n",
       "      <td>0.0</td>\n",
       "      <td>Billed</td>\n",
       "    </tr>\n",
       "    <tr>\n",
       "      <th>4</th>\n",
       "      <td>A000005</td>\n",
       "      <td>A</td>\n",
       "      <td>1223266</td>\n",
       "      <td>CU000005</td>\n",
       "      <td>2005813.0</td>\n",
       "      <td>PC2000004</td>\n",
       "      <td>BFS</td>\n",
       "      <td>MDM-DQG</td>\n",
       "      <td>BFD</td>\n",
       "      <td>CE</td>\n",
       "      <td>Offshore</td>\n",
       "      <td>90.0000</td>\n",
       "      <td>82.287000</td>\n",
       "      <td>180.0</td>\n",
       "      <td>0.914300</td>\n",
       "      <td>0.457150</td>\n",
       "      <td>0.50000</td>\n",
       "      <td>0.042850</td>\n",
       "      <td>2022-04-01</td>\n",
       "      <td>0.0</td>\n",
       "      <td>0.0</td>\n",
       "      <td>0.0</td>\n",
       "      <td>0.0</td>\n",
       "      <td>Billed</td>\n",
       "    </tr>\n",
       "    <tr>\n",
       "      <th>5</th>\n",
       "      <td>A000006</td>\n",
       "      <td>PAT</td>\n",
       "      <td>1208790</td>\n",
       "      <td>CU000006</td>\n",
       "      <td>2004593.0</td>\n",
       "      <td>PC2000005</td>\n",
       "      <td>BFS</td>\n",
       "      <td>Data-Indst</td>\n",
       "      <td>BTM</td>\n",
       "      <td>UK</td>\n",
       "      <td>Offshore</td>\n",
       "      <td>171.0000</td>\n",
       "      <td>56.000000</td>\n",
       "      <td>171.0</td>\n",
       "      <td>0.327485</td>\n",
       "      <td>0.327485</td>\n",
       "      <td>1.00000</td>\n",
       "      <td>0.672515</td>\n",
       "      <td>2022-04-01</td>\n",
       "      <td>0.0</td>\n",
       "      <td>0.0</td>\n",
       "      <td>0.0</td>\n",
       "      <td>0.0</td>\n",
       "      <td>Unbilled - Non MSA Buffer</td>\n",
       "    </tr>\n",
       "    <tr>\n",
       "      <th>6</th>\n",
       "      <td>A000007</td>\n",
       "      <td>P/PA</td>\n",
       "      <td>1208790</td>\n",
       "      <td>CU000006</td>\n",
       "      <td>2004593.0</td>\n",
       "      <td>PC2000005</td>\n",
       "      <td>BFS</td>\n",
       "      <td>Data-Indst</td>\n",
       "      <td>BTM</td>\n",
       "      <td>UK</td>\n",
       "      <td>Offshore</td>\n",
       "      <td>171.0000</td>\n",
       "      <td>128.000000</td>\n",
       "      <td>171.0</td>\n",
       "      <td>0.748538</td>\n",
       "      <td>0.748538</td>\n",
       "      <td>1.00000</td>\n",
       "      <td>0.251462</td>\n",
       "      <td>2022-04-01</td>\n",
       "      <td>0.0</td>\n",
       "      <td>0.0</td>\n",
       "      <td>0.0</td>\n",
       "      <td>0.0</td>\n",
       "      <td>Billed</td>\n",
       "    </tr>\n",
       "    <tr>\n",
       "      <th>7</th>\n",
       "      <td>A000008</td>\n",
       "      <td>PAT</td>\n",
       "      <td>1207644</td>\n",
       "      <td>CU000007</td>\n",
       "      <td>2001800.0</td>\n",
       "      <td>PC2000006</td>\n",
       "      <td>Life Sciences</td>\n",
       "      <td>AIML</td>\n",
       "      <td>BFD</td>\n",
       "      <td>CE</td>\n",
       "      <td>Offshore</td>\n",
       "      <td>83.1222</td>\n",
       "      <td>53.098461</td>\n",
       "      <td>180.0</td>\n",
       "      <td>0.638800</td>\n",
       "      <td>0.294991</td>\n",
       "      <td>0.46179</td>\n",
       "      <td>0.166799</td>\n",
       "      <td>2022-04-01</td>\n",
       "      <td>0.0</td>\n",
       "      <td>0.0</td>\n",
       "      <td>0.0</td>\n",
       "      <td>0.0</td>\n",
       "      <td>Unbilled - Non MSA Buffer</td>\n",
       "    </tr>\n",
       "    <tr>\n",
       "      <th>8</th>\n",
       "      <td>A000009</td>\n",
       "      <td>A</td>\n",
       "      <td>1207644</td>\n",
       "      <td>CU000007</td>\n",
       "      <td>2001800.0</td>\n",
       "      <td>PC2000006</td>\n",
       "      <td>Life Sciences</td>\n",
       "      <td>ModernBI-Indst</td>\n",
       "      <td>BFD</td>\n",
       "      <td>CE</td>\n",
       "      <td>Offshore</td>\n",
       "      <td>180.0000</td>\n",
       "      <td>172.170000</td>\n",
       "      <td>180.0</td>\n",
       "      <td>0.956500</td>\n",
       "      <td>0.956500</td>\n",
       "      <td>1.00000</td>\n",
       "      <td>0.043500</td>\n",
       "      <td>2022-04-01</td>\n",
       "      <td>0.0</td>\n",
       "      <td>0.0</td>\n",
       "      <td>0.0</td>\n",
       "      <td>0.0</td>\n",
       "      <td>Billed</td>\n",
       "    </tr>\n",
       "    <tr>\n",
       "      <th>9</th>\n",
       "      <td>A000010</td>\n",
       "      <td>P/PA</td>\n",
       "      <td>1219331</td>\n",
       "      <td>CU000008</td>\n",
       "      <td>2000559.0</td>\n",
       "      <td>PC2000007</td>\n",
       "      <td>Insurance</td>\n",
       "      <td>ModernDataEngineering</td>\n",
       "      <td>BTM</td>\n",
       "      <td>UK</td>\n",
       "      <td>Offshore</td>\n",
       "      <td>160.0000</td>\n",
       "      <td>0.000000</td>\n",
       "      <td>160.0</td>\n",
       "      <td>0.000000</td>\n",
       "      <td>0.000000</td>\n",
       "      <td>1.00000</td>\n",
       "      <td>1.000000</td>\n",
       "      <td>2022-04-01</td>\n",
       "      <td>0.0</td>\n",
       "      <td>0.0</td>\n",
       "      <td>0.0</td>\n",
       "      <td>0.0</td>\n",
       "      <td>Billed</td>\n",
       "    </tr>\n",
       "    <tr>\n",
       "      <th>10</th>\n",
       "      <td>A000011</td>\n",
       "      <td>SA</td>\n",
       "      <td>1208675</td>\n",
       "      <td>CU000009</td>\n",
       "      <td>2002081.0</td>\n",
       "      <td>PC2000008</td>\n",
       "      <td>RHCG</td>\n",
       "      <td>AIML</td>\n",
       "      <td>BTM</td>\n",
       "      <td>UK</td>\n",
       "      <td>Offshore</td>\n",
       "      <td>160.0000</td>\n",
       "      <td>152.000000</td>\n",
       "      <td>160.0</td>\n",
       "      <td>0.950000</td>\n",
       "      <td>0.950000</td>\n",
       "      <td>1.00000</td>\n",
       "      <td>0.050000</td>\n",
       "      <td>2022-04-01</td>\n",
       "      <td>0.0</td>\n",
       "      <td>0.0</td>\n",
       "      <td>0.0</td>\n",
       "      <td>0.0</td>\n",
       "      <td>Billed</td>\n",
       "    </tr>\n",
       "    <tr>\n",
       "      <th>11</th>\n",
       "      <td>A000012</td>\n",
       "      <td>SM</td>\n",
       "      <td>1211612</td>\n",
       "      <td>CU000010</td>\n",
       "      <td>NaN</td>\n",
       "      <td>NaN</td>\n",
       "      <td>RHCG</td>\n",
       "      <td>ModernBI</td>\n",
       "      <td>BFD</td>\n",
       "      <td>CE</td>\n",
       "      <td>Offshore</td>\n",
       "      <td>171.0000</td>\n",
       "      <td>166.776300</td>\n",
       "      <td>171.0</td>\n",
       "      <td>0.975300</td>\n",
       "      <td>0.975300</td>\n",
       "      <td>1.00000</td>\n",
       "      <td>0.024700</td>\n",
       "      <td>2022-04-01</td>\n",
       "      <td>0.0</td>\n",
       "      <td>0.0</td>\n",
       "      <td>0.0</td>\n",
       "      <td>0.0</td>\n",
       "      <td>Billed</td>\n",
       "    </tr>\n",
       "    <tr>\n",
       "      <th>12</th>\n",
       "      <td>A000013</td>\n",
       "      <td>SA</td>\n",
       "      <td>1217797</td>\n",
       "      <td>CU000011</td>\n",
       "      <td>2005661.0</td>\n",
       "      <td>PC2000010</td>\n",
       "      <td>Communications Practice</td>\n",
       "      <td>Data</td>\n",
       "      <td>BTM</td>\n",
       "      <td>CE</td>\n",
       "      <td>Offshore</td>\n",
       "      <td>98.3466</td>\n",
       "      <td>171.000000</td>\n",
       "      <td>180.0</td>\n",
       "      <td>1.738750</td>\n",
       "      <td>0.950000</td>\n",
       "      <td>0.54637</td>\n",
       "      <td>-0.403630</td>\n",
       "      <td>2022-04-01</td>\n",
       "      <td>0.0</td>\n",
       "      <td>0.0</td>\n",
       "      <td>0.0</td>\n",
       "      <td>0.0</td>\n",
       "      <td>Billed</td>\n",
       "    </tr>\n",
       "    <tr>\n",
       "      <th>13</th>\n",
       "      <td>A000014</td>\n",
       "      <td>SM</td>\n",
       "      <td>1207644</td>\n",
       "      <td>CU000007</td>\n",
       "      <td>2001800.0</td>\n",
       "      <td>PC2000006</td>\n",
       "      <td>Life Sciences</td>\n",
       "      <td>AISQUAD</td>\n",
       "      <td>BFD</td>\n",
       "      <td>CE</td>\n",
       "      <td>Offshore</td>\n",
       "      <td>48.2994</td>\n",
       "      <td>9.679200</td>\n",
       "      <td>180.0</td>\n",
       "      <td>0.200400</td>\n",
       "      <td>0.053773</td>\n",
       "      <td>0.26833</td>\n",
       "      <td>0.214557</td>\n",
       "      <td>2022-04-01</td>\n",
       "      <td>0.0</td>\n",
       "      <td>0.0</td>\n",
       "      <td>0.0</td>\n",
       "      <td>0.0</td>\n",
       "      <td>Billed</td>\n",
       "    </tr>\n",
       "    <tr>\n",
       "      <th>14</th>\n",
       "      <td>A000015</td>\n",
       "      <td>M</td>\n",
       "      <td>1207644</td>\n",
       "      <td>CU000007</td>\n",
       "      <td>2001800.0</td>\n",
       "      <td>PC2000006</td>\n",
       "      <td>Life Sciences</td>\n",
       "      <td>DeliveryProgramManagement</td>\n",
       "      <td>BFD</td>\n",
       "      <td>CE</td>\n",
       "      <td>Offshore</td>\n",
       "      <td>69.9984</td>\n",
       "      <td>44.714978</td>\n",
       "      <td>180.0</td>\n",
       "      <td>0.638800</td>\n",
       "      <td>0.248417</td>\n",
       "      <td>0.38888</td>\n",
       "      <td>0.140463</td>\n",
       "      <td>2022-04-01</td>\n",
       "      <td>0.0</td>\n",
       "      <td>0.0</td>\n",
       "      <td>0.0</td>\n",
       "      <td>0.0</td>\n",
       "      <td>Billed</td>\n",
       "    </tr>\n",
       "  </tbody>\n",
       "</table>\n",
       "</div>"
      ],
      "text/plain": [
       "   revised Associate id Grade  Customer ID Revised Customer Name  \\\n",
       "0               A000001    AD      1208649              CU000001   \n",
       "1               A000002     A      1208797              CU000002   \n",
       "2               A000003     M      1312366              CU000003   \n",
       "3               A000004    SA      1221970              CU000004   \n",
       "4               A000005     A      1223266              CU000005   \n",
       "5               A000006   PAT      1208790              CU000006   \n",
       "6               A000007  P/PA      1208790              CU000006   \n",
       "7               A000008   PAT      1207644              CU000007   \n",
       "8               A000009     A      1207644              CU000007   \n",
       "9               A000010  P/PA      1219331              CU000008   \n",
       "10              A000011    SA      1208675              CU000009   \n",
       "11              A000012    SM      1211612              CU000010   \n",
       "12              A000013    SA      1217797              CU000011   \n",
       "13              A000014    SM      1207644              CU000007   \n",
       "14              A000015     M      1207644              CU000007   \n",
       "\n",
       "    Parent Customer ID Revised Parent customer id                 Vertical  \\\n",
       "0            2000522.0                  PC2000000                   Manlog   \n",
       "1            2001744.0                  PC2000001                   Manlog   \n",
       "2            2000318.0                  PC2000002            Life Sciences   \n",
       "3            2001050.0                  PC2000003                      BFS   \n",
       "4            2005813.0                  PC2000004                      BFS   \n",
       "5            2004593.0                  PC2000005                      BFS   \n",
       "6            2004593.0                  PC2000005                      BFS   \n",
       "7            2001800.0                  PC2000006            Life Sciences   \n",
       "8            2001800.0                  PC2000006            Life Sciences   \n",
       "9            2000559.0                  PC2000007                Insurance   \n",
       "10           2002081.0                  PC2000008                     RHCG   \n",
       "11                 NaN                        NaN                     RHCG   \n",
       "12           2005661.0                  PC2000010  Communications Practice   \n",
       "13           2001800.0                  PC2000006            Life Sciences   \n",
       "14           2001800.0                  PC2000006            Life Sciences   \n",
       "\n",
       "        Vertical ServiceLines Project Billability Region Revised On Off  \\\n",
       "0                  Data-Indst                 BFD     UK       Offshore   \n",
       "1                   MSFT-Data                 BTM     UK       Offshore   \n",
       "2                     AISQUAD                 BFD     CE       Offshore   \n",
       "3        CloudDataIntegration                 BTM     UK       Offshore   \n",
       "4                     MDM-DQG                 BFD     CE       Offshore   \n",
       "5                  Data-Indst                 BTM     UK       Offshore   \n",
       "6                  Data-Indst                 BTM     UK       Offshore   \n",
       "7                        AIML                 BFD     CE       Offshore   \n",
       "8              ModernBI-Indst                 BFD     CE       Offshore   \n",
       "9       ModernDataEngineering                 BTM     UK       Offshore   \n",
       "10                       AIML                 BTM     UK       Offshore   \n",
       "11                   ModernBI                 BFD     CE       Offshore   \n",
       "12                       Data                 BTM     CE       Offshore   \n",
       "13                    AISQUAD                 BFD     CE       Offshore   \n",
       "14  DeliveryProgramManagement                 BFD     CE       Offshore   \n",
       "\n",
       "    Available Hrs  Billed Hrs  Location Avl Hrs  Utilization Percentage  \\\n",
       "0         32.0192   32.019200             160.0                1.000000   \n",
       "1        142.5096  120.000000             180.0                0.842049   \n",
       "2        180.0000  105.930000             180.0                0.588500   \n",
       "3        180.0000  144.000000             180.0                0.800000   \n",
       "4         90.0000   82.287000             180.0                0.914300   \n",
       "5        171.0000   56.000000             171.0                0.327485   \n",
       "6        171.0000  128.000000             171.0                0.748538   \n",
       "7         83.1222   53.098461             180.0                0.638800   \n",
       "8        180.0000  172.170000             180.0                0.956500   \n",
       "9        160.0000    0.000000             160.0                0.000000   \n",
       "10       160.0000  152.000000             160.0                0.950000   \n",
       "11       171.0000  166.776300             171.0                0.975300   \n",
       "12        98.3466  171.000000             180.0                1.738750   \n",
       "13        48.2994    9.679200             180.0                0.200400   \n",
       "14        69.9984   44.714978             180.0                0.638800   \n",
       "\n",
       "    Billed FTE  Total FTE  Unbilled FTE      Month  \\\n",
       "0     0.200120    0.20012      0.000000 2022-04-01   \n",
       "1     0.666667    0.79172      0.125053 2022-04-01   \n",
       "2     0.588500    1.00000      0.411500 2022-04-01   \n",
       "3     0.800000    1.00000      0.200000 2022-04-01   \n",
       "4     0.457150    0.50000      0.042850 2022-04-01   \n",
       "5     0.327485    1.00000      0.672515 2022-04-01   \n",
       "6     0.748538    1.00000      0.251462 2022-04-01   \n",
       "7     0.294991    0.46179      0.166799 2022-04-01   \n",
       "8     0.956500    1.00000      0.043500 2022-04-01   \n",
       "9     0.000000    1.00000      1.000000 2022-04-01   \n",
       "10    0.950000    1.00000      0.050000 2022-04-01   \n",
       "11    0.975300    1.00000      0.024700 2022-04-01   \n",
       "12    0.950000    0.54637     -0.403630 2022-04-01   \n",
       "13    0.053773    0.26833      0.214557 2022-04-01   \n",
       "14    0.248417    0.38888      0.140463 2022-04-01   \n",
       "\n",
       "    Location Available Hours 8hrs  Available Hours 8hrs  Billed Hours 8hrs  \\\n",
       "0                             0.0                   0.0                0.0   \n",
       "1                             0.0                   0.0                0.0   \n",
       "2                             0.0                   0.0                0.0   \n",
       "3                             0.0                   0.0                0.0   \n",
       "4                             0.0                   0.0                0.0   \n",
       "5                             0.0                   0.0                0.0   \n",
       "6                             0.0                   0.0                0.0   \n",
       "7                             0.0                   0.0                0.0   \n",
       "8                             0.0                   0.0                0.0   \n",
       "9                             0.0                   0.0                0.0   \n",
       "10                            0.0                   0.0                0.0   \n",
       "11                            0.0                   0.0                0.0   \n",
       "12                            0.0                   0.0                0.0   \n",
       "13                            0.0                   0.0                0.0   \n",
       "14                            0.0                   0.0                0.0   \n",
       "\n",
       "    Utilization Percentage 8hrs           Assign State tag  \n",
       "0                           0.0                     Billed  \n",
       "1                           0.0                     Billed  \n",
       "2                           0.0                     Billed  \n",
       "3                           0.0                     Billed  \n",
       "4                           0.0                     Billed  \n",
       "5                           0.0  Unbilled - Non MSA Buffer  \n",
       "6                           0.0                     Billed  \n",
       "7                           0.0  Unbilled - Non MSA Buffer  \n",
       "8                           0.0                     Billed  \n",
       "9                           0.0                     Billed  \n",
       "10                          0.0                     Billed  \n",
       "11                          0.0                     Billed  \n",
       "12                          0.0                     Billed  \n",
       "13                          0.0                     Billed  \n",
       "14                          0.0                     Billed  "
      ]
     },
     "execution_count": 125,
     "metadata": {},
     "output_type": "execute_result"
    }
   ],
   "source": [
    "xls = pd.ExcelFile('clean_work_based_project_data_for_portfolio.xlsx' )\n",
    "df = xls.parse(0)\n",
    "df.head(15)"
   ]
  },
  {
   "cell_type": "code",
   "execution_count": 71,
   "id": "0f949db8",
   "metadata": {},
   "outputs": [
    {
     "name": "stdout",
     "output_type": "stream",
     "text": [
      "<class 'pandas.core.frame.DataFrame'>\n",
      "RangeIndex: 61598 entries, 0 to 61597\n",
      "Data columns (total 24 columns):\n",
      " #   Column                         Non-Null Count  Dtype         \n",
      "---  ------                         --------------  -----         \n",
      " 0   revised Associate id           61598 non-null  object        \n",
      " 1   Grade                          61598 non-null  object        \n",
      " 2   Customer ID                    61598 non-null  int64         \n",
      " 3   Revised Customer Name          61598 non-null  object        \n",
      " 4   Parent Customer ID             61150 non-null  float64       \n",
      " 5   Revised Parent customer id     61150 non-null  object        \n",
      " 6   Category                       61598 non-null  object        \n",
      " 7   Service Lines                  61598 non-null  object        \n",
      " 8   Project Billability            61598 non-null  object        \n",
      " 9   Region                         61598 non-null  object        \n",
      " 10  Revised On Off                 61598 non-null  object        \n",
      " 11  Available Hrs                  61598 non-null  float64       \n",
      " 12  Billed Hrs                     61598 non-null  float64       \n",
      " 13  Location Avl Hrs               61598 non-null  float64       \n",
      " 14  Utilization Percentage         61598 non-null  float64       \n",
      " 15  Billed FTE                     61598 non-null  float64       \n",
      " 16  Total FTE                      61598 non-null  float64       \n",
      " 17  Unbilled FTE                   61598 non-null  float64       \n",
      " 18  Month                          61598 non-null  datetime64[ns]\n",
      " 19  Location Available Hours 8hrs  38377 non-null  float64       \n",
      " 20  Available Hours 8hrs           38377 non-null  float64       \n",
      " 21  Billed Hours 8hrs              38377 non-null  float64       \n",
      " 22  Utilization Percentage 8hrs    38377 non-null  float64       \n",
      " 23  Assign State tag               60925 non-null  object        \n",
      "dtypes: datetime64[ns](1), float64(12), int64(1), object(10)\n",
      "memory usage: 11.3+ MB\n"
     ]
    }
   ],
   "source": [
    "df.info()"
   ]
  },
  {
   "cell_type": "code",
   "execution_count": 72,
   "id": "fdd61be4",
   "metadata": {},
   "outputs": [
    {
     "name": "stdout",
     "output_type": "stream",
     "text": [
      "<class 'pandas.core.frame.DataFrame'>\n",
      "RangeIndex: 61598 entries, 0 to 61597\n",
      "Data columns (total 17 columns):\n",
      " #   Column               Non-Null Count  Dtype         \n",
      "---  ------               --------------  -----         \n",
      " 0   associate_id         61598 non-null  object        \n",
      " 1   grade                61598 non-null  category      \n",
      " 2   customer_id          61598 non-null  object        \n",
      " 3   parent_customer_id   61150 non-null  object        \n",
      " 4   category             61598 non-null  category      \n",
      " 5   service_lines        61598 non-null  category      \n",
      " 6   billability          61598 non-null  category      \n",
      " 7   region               61598 non-null  category      \n",
      " 8   associate_location   61598 non-null  category      \n",
      " 9   available_hrs        61598 non-null  float64       \n",
      " 10  billed_hrs           61598 non-null  float64       \n",
      " 11  location_avail_hrs   61598 non-null  float64       \n",
      " 12  utilisation_percent  61598 non-null  float64       \n",
      " 13  billed_fte           61598 non-null  float64       \n",
      " 14  total_fte            61598 non-null  float64       \n",
      " 15  unbilled_fte         61598 non-null  float64       \n",
      " 16  month                61598 non-null  datetime64[ns]\n",
      "dtypes: category(6), datetime64[ns](1), float64(7), object(3)\n",
      "memory usage: 5.5+ MB\n"
     ]
    }
   ],
   "source": [
    "df.drop(columns= ['Customer ID', 'Parent Customer ID', 'Location Available Hours 8hrs', 'Available Hours 8hrs', 'Billed Hours 8hrs', 'Utilization Percentage 8hrs', 'Assign State tag'], inplace=True)\n",
    "df.rename(columns= {'revised Associate id': 'Associate Id', \n",
    "                    'Revised Customer Name': 'Customer ID', \n",
    "                    'Revised Parent customer id': 'Parent Customer Id',\n",
    "                    'Project Billability': 'Billability',\n",
    "                    'Revised On Off': 'Associate Location',\n",
    "                    'Location Avl Hrs': 'Location Avail Hrs',\n",
    "                    'Utilization Percentage': 'Utilisation Percent'}, inplace=True)\n",
    "\n",
    "\n",
    "df.columns = [x.lower() for x in df.columns]\n",
    "df.columns = df.columns.str.replace(' ', '_')\n",
    "\n",
    "categories = ['grade', 'billability', 'region', 'category', 'service_lines', 'associate_location']\n",
    "for item in categories:\n",
    "    df[item] = df[item].astype('category')\n",
    "\n",
    "df.info()"
   ]
  },
  {
   "cell_type": "code",
   "execution_count": 73,
   "id": "1472ac88",
   "metadata": {},
   "outputs": [
    {
     "data": {
      "text/html": [
       "<div>\n",
       "<style scoped>\n",
       "    .dataframe tbody tr th:only-of-type {\n",
       "        vertical-align: middle;\n",
       "    }\n",
       "\n",
       "    .dataframe tbody tr th {\n",
       "        vertical-align: top;\n",
       "    }\n",
       "\n",
       "    .dataframe thead th {\n",
       "        text-align: right;\n",
       "    }\n",
       "</style>\n",
       "<table border=\"1\" class=\"dataframe\">\n",
       "  <thead>\n",
       "    <tr style=\"text-align: right;\">\n",
       "      <th></th>\n",
       "      <th>associate_id</th>\n",
       "      <th>grade</th>\n",
       "      <th>customer_id</th>\n",
       "      <th>parent_customer_id</th>\n",
       "      <th>category</th>\n",
       "      <th>service_lines</th>\n",
       "      <th>billability</th>\n",
       "      <th>region</th>\n",
       "      <th>associate_location</th>\n",
       "      <th>available_hrs</th>\n",
       "      <th>billed_hrs</th>\n",
       "      <th>location_avail_hrs</th>\n",
       "      <th>utilisation_percent</th>\n",
       "      <th>billed_fte</th>\n",
       "      <th>total_fte</th>\n",
       "      <th>unbilled_fte</th>\n",
       "      <th>month</th>\n",
       "      <th>condensed_grade</th>\n",
       "      <th>billed_hrs_percent</th>\n",
       "      <th>billed_fte_percent</th>\n",
       "      <th>utilisation_type</th>\n",
       "    </tr>\n",
       "  </thead>\n",
       "  <tbody>\n",
       "  </tbody>\n",
       "</table>\n",
       "</div>"
      ],
      "text/plain": [
       "Empty DataFrame\n",
       "Columns: [associate_id, grade, customer_id, parent_customer_id, category, service_lines, billability, region, associate_location, available_hrs, billed_hrs, location_avail_hrs, utilisation_percent, billed_fte, total_fte, unbilled_fte, month, condensed_grade, billed_hrs_percent, billed_fte_percent, utilisation_type]\n",
       "Index: []"
      ]
     },
     "execution_count": 73,
     "metadata": {},
     "output_type": "execute_result"
    }
   ],
   "source": [
    "mapping = {'Intern': 'Trainee',\n",
    "        'PAT': 'Trainee',\n",
    "        'P/PA': 'Associate',\n",
    "        'A': 'Associate',\n",
    "        'AD': 'Associate',\n",
    "        'Cont': 'Senior',\n",
    "        'SA': 'Senior',\n",
    "        'SM': 'Senior',\n",
    "        'SD': 'Senior',\n",
    "        'M': 'Manager/Director',\n",
    "        'D': 'Manager/Director'}\n",
    "\n",
    "df['condensed_grade'] = df['grade'].replace(mapping)\n",
    "df['billed_hrs_percent'] = ((df['billed_hrs'] / df['available_hrs'] ) * 100).round(2)\n",
    "df['billed_fte_percent'] = ((df['billed_fte'] / df['total_fte'] ) * 100).round(2)\n",
    "\n",
    "conditions = [\n",
    "    (df['available_hrs'] == 0), # 'No Avail Hrs'\n",
    "    (df['billed_hrs'] == 0), # 'No Billed Hrs'\n",
    "    (1 < df['utilisation_percent']) & (df['utilisation_percent'] <= 1.25) & (df['available_hrs'] != 0), # 'Slightly Above'\n",
    "    (1.25 < df['utilisation_percent']) & (df['available_hrs'] != 0), # 'Largely Above'\n",
    "    (0.75 <= df['utilisation_percent']) & (df['utilisation_percent'] < 1) & (df['available_hrs'] != 0), # 'Slightly Below'\n",
    "    (df['utilisation_percent'] < 0.75) & (df['available_hrs'] != 0), # 'Largely Below'\n",
    "    (df['utilisation_percent'] == 1) & (df['available_hrs'] != 0) & (df['billed_hrs'] != 0) # 'Perfect'\n",
    "    ]\n",
    "choices = ['No Avail Hrs', 'No Billed Hrs', 'Slightly Above', 'Largely Above', 'Slightly Below', 'Largely Below', 'Perfect']\n",
    "\n",
    "df['utilisation_type'] = np.select(conditions, choices, default='black')\n",
    "df.replace([np.inf, -np.inf], np.nan, inplace=True)\n",
    "df[df['utilisation_type']== np.inf]"
   ]
  },
  {
   "cell_type": "code",
   "execution_count": 74,
   "id": "8e97dcee",
   "metadata": {},
   "outputs": [
    {
     "data": {
      "text/plain": [
       "pandas.core.dtypes.dtypes.CategoricalDtype"
      ]
     },
     "execution_count": 74,
     "metadata": {},
     "output_type": "execute_result"
    }
   ],
   "source": [
    "type(df['grade'].dtype)"
   ]
  },
  {
   "cell_type": "code",
   "execution_count": 75,
   "id": "cd98a7be",
   "metadata": {},
   "outputs": [
    {
     "data": {
      "text/html": [
       "<div>\n",
       "<style scoped>\n",
       "    .dataframe tbody tr th:only-of-type {\n",
       "        vertical-align: middle;\n",
       "    }\n",
       "\n",
       "    .dataframe tbody tr th {\n",
       "        vertical-align: top;\n",
       "    }\n",
       "\n",
       "    .dataframe thead th {\n",
       "        text-align: right;\n",
       "    }\n",
       "</style>\n",
       "<table border=\"1\" class=\"dataframe\">\n",
       "  <thead>\n",
       "    <tr style=\"text-align: right;\">\n",
       "      <th></th>\n",
       "      <th>grade</th>\n",
       "      <th>billability</th>\n",
       "      <th>region</th>\n",
       "      <th>category</th>\n",
       "      <th>service_lines</th>\n",
       "      <th>associate_location</th>\n",
       "    </tr>\n",
       "  </thead>\n",
       "  <tbody>\n",
       "    <tr>\n",
       "      <th>count</th>\n",
       "      <td>61598</td>\n",
       "      <td>61598</td>\n",
       "      <td>61598</td>\n",
       "      <td>61598</td>\n",
       "      <td>61598</td>\n",
       "      <td>61598</td>\n",
       "    </tr>\n",
       "    <tr>\n",
       "      <th>unique</th>\n",
       "      <td>11</td>\n",
       "      <td>4</td>\n",
       "      <td>2</td>\n",
       "      <td>8</td>\n",
       "      <td>68</td>\n",
       "      <td>3</td>\n",
       "    </tr>\n",
       "    <tr>\n",
       "      <th>top</th>\n",
       "      <td>A</td>\n",
       "      <td>BFD</td>\n",
       "      <td>USA</td>\n",
       "      <td>Sciences</td>\n",
       "      <td>ModernDataEngineering</td>\n",
       "      <td>Offshore</td>\n",
       "    </tr>\n",
       "    <tr>\n",
       "      <th>freq</th>\n",
       "      <td>14913</td>\n",
       "      <td>34526</td>\n",
       "      <td>38534</td>\n",
       "      <td>25108</td>\n",
       "      <td>6262</td>\n",
       "      <td>47362</td>\n",
       "    </tr>\n",
       "  </tbody>\n",
       "</table>\n",
       "</div>"
      ],
      "text/plain": [
       "        grade billability region  category          service_lines  \\\n",
       "count   61598       61598  61598     61598                  61598   \n",
       "unique     11           4      2         8                     68   \n",
       "top         A         BFD    USA  Sciences  ModernDataEngineering   \n",
       "freq    14913       34526  38534     25108                   6262   \n",
       "\n",
       "       associate_location  \n",
       "count               61598  \n",
       "unique                  3  \n",
       "top              Offshore  \n",
       "freq                47362  "
      ]
     },
     "execution_count": 75,
     "metadata": {},
     "output_type": "execute_result"
    }
   ],
   "source": [
    "df[categories].describe()"
   ]
  },
  {
   "cell_type": "code",
   "execution_count": 76,
   "id": "7077cdc6",
   "metadata": {},
   "outputs": [
    {
     "data": {
      "text/plain": [
       "associate_id             0\n",
       "grade                    0\n",
       "customer_id              0\n",
       "parent_customer_id     448\n",
       "category                 0\n",
       "service_lines            0\n",
       "billability              0\n",
       "region                   0\n",
       "associate_location       0\n",
       "available_hrs            0\n",
       "billed_hrs               0\n",
       "location_avail_hrs       0\n",
       "utilisation_percent      0\n",
       "billed_fte               0\n",
       "total_fte                0\n",
       "unbilled_fte             0\n",
       "month                    0\n",
       "condensed_grade          0\n",
       "billed_hrs_percent     800\n",
       "billed_fte_percent     800\n",
       "utilisation_type         0\n",
       "dtype: int64"
      ]
     },
     "execution_count": 76,
     "metadata": {},
     "output_type": "execute_result"
    }
   ],
   "source": [
    "df.isna().sum()"
   ]
  },
  {
   "cell_type": "code",
   "execution_count": 77,
   "id": "8be826bc",
   "metadata": {},
   "outputs": [
    {
     "data": {
      "text/plain": [
       "19"
      ]
     },
     "execution_count": 77,
     "metadata": {},
     "output_type": "execute_result"
    }
   ],
   "source": [
    "df[df['parent_customer_id'].isnull()]['customer_id'].nunique()"
   ]
  },
  {
   "cell_type": "code",
   "execution_count": 78,
   "id": "1fa922db",
   "metadata": {},
   "outputs": [
    {
     "data": {
      "text/plain": [
       "390"
      ]
     },
     "execution_count": 78,
     "metadata": {},
     "output_type": "execute_result"
    }
   ],
   "source": [
    "df['customer_id'].nunique()"
   ]
  },
  {
   "cell_type": "code",
   "execution_count": 79,
   "id": "de650a74",
   "metadata": {},
   "outputs": [
    {
     "data": {
      "text/html": [
       "<div>\n",
       "<style scoped>\n",
       "    .dataframe tbody tr th:only-of-type {\n",
       "        vertical-align: middle;\n",
       "    }\n",
       "\n",
       "    .dataframe tbody tr th {\n",
       "        vertical-align: top;\n",
       "    }\n",
       "\n",
       "    .dataframe thead th {\n",
       "        text-align: right;\n",
       "    }\n",
       "</style>\n",
       "<table border=\"1\" class=\"dataframe\">\n",
       "  <thead>\n",
       "    <tr style=\"text-align: right;\">\n",
       "      <th></th>\n",
       "      <th>associate_id</th>\n",
       "      <th>grade</th>\n",
       "      <th>customer_id</th>\n",
       "      <th>parent_customer_id</th>\n",
       "      <th>category</th>\n",
       "      <th>service_lines</th>\n",
       "      <th>billability</th>\n",
       "      <th>region</th>\n",
       "      <th>associate_location</th>\n",
       "      <th>available_hrs</th>\n",
       "      <th>billed_hrs</th>\n",
       "      <th>location_avail_hrs</th>\n",
       "      <th>utilisation_percent</th>\n",
       "      <th>billed_fte</th>\n",
       "      <th>total_fte</th>\n",
       "      <th>unbilled_fte</th>\n",
       "      <th>month</th>\n",
       "      <th>condensed_grade</th>\n",
       "      <th>billed_hrs_percent</th>\n",
       "      <th>billed_fte_percent</th>\n",
       "      <th>utilisation_type</th>\n",
       "    </tr>\n",
       "  </thead>\n",
       "  <tbody>\n",
       "    <tr>\n",
       "      <th>20327</th>\n",
       "      <td>A000002</td>\n",
       "      <td>A</td>\n",
       "      <td>CU000002</td>\n",
       "      <td>PC2000001</td>\n",
       "      <td>Manufacturing</td>\n",
       "      <td>CDS-MSFTAzure</td>\n",
       "      <td>BTM</td>\n",
       "      <td>Europe</td>\n",
       "      <td>Offshore</td>\n",
       "      <td>94.7682</td>\n",
       "      <td>73.92</td>\n",
       "      <td>171.0</td>\n",
       "      <td>0.780008</td>\n",
       "      <td>0.4323</td>\n",
       "      <td>0.5542</td>\n",
       "      <td>0.1219</td>\n",
       "      <td>2022-01-01</td>\n",
       "      <td>Associate</td>\n",
       "      <td>78.0</td>\n",
       "      <td>78.0</td>\n",
       "      <td>Slightly Below</td>\n",
       "    </tr>\n",
       "    <tr>\n",
       "      <th>20328</th>\n",
       "      <td>A000002</td>\n",
       "      <td>A</td>\n",
       "      <td>CU000002</td>\n",
       "      <td>PC2000001</td>\n",
       "      <td>Manufacturing</td>\n",
       "      <td>CDS-MSFTAzure</td>\n",
       "      <td>BTM</td>\n",
       "      <td>Europe</td>\n",
       "      <td>Offshore</td>\n",
       "      <td>72.7177</td>\n",
       "      <td>0.00</td>\n",
       "      <td>171.0</td>\n",
       "      <td>0.000000</td>\n",
       "      <td>0.0000</td>\n",
       "      <td>0.4253</td>\n",
       "      <td>0.4253</td>\n",
       "      <td>2022-01-01</td>\n",
       "      <td>Associate</td>\n",
       "      <td>0.0</td>\n",
       "      <td>0.0</td>\n",
       "      <td>No Billed Hrs</td>\n",
       "    </tr>\n",
       "  </tbody>\n",
       "</table>\n",
       "</div>"
      ],
      "text/plain": [
       "      associate_id grade customer_id parent_customer_id       category  \\\n",
       "20327      A000002     A    CU000002          PC2000001  Manufacturing   \n",
       "20328      A000002     A    CU000002          PC2000001  Manufacturing   \n",
       "\n",
       "       service_lines billability  region associate_location  available_hrs  \\\n",
       "20327  CDS-MSFTAzure         BTM  Europe           Offshore        94.7682   \n",
       "20328  CDS-MSFTAzure         BTM  Europe           Offshore        72.7177   \n",
       "\n",
       "       billed_hrs  location_avail_hrs  utilisation_percent  billed_fte  \\\n",
       "20327       73.92               171.0             0.780008      0.4323   \n",
       "20328        0.00               171.0             0.000000      0.0000   \n",
       "\n",
       "       total_fte  unbilled_fte      month condensed_grade  billed_hrs_percent  \\\n",
       "20327     0.5542        0.1219 2022-01-01       Associate                78.0   \n",
       "20328     0.4253        0.4253 2022-01-01       Associate                 0.0   \n",
       "\n",
       "       billed_fte_percent utilisation_type  \n",
       "20327                78.0   Slightly Below  \n",
       "20328                 0.0    No Billed Hrs  "
      ]
     },
     "execution_count": 79,
     "metadata": {},
     "output_type": "execute_result"
    }
   ],
   "source": [
    "df[df.duplicated(subset= ['associate_id', 'customer_id', 'service_lines', 'month'], keep=False)] \\\n",
    "    .loc[(df['associate_id'] == 'A000002') & (df['month'] == '2022-01-01')] \\\n",
    "    .sort_values(by = ['associate_id', 'customer_id', 'service_lines']).head(10)"
   ]
  },
  {
   "cell_type": "code",
   "execution_count": 80,
   "id": "d6c7501d",
   "metadata": {},
   "outputs": [
    {
     "data": {
      "text/plain": [
       "Timestamp('2022-08-01 00:00:00')"
      ]
     },
     "execution_count": 80,
     "metadata": {},
     "output_type": "execute_result"
    }
   ],
   "source": [
    "df['month'].max()"
   ]
  },
  {
   "cell_type": "code",
   "execution_count": 81,
   "id": "35bb3d07",
   "metadata": {},
   "outputs": [],
   "source": [
    "#Cross Field validation\n"
   ]
  },
  {
   "cell_type": "code",
   "execution_count": 82,
   "id": "e4d4e554",
   "metadata": {},
   "outputs": [
    {
     "data": {
      "text/html": [
       "<div>\n",
       "<style scoped>\n",
       "    .dataframe tbody tr th:only-of-type {\n",
       "        vertical-align: middle;\n",
       "    }\n",
       "\n",
       "    .dataframe tbody tr th {\n",
       "        vertical-align: top;\n",
       "    }\n",
       "\n",
       "    .dataframe thead th {\n",
       "        text-align: right;\n",
       "    }\n",
       "</style>\n",
       "<table border=\"1\" class=\"dataframe\">\n",
       "  <thead>\n",
       "    <tr style=\"text-align: right;\">\n",
       "      <th></th>\n",
       "      <th>associate_id</th>\n",
       "      <th>grade</th>\n",
       "      <th>customer_id</th>\n",
       "      <th>parent_customer_id</th>\n",
       "      <th>category</th>\n",
       "      <th>service_lines</th>\n",
       "      <th>billability</th>\n",
       "      <th>region</th>\n",
       "      <th>associate_location</th>\n",
       "      <th>available_hrs</th>\n",
       "      <th>billed_hrs</th>\n",
       "      <th>location_avail_hrs</th>\n",
       "      <th>utilisation_percent</th>\n",
       "      <th>billed_fte</th>\n",
       "      <th>total_fte</th>\n",
       "      <th>unbilled_fte</th>\n",
       "      <th>month</th>\n",
       "      <th>condensed_grade</th>\n",
       "      <th>billed_hrs_percent</th>\n",
       "      <th>billed_fte_percent</th>\n",
       "      <th>utilisation_type</th>\n",
       "    </tr>\n",
       "  </thead>\n",
       "  <tbody>\n",
       "    <tr>\n",
       "      <th>79</th>\n",
       "      <td>A000079</td>\n",
       "      <td>SA</td>\n",
       "      <td>CU000042</td>\n",
       "      <td>PC2000034</td>\n",
       "      <td>Finance</td>\n",
       "      <td>ModernDataEngineering</td>\n",
       "      <td>BTM</td>\n",
       "      <td>Europe</td>\n",
       "      <td>Offshore</td>\n",
       "      <td>0.0000</td>\n",
       "      <td>-32.0</td>\n",
       "      <td>160.0</td>\n",
       "      <td>0.000000</td>\n",
       "      <td>-0.200000</td>\n",
       "      <td>0.00000</td>\n",
       "      <td>0.200000</td>\n",
       "      <td>2022-04-01</td>\n",
       "      <td>Senior</td>\n",
       "      <td>NaN</td>\n",
       "      <td>NaN</td>\n",
       "      <td>No Avail Hrs</td>\n",
       "    </tr>\n",
       "    <tr>\n",
       "      <th>198</th>\n",
       "      <td>A000196</td>\n",
       "      <td>Cont</td>\n",
       "      <td>CU000002</td>\n",
       "      <td>PC2000001</td>\n",
       "      <td>Manufacturing</td>\n",
       "      <td>AIML</td>\n",
       "      <td>BTM</td>\n",
       "      <td>Europe</td>\n",
       "      <td>Onsite</td>\n",
       "      <td>0.0000</td>\n",
       "      <td>-32.0</td>\n",
       "      <td>152.0</td>\n",
       "      <td>0.000000</td>\n",
       "      <td>-0.210526</td>\n",
       "      <td>0.00000</td>\n",
       "      <td>0.210526</td>\n",
       "      <td>2022-04-01</td>\n",
       "      <td>Senior</td>\n",
       "      <td>NaN</td>\n",
       "      <td>NaN</td>\n",
       "      <td>No Avail Hrs</td>\n",
       "    </tr>\n",
       "    <tr>\n",
       "      <th>306</th>\n",
       "      <td>A000302</td>\n",
       "      <td>SA</td>\n",
       "      <td>CU000059</td>\n",
       "      <td>PC2000049</td>\n",
       "      <td>Finance</td>\n",
       "      <td>BFS</td>\n",
       "      <td>BTM</td>\n",
       "      <td>USA</td>\n",
       "      <td>Offshore</td>\n",
       "      <td>0.0000</td>\n",
       "      <td>-8.0</td>\n",
       "      <td>152.0</td>\n",
       "      <td>0.000000</td>\n",
       "      <td>-0.052632</td>\n",
       "      <td>0.00000</td>\n",
       "      <td>0.052632</td>\n",
       "      <td>2022-04-01</td>\n",
       "      <td>Senior</td>\n",
       "      <td>NaN</td>\n",
       "      <td>NaN</td>\n",
       "      <td>No Avail Hrs</td>\n",
       "    </tr>\n",
       "    <tr>\n",
       "      <th>372</th>\n",
       "      <td>A000366</td>\n",
       "      <td>SA</td>\n",
       "      <td>CU000033</td>\n",
       "      <td>PC2000029</td>\n",
       "      <td>Retail</td>\n",
       "      <td>AIA</td>\n",
       "      <td>BTM</td>\n",
       "      <td>Europe</td>\n",
       "      <td>Offshore</td>\n",
       "      <td>2.2096</td>\n",
       "      <td>-20.0</td>\n",
       "      <td>160.0</td>\n",
       "      <td>-9.051410</td>\n",
       "      <td>-0.125000</td>\n",
       "      <td>0.01381</td>\n",
       "      <td>0.138810</td>\n",
       "      <td>2022-04-01</td>\n",
       "      <td>Senior</td>\n",
       "      <td>-905.14</td>\n",
       "      <td>-905.14</td>\n",
       "      <td>Largely Below</td>\n",
       "    </tr>\n",
       "    <tr>\n",
       "      <th>648</th>\n",
       "      <td>A000636</td>\n",
       "      <td>P/PA</td>\n",
       "      <td>CU000102</td>\n",
       "      <td>PC2000080</td>\n",
       "      <td>Communications</td>\n",
       "      <td>MSFT</td>\n",
       "      <td>BTM</td>\n",
       "      <td>USA</td>\n",
       "      <td>Offshore</td>\n",
       "      <td>180.0000</td>\n",
       "      <td>-8.0</td>\n",
       "      <td>180.0</td>\n",
       "      <td>-0.044444</td>\n",
       "      <td>-0.044444</td>\n",
       "      <td>1.00000</td>\n",
       "      <td>1.044444</td>\n",
       "      <td>2022-04-01</td>\n",
       "      <td>Associate</td>\n",
       "      <td>-4.44</td>\n",
       "      <td>-4.44</td>\n",
       "      <td>Largely Below</td>\n",
       "    </tr>\n",
       "  </tbody>\n",
       "</table>\n",
       "</div>"
      ],
      "text/plain": [
       "    associate_id grade customer_id parent_customer_id        category  \\\n",
       "79       A000079    SA    CU000042          PC2000034         Finance   \n",
       "198      A000196  Cont    CU000002          PC2000001   Manufacturing   \n",
       "306      A000302    SA    CU000059          PC2000049         Finance   \n",
       "372      A000366    SA    CU000033          PC2000029          Retail   \n",
       "648      A000636  P/PA    CU000102          PC2000080  Communications   \n",
       "\n",
       "             service_lines billability  region associate_location  \\\n",
       "79   ModernDataEngineering         BTM  Europe           Offshore   \n",
       "198                   AIML         BTM  Europe             Onsite   \n",
       "306                    BFS         BTM     USA           Offshore   \n",
       "372                    AIA         BTM  Europe           Offshore   \n",
       "648                   MSFT         BTM     USA           Offshore   \n",
       "\n",
       "     available_hrs  billed_hrs  location_avail_hrs  utilisation_percent  \\\n",
       "79          0.0000       -32.0               160.0             0.000000   \n",
       "198         0.0000       -32.0               152.0             0.000000   \n",
       "306         0.0000        -8.0               152.0             0.000000   \n",
       "372         2.2096       -20.0               160.0            -9.051410   \n",
       "648       180.0000        -8.0               180.0            -0.044444   \n",
       "\n",
       "     billed_fte  total_fte  unbilled_fte      month condensed_grade  \\\n",
       "79    -0.200000    0.00000      0.200000 2022-04-01          Senior   \n",
       "198   -0.210526    0.00000      0.210526 2022-04-01          Senior   \n",
       "306   -0.052632    0.00000      0.052632 2022-04-01          Senior   \n",
       "372   -0.125000    0.01381      0.138810 2022-04-01          Senior   \n",
       "648   -0.044444    1.00000      1.044444 2022-04-01       Associate   \n",
       "\n",
       "     billed_hrs_percent  billed_fte_percent utilisation_type  \n",
       "79                  NaN                 NaN     No Avail Hrs  \n",
       "198                 NaN                 NaN     No Avail Hrs  \n",
       "306                 NaN                 NaN     No Avail Hrs  \n",
       "372             -905.14             -905.14    Largely Below  \n",
       "648               -4.44               -4.44    Largely Below  "
      ]
     },
     "execution_count": 82,
     "metadata": {},
     "output_type": "execute_result"
    }
   ],
   "source": [
    "df.loc[df['billed_hrs'] < 0].head()"
   ]
  },
  {
   "cell_type": "code",
   "execution_count": 83,
   "id": "aea5679c",
   "metadata": {},
   "outputs": [],
   "source": [
    "df.to_csv('clean_work_based_project_data.csv')"
   ]
  },
  {
   "cell_type": "code",
   "execution_count": 84,
   "id": "1a6955c3",
   "metadata": {},
   "outputs": [
    {
     "name": "stdout",
     "output_type": "stream",
     "text": [
      "<class 'pandas.core.frame.DataFrame'>\n",
      "RangeIndex: 61598 entries, 0 to 61597\n",
      "Data columns (total 21 columns):\n",
      " #   Column               Non-Null Count  Dtype         \n",
      "---  ------               --------------  -----         \n",
      " 0   associate_id         61598 non-null  object        \n",
      " 1   grade                61598 non-null  category      \n",
      " 2   customer_id          61598 non-null  object        \n",
      " 3   parent_customer_id   61150 non-null  object        \n",
      " 4   category             61598 non-null  category      \n",
      " 5   service_lines        61598 non-null  category      \n",
      " 6   billability          61598 non-null  category      \n",
      " 7   region               61598 non-null  category      \n",
      " 8   associate_location   61598 non-null  category      \n",
      " 9   available_hrs        61598 non-null  float64       \n",
      " 10  billed_hrs           61598 non-null  float64       \n",
      " 11  location_avail_hrs   61598 non-null  float64       \n",
      " 12  utilisation_percent  61598 non-null  float64       \n",
      " 13  billed_fte           61598 non-null  float64       \n",
      " 14  total_fte            61598 non-null  float64       \n",
      " 15  unbilled_fte         61598 non-null  float64       \n",
      " 16  month                61598 non-null  datetime64[ns]\n",
      " 17  condensed_grade      61598 non-null  object        \n",
      " 18  billed_hrs_percent   60798 non-null  float64       \n",
      " 19  billed_fte_percent   60798 non-null  float64       \n",
      " 20  utilisation_type     61598 non-null  object        \n",
      "dtypes: category(6), datetime64[ns](1), float64(9), object(5)\n",
      "memory usage: 7.4+ MB\n"
     ]
    },
    {
     "data": {
      "text/plain": [
       "(61598, 21)"
      ]
     },
     "execution_count": 84,
     "metadata": {},
     "output_type": "execute_result"
    }
   ],
   "source": [
    "df.info()\n",
    "df.shape"
   ]
  },
  {
   "cell_type": "markdown",
   "id": "a413f81f",
   "metadata": {},
   "source": [
    "# Data Analysis"
   ]
  },
  {
   "cell_type": "markdown",
   "id": "f90af565",
   "metadata": {},
   "source": [
    "## What are the most active industries / categorys?"
   ]
  },
  {
   "cell_type": "markdown",
   "id": "4fe17d9d",
   "metadata": {},
   "source": [
    "### Identify the most abundant and active client categorys / industries"
   ]
  },
  {
   "cell_type": "code",
   "execution_count": 85,
   "id": "5082112f",
   "metadata": {},
   "outputs": [
    {
     "data": {
      "text/plain": [
       "Sciences          25108\n",
       "Finance            9753\n",
       "Retail             8448\n",
       "Manufacturing      7660\n",
       "Insurance          6089\n",
       "Communications     3331\n",
       "Technology         1189\n",
       "Healthcare           20\n",
       "Name: category, dtype: int64"
      ]
     },
     "execution_count": 85,
     "metadata": {},
     "output_type": "execute_result"
    }
   ],
   "source": [
    "df['category'].value_counts().sort_values(ascending=False)"
   ]
  },
  {
   "cell_type": "code",
   "execution_count": 86,
   "id": "fb31af0e",
   "metadata": {
    "scrolled": true
   },
   "outputs": [
    {
     "data": {
      "image/png": "[encoded data removed]",
      "text/plain": [
       "<Figure size 360x360 with 1 Axes>"
      ]
     },
     "metadata": {
      "needs_background": "light"
     },
     "output_type": "display_data"
    }
   ],
   "source": [
    "\n",
    "sns.catplot(y='category', data = df, kind = 'count', orient= 'horizontal')\n",
    "#plt.barh(y = df['category'], width =  df['category'].count())\n",
    "\n",
    "plt.xlabel('Count of Associates')\n",
    "plt.ylabel('categorys')\n",
    "plt.title('Total Count of Associates Per category Across Time Period')\n",
    "#plt.savefig('Total Count of Non-Unique Associates Per category.png', dpi=300, bbox_inches='tight')\n",
    "plt.show()"
   ]
  },
  {
   "cell_type": "code",
   "execution_count": 87,
   "id": "27e2dffb",
   "metadata": {},
   "outputs": [],
   "source": [
    "# Here, I'm establishing some code as variables in order to avoid repetition and to improve the efficiency of my code. \n",
    "# Im assigning a subset of entire dataframe to variable - one subset for the  most active categorys and one for the least.\n",
    "\n",
    "top_categorys_list = ['Sciences', 'Finance', 'Manufacturing', 'Retail' ]\n",
    "bottom_categorys_list = ['Healthcare', 'Technology', 'Communications Practice']\n",
    "\n",
    "top_categorys_df = df[df['category'].isin(top_categorys_list)]\n",
    "bottom_categorys_df = df[df['category'].isin(bottom_categorys_list)]\n",
    "\n",
    "conditions = [\n",
    "    (df['category'].isin(top_categorys_list)), # Top category\n",
    "    (df['category'].isin(bottom_categorys_list)) # Bottom category\n",
    "    ]\n",
    "choices = ['Top category', 'Bottom category']\n",
    "\n",
    "df['category_category'] = np.select(conditions, choices, default = None)\n",
    "\n",
    "utilisation_type_order = ['Largely Below', 'Slightly Below', 'Perfect', 'Slightly Above', 'Largely Above']"
   ]
  },
  {
   "cell_type": "markdown",
   "id": "758f9106",
   "metadata": {},
   "source": [
    "Above we can see that Sciences have the highest number of associates assigned to them. Following them, in order: Finance, Retail and Manufacturing"
   ]
  },
  {
   "cell_type": "markdown",
   "id": "e671a966",
   "metadata": {},
   "source": [
    "### Identify which categorys / industries have the most customers and parent customers."
   ]
  },
  {
   "cell_type": "code",
   "execution_count": 88,
   "id": "3256d7fd",
   "metadata": {},
   "outputs": [
    {
     "data": {
      "text/html": [
       "<div>\n",
       "<style scoped>\n",
       "    .dataframe tbody tr th:only-of-type {\n",
       "        vertical-align: middle;\n",
       "    }\n",
       "\n",
       "    .dataframe tbody tr th {\n",
       "        vertical-align: top;\n",
       "    }\n",
       "\n",
       "    .dataframe thead th {\n",
       "        text-align: right;\n",
       "    }\n",
       "</style>\n",
       "<table border=\"1\" class=\"dataframe\">\n",
       "  <thead>\n",
       "    <tr style=\"text-align: right;\">\n",
       "      <th></th>\n",
       "      <th>associate_count</th>\n",
       "      <th>customer_count</th>\n",
       "      <th>parent_customer_count</th>\n",
       "    </tr>\n",
       "    <tr>\n",
       "      <th>category</th>\n",
       "      <th></th>\n",
       "      <th></th>\n",
       "      <th></th>\n",
       "    </tr>\n",
       "  </thead>\n",
       "  <tbody>\n",
       "    <tr>\n",
       "      <th>Sciences</th>\n",
       "      <td>4103</td>\n",
       "      <td>76</td>\n",
       "      <td>28</td>\n",
       "    </tr>\n",
       "    <tr>\n",
       "      <th>Finance</th>\n",
       "      <td>1592</td>\n",
       "      <td>83</td>\n",
       "      <td>46</td>\n",
       "    </tr>\n",
       "    <tr>\n",
       "      <th>Retail</th>\n",
       "      <td>1313</td>\n",
       "      <td>49</td>\n",
       "      <td>36</td>\n",
       "    </tr>\n",
       "    <tr>\n",
       "      <th>Manufacturing</th>\n",
       "      <td>1262</td>\n",
       "      <td>65</td>\n",
       "      <td>49</td>\n",
       "    </tr>\n",
       "    <tr>\n",
       "      <th>Insurance</th>\n",
       "      <td>1025</td>\n",
       "      <td>59</td>\n",
       "      <td>33</td>\n",
       "    </tr>\n",
       "    <tr>\n",
       "      <th>Communications</th>\n",
       "      <td>559</td>\n",
       "      <td>38</td>\n",
       "      <td>35</td>\n",
       "    </tr>\n",
       "    <tr>\n",
       "      <th>Technology</th>\n",
       "      <td>209</td>\n",
       "      <td>18</td>\n",
       "      <td>12</td>\n",
       "    </tr>\n",
       "    <tr>\n",
       "      <th>Healthcare</th>\n",
       "      <td>6</td>\n",
       "      <td>2</td>\n",
       "      <td>2</td>\n",
       "    </tr>\n",
       "  </tbody>\n",
       "</table>\n",
       "</div>"
      ],
      "text/plain": [
       "                associate_count  customer_count  parent_customer_count\n",
       "category                                                              \n",
       "Sciences                   4103              76                     28\n",
       "Finance                    1592              83                     46\n",
       "Retail                     1313              49                     36\n",
       "Manufacturing              1262              65                     49\n",
       "Insurance                  1025              59                     33\n",
       "Communications              559              38                     35\n",
       "Technology                  209              18                     12\n",
       "Healthcare                    6               2                      2"
      ]
     },
     "execution_count": 88,
     "metadata": {},
     "output_type": "execute_result"
    }
   ],
   "source": [
    "category_df= df.groupby('category')['associate_id'].nunique().sort_values(ascending=False).rename('associate_count').to_frame()\n",
    "category_df['customer_count'] = df.groupby('category')['customer_id'].nunique()#.sort_values(ascending=False).rename().to_frame()\n",
    "category_df['parent_customer_count'] = df.groupby('category')['parent_customer_id'].nunique()\n",
    "category_df"
   ]
  },
  {
   "cell_type": "code",
   "execution_count": 89,
   "id": "5b66ba85",
   "metadata": {},
   "outputs": [
    {
     "data": {
      "image/png": "[encoded data removed]",
      "text/plain": [
       "<Figure size 432x288 with 1 Axes>"
      ]
     },
     "metadata": {
      "needs_background": "light"
     },
     "output_type": "display_data"
    }
   ],
   "source": [
    "category_df.sort_values('associate_count', ascending = True, inplace=True)\n",
    "plt.barh(y = category_df.index, width =  category_df['associate_count'])\n",
    "plt.xlabel('Count of Unique Associates')\n",
    "#plt.ylabel('categorys')\n",
    "plt.title('Count of Unique Associates Assigned to each category')\n",
    "plt.savefig('Count of Unique Associates per category.png', dpi=300, bbox_inches='tight')\n",
    "plt.show()"
   ]
  },
  {
   "cell_type": "code",
   "execution_count": 90,
   "id": "db8b97d9",
   "metadata": {},
   "outputs": [
    {
     "data": {
      "image/png": "[encoded data removed]",
      "text/plain": [
       "<Figure size 432x288 with 1 Axes>"
      ]
     },
     "metadata": {
      "needs_background": "light"
     },
     "output_type": "display_data"
    }
   ],
   "source": [
    "category_df.sort_values('customer_count', ascending = True, inplace=True)\n",
    "plt.barh(y = category_df.index, width =  category_df['customer_count'])\n",
    "plt.xlabel('Count of Unique Customers')\n",
    "#plt.ylabel('categorys')\n",
    "plt.title('Count of Unique Customers per category')\n",
    "plt.savefig('Count of Unique Customers per category.png', dpi=300, bbox_inches='tight')\n",
    "plt.show()"
   ]
  },
  {
   "cell_type": "code",
   "execution_count": 91,
   "id": "bb609a0b",
   "metadata": {},
   "outputs": [
    {
     "data": {
      "image/png": "[encoded data removed]",
      "text/plain": [
       "<Figure size 432x288 with 1 Axes>"
      ]
     },
     "metadata": {
      "needs_background": "light"
     },
     "output_type": "display_data"
    }
   ],
   "source": [
    "category_df.sort_values('parent_customer_count', ascending = True, inplace=True)\n",
    "plt.barh(y = category_df.index, width =  category_df['parent_customer_count'])\n",
    "plt.xlabel('Count of Unique Parent Customers')\n",
    "#plt.ylabel('categorys')\n",
    "plt.title('Count of Unique Parent Customers per category')\n",
    "plt.savefig('Count of Unique Parent Customers per category.png', dpi=300, bbox_inches='tight')\n",
    "plt.show()"
   ]
  },
  {
   "cell_type": "code",
   "execution_count": 92,
   "id": "23d9b831",
   "metadata": {},
   "outputs": [
    {
     "name": "stderr",
     "output_type": "stream",
     "text": [
      "/var/folders/9w/qn189rp947s031qfhzvqt0g40000gn/T/ipykernel_41221/2892491155.py:11: UserWarning: FixedFormatter should only be used together with FixedLocator\n",
      "  ax1.set_xticklabels(category_df.index, rotation=90)\n",
      "/var/folders/9w/qn189rp947s031qfhzvqt0g40000gn/T/ipykernel_41221/2892491155.py:16: UserWarning: FixedFormatter should only be used together with FixedLocator\n",
      "  ax2.set_xticklabels(category_df.index, rotation=90)\n"
     ]
    },
    {
     "data": {
      "image/png": "[encoded data removed]",
      "text/plain": [
       "<Figure size 432x288 with 2 Axes>"
      ]
     },
     "metadata": {
      "needs_background": "light"
     },
     "output_type": "display_data"
    }
   ],
   "source": [
    "fig, (ax1, ax2) = plt.subplots(1, 2)\n",
    "category_df.sort_values('customer_count', ascending = False, inplace=True)\n",
    "\n",
    "\n",
    "\n",
    "ax1.bar(x = category_df.index, height =  category_df['customer_count'])\n",
    "ax2.bar(x = category_df.index, height =  category_df['parent_customer_count'])\n",
    "\n",
    "ax1.set_ylabel('Count of Unique Customers')\n",
    "ax1.set_xlabel('categorys')\n",
    "ax1.set_xticklabels(category_df.index, rotation=90)\n",
    "ax1.set_title('Count of Unique Customers per category')\n",
    "\n",
    "ax2.set_ylabel('Count of Unique Parent Customers')\n",
    "ax2.set_xlabel('categorys')\n",
    "ax2.set_xticklabels(category_df.index, rotation=90)\n",
    "ax2.set_title('Count of Unique Parent Customers per category')\n",
    "\n",
    "plt.subplots_adjust(#left=0.1,\n",
    "                    #bottom=0.1,\n",
    "                    #right=0.9,\n",
    "                    #top=0.9,\n",
    "                    wspace=0.4,\n",
    "                    hspace=0.4)\n",
    "#plt.figure = ()\n",
    "plt.show()"
   ]
  },
  {
   "cell_type": "markdown",
   "id": "94388dde",
   "metadata": {},
   "source": [
    "This is something different. \n",
    "\n",
    "Communications Practice, Technology and Healthcare all have both the least amount of associates assigned to them, but also the least about of clients.\n",
    "\n",
    "However, it isnt as linear or consistent with the top performing categorys.\n",
    "Sciences has the most number associates with the second most number of projects\n",
    "Finance has the second most number of associates with the most number of projects.\n",
    "\n",
    "Between Retail, Insurance and Manufacturing, they switch around the order abit. With some having more associates and less projects. The ratio between associates to projects varies.\n",
    "\n"
   ]
  },
  {
   "cell_type": "markdown",
   "id": "b43dcd57",
   "metadata": {},
   "source": [
    "## What factors contribute to those industries the most?\n",
    "\n",
    "The next question is to explore which factors contribute to the disparity of activeness of different client industries. I'm exploring all of the appropriate attributes provided in the dataset to see which can explain why particular industries are more active than others."
   ]
  },
  {
   "cell_type": "markdown",
   "id": "e4b61a8a",
   "metadata": {},
   "source": [
    "### Determine whether the number of associates per customer affects category performance"
   ]
  },
  {
   "cell_type": "code",
   "execution_count": 93,
   "id": "7346c6b5",
   "metadata": {},
   "outputs": [
    {
     "data": {
      "text/html": [
       "<div>\n",
       "<style scoped>\n",
       "    .dataframe tbody tr th:only-of-type {\n",
       "        vertical-align: middle;\n",
       "    }\n",
       "\n",
       "    .dataframe tbody tr th {\n",
       "        vertical-align: top;\n",
       "    }\n",
       "\n",
       "    .dataframe thead th {\n",
       "        text-align: right;\n",
       "    }\n",
       "</style>\n",
       "<table border=\"1\" class=\"dataframe\">\n",
       "  <thead>\n",
       "    <tr style=\"text-align: right;\">\n",
       "      <th></th>\n",
       "      <th>associate_count</th>\n",
       "      <th>customer_count</th>\n",
       "      <th>parent_customer_count</th>\n",
       "      <th>associate_per_customer</th>\n",
       "      <th>customer_per_parent</th>\n",
       "    </tr>\n",
       "    <tr>\n",
       "      <th>category</th>\n",
       "      <th></th>\n",
       "      <th></th>\n",
       "      <th></th>\n",
       "      <th></th>\n",
       "      <th></th>\n",
       "    </tr>\n",
       "  </thead>\n",
       "  <tbody>\n",
       "    <tr>\n",
       "      <th>Finance</th>\n",
       "      <td>1592</td>\n",
       "      <td>83</td>\n",
       "      <td>46</td>\n",
       "      <td>19.0</td>\n",
       "      <td>2.0</td>\n",
       "    </tr>\n",
       "    <tr>\n",
       "      <th>Sciences</th>\n",
       "      <td>4103</td>\n",
       "      <td>76</td>\n",
       "      <td>28</td>\n",
       "      <td>54.0</td>\n",
       "      <td>3.0</td>\n",
       "    </tr>\n",
       "    <tr>\n",
       "      <th>Manufacturing</th>\n",
       "      <td>1262</td>\n",
       "      <td>65</td>\n",
       "      <td>49</td>\n",
       "      <td>19.0</td>\n",
       "      <td>1.0</td>\n",
       "    </tr>\n",
       "    <tr>\n",
       "      <th>Insurance</th>\n",
       "      <td>1025</td>\n",
       "      <td>59</td>\n",
       "      <td>33</td>\n",
       "      <td>17.0</td>\n",
       "      <td>2.0</td>\n",
       "    </tr>\n",
       "    <tr>\n",
       "      <th>Retail</th>\n",
       "      <td>1313</td>\n",
       "      <td>49</td>\n",
       "      <td>36</td>\n",
       "      <td>27.0</td>\n",
       "      <td>1.0</td>\n",
       "    </tr>\n",
       "    <tr>\n",
       "      <th>Communications</th>\n",
       "      <td>559</td>\n",
       "      <td>38</td>\n",
       "      <td>35</td>\n",
       "      <td>15.0</td>\n",
       "      <td>1.0</td>\n",
       "    </tr>\n",
       "    <tr>\n",
       "      <th>Technology</th>\n",
       "      <td>209</td>\n",
       "      <td>18</td>\n",
       "      <td>12</td>\n",
       "      <td>12.0</td>\n",
       "      <td>2.0</td>\n",
       "    </tr>\n",
       "    <tr>\n",
       "      <th>Healthcare</th>\n",
       "      <td>6</td>\n",
       "      <td>2</td>\n",
       "      <td>2</td>\n",
       "      <td>3.0</td>\n",
       "      <td>1.0</td>\n",
       "    </tr>\n",
       "  </tbody>\n",
       "</table>\n",
       "</div>"
      ],
      "text/plain": [
       "                associate_count  customer_count  parent_customer_count  \\\n",
       "category                                                                 \n",
       "Finance                    1592              83                     46   \n",
       "Sciences                   4103              76                     28   \n",
       "Manufacturing              1262              65                     49   \n",
       "Insurance                  1025              59                     33   \n",
       "Retail                     1313              49                     36   \n",
       "Communications              559              38                     35   \n",
       "Technology                  209              18                     12   \n",
       "Healthcare                    6               2                      2   \n",
       "\n",
       "                associate_per_customer  customer_per_parent  \n",
       "category                                                     \n",
       "Finance                           19.0                  2.0  \n",
       "Sciences                          54.0                  3.0  \n",
       "Manufacturing                     19.0                  1.0  \n",
       "Insurance                         17.0                  2.0  \n",
       "Retail                            27.0                  1.0  \n",
       "Communications                    15.0                  1.0  \n",
       "Technology                        12.0                  2.0  \n",
       "Healthcare                         3.0                  1.0  "
      ]
     },
     "execution_count": 93,
     "metadata": {},
     "output_type": "execute_result"
    }
   ],
   "source": [
    "category_df['associate_per_customer'] = (category_df['associate_count'] / category_df['customer_count']).round(0)\n",
    "category_df['customer_per_parent'] = (category_df['customer_count'] / category_df['parent_customer_count']).round(0)\n",
    "category_df"
   ]
  },
  {
   "cell_type": "code",
   "execution_count": 94,
   "id": "e4a186a4",
   "metadata": {},
   "outputs": [
    {
     "data": {
      "image/png": "[encoded data removed]",
      "text/plain": [
       "<Figure size 432x288 with 1 Axes>"
      ]
     },
     "metadata": {
      "needs_background": "light"
     },
     "output_type": "display_data"
    }
   ],
   "source": [
    "category_df.sort_values('associate_per_customer', ascending = True, inplace=True)\n",
    "\n",
    "plt.barh(y = category_df.index, width=  category_df['associate_per_customer'])\n",
    "plt.axvline(x=19, color='red', linewidth= 2)\n",
    "\n",
    "plt.xlabel('Average Number of Associates')\n",
    "#plt.ylabel('categorys')\n",
    "#plt.xticks(rotation=90)\n",
    "plt.title('Average Number of Associates per Customer in each category')\n",
    "\n",
    "plt.savefig('Average NUmber of Associates Per Customer per category.png', dpi=300, bbox_inches='tight')\n",
    "plt.show()"
   ]
  },
  {
   "cell_type": "markdown",
   "id": "3f4d3b40",
   "metadata": {},
   "source": [
    "From this calculated dataframe we can see that the higher performing industries have have more associates per projects. Life sciences has the highest with an average of 54 per project. Healthcare, which is definitely the least active industry, only has an average of 3 associates per project. This indicates that the larger projects are a big factor towards the better performing industries. On average the projects within the top industries, have at least 19 associates assigned to them."
   ]
  },
  {
   "cell_type": "markdown",
   "id": "3e4e2b59",
   "metadata": {},
   "source": [
    "### Explore the relationship, if any, between region and the activity of industries"
   ]
  },
  {
   "cell_type": "code",
   "execution_count": 95,
   "id": "4079a074",
   "metadata": {},
   "outputs": [
    {
     "data": {
      "text/html": [
       "<div>\n",
       "<style scoped>\n",
       "    .dataframe tbody tr th:only-of-type {\n",
       "        vertical-align: middle;\n",
       "    }\n",
       "\n",
       "    .dataframe tbody tr th {\n",
       "        vertical-align: top;\n",
       "    }\n",
       "\n",
       "    .dataframe thead th {\n",
       "        text-align: right;\n",
       "    }\n",
       "</style>\n",
       "<table border=\"1\" class=\"dataframe\">\n",
       "  <thead>\n",
       "    <tr style=\"text-align: right;\">\n",
       "      <th></th>\n",
       "      <th>category</th>\n",
       "      <th>customer_id</th>\n",
       "      <th>level_2</th>\n",
       "      <th>count</th>\n",
       "    </tr>\n",
       "  </thead>\n",
       "  <tbody>\n",
       "    <tr>\n",
       "      <th>0</th>\n",
       "      <td>Finance</td>\n",
       "      <td>CU000004</td>\n",
       "      <td>Europe</td>\n",
       "      <td>594</td>\n",
       "    </tr>\n",
       "    <tr>\n",
       "      <th>1</th>\n",
       "      <td>Finance</td>\n",
       "      <td>CU000004</td>\n",
       "      <td>USA</td>\n",
       "      <td>0</td>\n",
       "    </tr>\n",
       "    <tr>\n",
       "      <th>2</th>\n",
       "      <td>Finance</td>\n",
       "      <td>CU000005</td>\n",
       "      <td>USA</td>\n",
       "      <td>79</td>\n",
       "    </tr>\n",
       "    <tr>\n",
       "      <th>3</th>\n",
       "      <td>Finance</td>\n",
       "      <td>CU000005</td>\n",
       "      <td>Europe</td>\n",
       "      <td>0</td>\n",
       "    </tr>\n",
       "    <tr>\n",
       "      <th>4</th>\n",
       "      <td>Finance</td>\n",
       "      <td>CU000006</td>\n",
       "      <td>Europe</td>\n",
       "      <td>256</td>\n",
       "    </tr>\n",
       "  </tbody>\n",
       "</table>\n",
       "</div>"
      ],
      "text/plain": [
       "  category customer_id level_2  count\n",
       "0  Finance    CU000004  Europe    594\n",
       "1  Finance    CU000004     USA      0\n",
       "2  Finance    CU000005     USA     79\n",
       "3  Finance    CU000005  Europe      0\n",
       "4  Finance    CU000006  Europe    256"
      ]
     },
     "execution_count": 95,
     "metadata": {},
     "output_type": "execute_result"
    }
   ],
   "source": [
    "var_top = top_categorys_df.groupby(['category','customer_id'])['region'].value_counts().rename('count').to_frame()\n",
    "var_top.reset_index(inplace= True)\n",
    "\n",
    "var_bottom = bottom_categorys_df.groupby(['category','customer_id'])['region'].value_counts().rename('count').to_frame()\n",
    "var_bottom.reset_index(inplace= True)\n",
    "\n",
    "var_top.head()"
   ]
  },
  {
   "cell_type": "code",
   "execution_count": 96,
   "id": "aeb26f0c",
   "metadata": {},
   "outputs": [
    {
     "data": {
      "image/png": "[encoded data removed]",
      "text/plain": [
       "<Figure size 432x288 with 2 Axes>"
      ]
     },
     "metadata": {
      "needs_background": "light"
     },
     "output_type": "display_data"
    }
   ],
   "source": [
    "fig, axes = plt.subplots(1, 2, sharey=True )\n",
    "\n",
    "sns.countplot(x = 'level_2', data =  var_top, ax = axes[0], order= ['Europe', 'USA'], hue_order= ['Europe', 'USA'] )\n",
    "sns.countplot(x = 'level_2', data =  var_bottom, ax = axes[1], order= ['Europe', 'USA'], hue_order= ['Europe', 'USA'])\n",
    "axes[0].set_xlabel('Top categorys')\n",
    "axes[0].set_ylabel('Count of Customers')\n",
    "axes[1].set_xlabel('Bottom categorys')\n",
    "axes[1].set_ylabel(None)\n",
    "\n",
    "plt.title('Number of Customers in Each Region', x = -0.2)\n",
    "#plt.savefig('Number of Customers in Each Region between the Top and Bottom categorys.png', dpi =  300, bbox_inches='tight')\n",
    "plt.show()\n",
    "\n",
    "#top_categorys_df['region'].value_counts()"
   ]
  },
  {
   "cell_type": "code",
   "execution_count": 97,
   "id": "dd4a5704",
   "metadata": {},
   "outputs": [
    {
     "data": {
      "image/png": "[encoded data removed]",
      "text/plain": [
       "<Figure size 432x288 with 2 Axes>"
      ]
     },
     "metadata": {},
     "output_type": "display_data"
    }
   ],
   "source": [
    "fig, (ax1, ax2) = plt.subplots(1, 2)\n",
    "\n",
    "ax1.pie(top_categorys_df['region'].value_counts().sort_values(), colors= ['b', 'g'], normalize=True, labels=  ['Europe', 'USA'])\n",
    "ax2.pie(bottom_categorys_df['region'].value_counts().sort_values(), colors= ['b', 'g'], normalize=True, labels=  ['Europe', 'USA'])\n",
    "\n",
    "\n",
    "plt.xticks(rotation=90)\n",
    "ax1.set_title('Top categorys')\n",
    "ax2.set_title('Bottom categorys')\n",
    "\n",
    "plt.legend(['Europe', 'USA'])\n",
    "plt.show()"
   ]
  },
  {
   "cell_type": "markdown",
   "id": "aaa54bb2",
   "metadata": {},
   "source": [
    "we can see that....."
   ]
  },
  {
   "cell_type": "markdown",
   "id": "958a52a8",
   "metadata": {},
   "source": [
    "### Determine which category service lines are most active per category"
   ]
  },
  {
   "cell_type": "code",
   "execution_count": 98,
   "id": "1ac819b2",
   "metadata": {},
   "outputs": [
    {
     "data": {
      "text/plain": [
       "68"
      ]
     },
     "execution_count": 98,
     "metadata": {},
     "output_type": "execute_result"
    }
   ],
   "source": [
    "df['service_lines'].nunique()"
   ]
  },
  {
   "cell_type": "code",
   "execution_count": 99,
   "id": "216e4972",
   "metadata": {},
   "outputs": [
    {
     "data": {
      "image/png": "[encoded data removed]",
      "text/plain": [
       "<Figure size 432x288 with 1 Axes>"
      ]
     },
     "metadata": {
      "needs_background": "light"
     },
     "output_type": "display_data"
    }
   ],
   "source": [
    "service_lines_df = df.groupby('service_lines')['associate_id'].nunique().nlargest(4).sort_values().to_frame()\n",
    "\n",
    "plt.barh(y = service_lines_df.index, width = service_lines_df['associate_id'])\n",
    "\n",
    "plt.title('Number of Associates in Top 4 Service Lines')\n",
    "plt.xlabel('Number of (Unique) Associates')\n",
    "plt.savefig('Number of Associates in Service Lines.png', dpi = 300, bbox_inches = 'tight')\n",
    "plt.show()"
   ]
  },
  {
   "cell_type": "code",
   "execution_count": 100,
   "id": "de338908",
   "metadata": {
    "scrolled": false
   },
   "outputs": [
    {
     "data": {
      "text/html": [
       "<div>\n",
       "<style scoped>\n",
       "    .dataframe tbody tr th:only-of-type {\n",
       "        vertical-align: middle;\n",
       "    }\n",
       "\n",
       "    .dataframe tbody tr th {\n",
       "        vertical-align: top;\n",
       "    }\n",
       "\n",
       "    .dataframe thead th {\n",
       "        text-align: right;\n",
       "    }\n",
       "</style>\n",
       "<table border=\"1\" class=\"dataframe\">\n",
       "  <thead>\n",
       "    <tr style=\"text-align: right;\">\n",
       "      <th></th>\n",
       "      <th>service_lines</th>\n",
       "    </tr>\n",
       "  </thead>\n",
       "  <tbody>\n",
       "    <tr>\n",
       "      <th>ModernDataEngineering</th>\n",
       "      <td>6262</td>\n",
       "    </tr>\n",
       "    <tr>\n",
       "      <th>Data</th>\n",
       "      <td>6252</td>\n",
       "    </tr>\n",
       "    <tr>\n",
       "      <th>Data-Indst</th>\n",
       "      <td>5716</td>\n",
       "    </tr>\n",
       "    <tr>\n",
       "      <th>ModernBI</th>\n",
       "      <td>5448</td>\n",
       "    </tr>\n",
       "  </tbody>\n",
       "</table>\n",
       "</div>"
      ],
      "text/plain": [
       "                       service_lines\n",
       "ModernDataEngineering           6262\n",
       "Data                            6252\n",
       "Data-Indst                      5716\n",
       "ModernBI                        5448"
      ]
     },
     "execution_count": 100,
     "metadata": {},
     "output_type": "execute_result"
    }
   ],
   "source": [
    "service_lines_df = df['service_lines'].value_counts().nlargest(4).to_frame()\n",
    "#service_lines_df['total_number_service_lines'] = df['service_lines'].nunique()\n",
    "service_lines_df\n"
   ]
  },
  {
   "cell_type": "markdown",
   "id": "6f0e68e4",
   "metadata": {},
   "source": [
    "The above category service lines are the most common across all categorys. These are the most active service lines throughout Cognizant, irrespective of the industry of the client. Next we'll explore the specific category service lines per highest performing vertials..."
   ]
  },
  {
   "cell_type": "code",
   "execution_count": 101,
   "id": "166b2ac1",
   "metadata": {},
   "outputs": [
    {
     "data": {
      "text/plain": [
       "18093"
      ]
     },
     "execution_count": 101,
     "metadata": {},
     "output_type": "execute_result"
    }
   ],
   "source": [
    "df.groupby('service_lines')['associate_id'].nunique().sort_values(ascending=False).to_frame()\n",
    "df.groupby('service_lines')['associate_id'].nunique().sum()"
   ]
  },
  {
   "cell_type": "code",
   "execution_count": 102,
   "id": "053420d5",
   "metadata": {},
   "outputs": [
    {
     "data": {
      "text/plain": [
       "28.24849389266567"
      ]
     },
     "execution_count": 102,
     "metadata": {},
     "output_type": "execute_result"
    }
   ],
   "source": [
    "(df.groupby('service_lines')['associate_id'].nunique().nlargest(4).sum() / df.groupby('service_lines')['associate_id'].nunique().sum() ) * 100"
   ]
  },
  {
   "cell_type": "markdown",
   "id": "9a10bb77",
   "metadata": {},
   "source": [
    "There are a total of 68 unique category service lines. The top 5 account for roughly a third of all service lines requires by customers."
   ]
  },
  {
   "cell_type": "code",
   "execution_count": 103,
   "id": "e9fb936b",
   "metadata": {},
   "outputs": [
    {
     "data": {
      "text/html": [
       "<div>\n",
       "<style scoped>\n",
       "    .dataframe tbody tr th:only-of-type {\n",
       "        vertical-align: middle;\n",
       "    }\n",
       "\n",
       "    .dataframe tbody tr th {\n",
       "        vertical-align: top;\n",
       "    }\n",
       "\n",
       "    .dataframe thead th {\n",
       "        text-align: right;\n",
       "    }\n",
       "</style>\n",
       "<table border=\"1\" class=\"dataframe\">\n",
       "  <thead>\n",
       "    <tr style=\"text-align: right;\">\n",
       "      <th></th>\n",
       "      <th></th>\n",
       "      <th>service_lines</th>\n",
       "    </tr>\n",
       "    <tr>\n",
       "      <th>category</th>\n",
       "      <th></th>\n",
       "      <th></th>\n",
       "    </tr>\n",
       "  </thead>\n",
       "  <tbody>\n",
       "    <tr>\n",
       "      <th rowspan=\"4\" valign=\"top\">Communications</th>\n",
       "      <th>AI</th>\n",
       "      <td>0</td>\n",
       "    </tr>\n",
       "    <tr>\n",
       "      <th>GSA-Spoke</th>\n",
       "      <td>0</td>\n",
       "    </tr>\n",
       "    <tr>\n",
       "      <th>MSFT</th>\n",
       "      <td>0</td>\n",
       "    </tr>\n",
       "    <tr>\n",
       "      <th>MDM-DQG</th>\n",
       "      <td>0</td>\n",
       "    </tr>\n",
       "    <tr>\n",
       "      <th rowspan=\"4\" valign=\"top\">Finance</th>\n",
       "      <th>Data</th>\n",
       "      <td>1763</td>\n",
       "    </tr>\n",
       "    <tr>\n",
       "      <th>ModernDataEngineering</th>\n",
       "      <td>1420</td>\n",
       "    </tr>\n",
       "    <tr>\n",
       "      <th>AISQUAD</th>\n",
       "      <td>611</td>\n",
       "    </tr>\n",
       "    <tr>\n",
       "      <th>CloudDataIntegration</th>\n",
       "      <td>578</td>\n",
       "    </tr>\n",
       "    <tr>\n",
       "      <th rowspan=\"4\" valign=\"top\">Healthcare</th>\n",
       "      <th>AI</th>\n",
       "      <td>0</td>\n",
       "    </tr>\n",
       "    <tr>\n",
       "      <th>GSA-Spoke</th>\n",
       "      <td>0</td>\n",
       "    </tr>\n",
       "    <tr>\n",
       "      <th>MSFT</th>\n",
       "      <td>0</td>\n",
       "    </tr>\n",
       "    <tr>\n",
       "      <th>MDM-DQG</th>\n",
       "      <td>0</td>\n",
       "    </tr>\n",
       "    <tr>\n",
       "      <th rowspan=\"4\" valign=\"top\">Insurance</th>\n",
       "      <th>AI</th>\n",
       "      <td>0</td>\n",
       "    </tr>\n",
       "    <tr>\n",
       "      <th>GSA-Spoke</th>\n",
       "      <td>0</td>\n",
       "    </tr>\n",
       "    <tr>\n",
       "      <th>MSFT</th>\n",
       "      <td>0</td>\n",
       "    </tr>\n",
       "    <tr>\n",
       "      <th>MDM-DQG</th>\n",
       "      <td>0</td>\n",
       "    </tr>\n",
       "    <tr>\n",
       "      <th rowspan=\"4\" valign=\"top\">Manufacturing</th>\n",
       "      <th>ModernDataEngineering</th>\n",
       "      <td>1033</td>\n",
       "    </tr>\n",
       "    <tr>\n",
       "      <th>MSFT-Data</th>\n",
       "      <td>992</td>\n",
       "    </tr>\n",
       "    <tr>\n",
       "      <th>Data</th>\n",
       "      <td>540</td>\n",
       "    </tr>\n",
       "    <tr>\n",
       "      <th>ModernData-Indst</th>\n",
       "      <td>534</td>\n",
       "    </tr>\n",
       "    <tr>\n",
       "      <th rowspan=\"4\" valign=\"top\">Retail</th>\n",
       "      <th>ModernBI</th>\n",
       "      <td>1396</td>\n",
       "    </tr>\n",
       "    <tr>\n",
       "      <th>MDM-DQG</th>\n",
       "      <td>1066</td>\n",
       "    </tr>\n",
       "    <tr>\n",
       "      <th>Data</th>\n",
       "      <td>856</td>\n",
       "    </tr>\n",
       "    <tr>\n",
       "      <th>MSFT-Data</th>\n",
       "      <td>774</td>\n",
       "    </tr>\n",
       "    <tr>\n",
       "      <th rowspan=\"4\" valign=\"top\">Sciences</th>\n",
       "      <th>Data-Indst</th>\n",
       "      <td>3994</td>\n",
       "    </tr>\n",
       "    <tr>\n",
       "      <th>ModernBI</th>\n",
       "      <td>2340</td>\n",
       "    </tr>\n",
       "    <tr>\n",
       "      <th>ModernDataEngineering</th>\n",
       "      <td>2058</td>\n",
       "    </tr>\n",
       "    <tr>\n",
       "      <th>ModernData-Indst</th>\n",
       "      <td>1947</td>\n",
       "    </tr>\n",
       "    <tr>\n",
       "      <th rowspan=\"4\" valign=\"top\">Technology</th>\n",
       "      <th>AI</th>\n",
       "      <td>0</td>\n",
       "    </tr>\n",
       "    <tr>\n",
       "      <th>GSA-Spoke</th>\n",
       "      <td>0</td>\n",
       "    </tr>\n",
       "    <tr>\n",
       "      <th>MSFT</th>\n",
       "      <td>0</td>\n",
       "    </tr>\n",
       "    <tr>\n",
       "      <th>MDM-DQG</th>\n",
       "      <td>0</td>\n",
       "    </tr>\n",
       "  </tbody>\n",
       "</table>\n",
       "</div>"
      ],
      "text/plain": [
       "                                      service_lines\n",
       "category                                           \n",
       "Communications AI                                 0\n",
       "               GSA-Spoke                          0\n",
       "               MSFT                               0\n",
       "               MDM-DQG                            0\n",
       "Finance        Data                            1763\n",
       "               ModernDataEngineering           1420\n",
       "               AISQUAD                          611\n",
       "               CloudDataIntegration             578\n",
       "Healthcare     AI                                 0\n",
       "               GSA-Spoke                          0\n",
       "               MSFT                               0\n",
       "               MDM-DQG                            0\n",
       "Insurance      AI                                 0\n",
       "               GSA-Spoke                          0\n",
       "               MSFT                               0\n",
       "               MDM-DQG                            0\n",
       "Manufacturing  ModernDataEngineering           1033\n",
       "               MSFT-Data                        992\n",
       "               Data                             540\n",
       "               ModernData-Indst                 534\n",
       "Retail         ModernBI                        1396\n",
       "               MDM-DQG                         1066\n",
       "               Data                             856\n",
       "               MSFT-Data                        774\n",
       "Sciences       Data-Indst                      3994\n",
       "               ModernBI                        2340\n",
       "               ModernDataEngineering           2058\n",
       "               ModernData-Indst                1947\n",
       "Technology     AI                                 0\n",
       "               GSA-Spoke                          0\n",
       "               MSFT                               0\n",
       "               MDM-DQG                            0"
      ]
     },
     "execution_count": 103,
     "metadata": {},
     "output_type": "execute_result"
    }
   ],
   "source": [
    "top_categorys_df.groupby('category')['service_lines'].apply(lambda grp: grp.value_counts().nlargest(4)).to_frame()"
   ]
  },
  {
   "cell_type": "code",
   "execution_count": 104,
   "id": "c16e2e7b",
   "metadata": {},
   "outputs": [
    {
     "data": {
      "text/html": [
       "<div>\n",
       "<style scoped>\n",
       "    .dataframe tbody tr th:only-of-type {\n",
       "        vertical-align: middle;\n",
       "    }\n",
       "\n",
       "    .dataframe tbody tr th {\n",
       "        vertical-align: top;\n",
       "    }\n",
       "\n",
       "    .dataframe thead th {\n",
       "        text-align: right;\n",
       "    }\n",
       "</style>\n",
       "<table border=\"1\" class=\"dataframe\">\n",
       "  <thead>\n",
       "    <tr style=\"text-align: right;\">\n",
       "      <th></th>\n",
       "      <th></th>\n",
       "      <th>service_lines</th>\n",
       "    </tr>\n",
       "    <tr>\n",
       "      <th>category</th>\n",
       "      <th></th>\n",
       "      <th></th>\n",
       "    </tr>\n",
       "  </thead>\n",
       "  <tbody>\n",
       "    <tr>\n",
       "      <th rowspan=\"3\" valign=\"top\">Communications</th>\n",
       "      <th>AI</th>\n",
       "      <td>0</td>\n",
       "    </tr>\n",
       "    <tr>\n",
       "      <th>GSA-Spoke</th>\n",
       "      <td>0</td>\n",
       "    </tr>\n",
       "    <tr>\n",
       "      <th>MSFT</th>\n",
       "      <td>0</td>\n",
       "    </tr>\n",
       "    <tr>\n",
       "      <th rowspan=\"3\" valign=\"top\">Finance</th>\n",
       "      <th>AI</th>\n",
       "      <td>0</td>\n",
       "    </tr>\n",
       "    <tr>\n",
       "      <th>GSA-Spoke</th>\n",
       "      <td>0</td>\n",
       "    </tr>\n",
       "    <tr>\n",
       "      <th>MSFT</th>\n",
       "      <td>0</td>\n",
       "    </tr>\n",
       "    <tr>\n",
       "      <th rowspan=\"3\" valign=\"top\">Healthcare</th>\n",
       "      <th>DeliveryProgramManagement</th>\n",
       "      <td>9</td>\n",
       "    </tr>\n",
       "    <tr>\n",
       "      <th>AIML</th>\n",
       "      <td>3</td>\n",
       "    </tr>\n",
       "    <tr>\n",
       "      <th>Healthcare</th>\n",
       "      <td>3</td>\n",
       "    </tr>\n",
       "    <tr>\n",
       "      <th rowspan=\"3\" valign=\"top\">Insurance</th>\n",
       "      <th>AI</th>\n",
       "      <td>0</td>\n",
       "    </tr>\n",
       "    <tr>\n",
       "      <th>GSA-Spoke</th>\n",
       "      <td>0</td>\n",
       "    </tr>\n",
       "    <tr>\n",
       "      <th>MSFT</th>\n",
       "      <td>0</td>\n",
       "    </tr>\n",
       "    <tr>\n",
       "      <th rowspan=\"3\" valign=\"top\">Manufacturing</th>\n",
       "      <th>AI</th>\n",
       "      <td>0</td>\n",
       "    </tr>\n",
       "    <tr>\n",
       "      <th>GSA-Spoke</th>\n",
       "      <td>0</td>\n",
       "    </tr>\n",
       "    <tr>\n",
       "      <th>MSFT</th>\n",
       "      <td>0</td>\n",
       "    </tr>\n",
       "    <tr>\n",
       "      <th rowspan=\"3\" valign=\"top\">Retail</th>\n",
       "      <th>AI</th>\n",
       "      <td>0</td>\n",
       "    </tr>\n",
       "    <tr>\n",
       "      <th>GSA-Spoke</th>\n",
       "      <td>0</td>\n",
       "    </tr>\n",
       "    <tr>\n",
       "      <th>MSFT</th>\n",
       "      <td>0</td>\n",
       "    </tr>\n",
       "    <tr>\n",
       "      <th rowspan=\"3\" valign=\"top\">Sciences</th>\n",
       "      <th>AI</th>\n",
       "      <td>0</td>\n",
       "    </tr>\n",
       "    <tr>\n",
       "      <th>GSA-Spoke</th>\n",
       "      <td>0</td>\n",
       "    </tr>\n",
       "    <tr>\n",
       "      <th>MSFT</th>\n",
       "      <td>0</td>\n",
       "    </tr>\n",
       "    <tr>\n",
       "      <th rowspan=\"3\" valign=\"top\">Technology</th>\n",
       "      <th>MSFT-Data</th>\n",
       "      <td>147</td>\n",
       "    </tr>\n",
       "    <tr>\n",
       "      <th>ModernBI</th>\n",
       "      <td>146</td>\n",
       "    </tr>\n",
       "    <tr>\n",
       "      <th>ModernDataEngineering</th>\n",
       "      <td>144</td>\n",
       "    </tr>\n",
       "  </tbody>\n",
       "</table>\n",
       "</div>"
      ],
      "text/plain": [
       "                                          service_lines\n",
       "category                                               \n",
       "Communications AI                                     0\n",
       "               GSA-Spoke                              0\n",
       "               MSFT                                   0\n",
       "Finance        AI                                     0\n",
       "               GSA-Spoke                              0\n",
       "               MSFT                                   0\n",
       "Healthcare     DeliveryProgramManagement              9\n",
       "               AIML                                   3\n",
       "               Healthcare                             3\n",
       "Insurance      AI                                     0\n",
       "               GSA-Spoke                              0\n",
       "               MSFT                                   0\n",
       "Manufacturing  AI                                     0\n",
       "               GSA-Spoke                              0\n",
       "               MSFT                                   0\n",
       "Retail         AI                                     0\n",
       "               GSA-Spoke                              0\n",
       "               MSFT                                   0\n",
       "Sciences       AI                                     0\n",
       "               GSA-Spoke                              0\n",
       "               MSFT                                   0\n",
       "Technology     MSFT-Data                            147\n",
       "               ModernBI                             146\n",
       "               ModernDataEngineering                144"
      ]
     },
     "execution_count": 104,
     "metadata": {},
     "output_type": "execute_result"
    }
   ],
   "source": [
    "bottom_categorys_df.groupby('category')['service_lines'].apply(lambda grp: grp.value_counts().nlargest(3)).to_frame()"
   ]
  },
  {
   "cell_type": "markdown",
   "id": "0c8a2160",
   "metadata": {},
   "source": [
    "We can see that for:\n",
    "- Sciences, Data-Industry and Modern Business Intelligence are the most active category service lines\n",
    "- Finance, Data and Mordern Engineering are the most active category service lines\n",
    "- Manufacturing, Modern Data Engineering and Microsoft Data are the most active category service lines\n",
    "- Retail. Modern BI and MDM - DQG are the most active category service lines\n",
    "\n",
    "So we can deduce that projects that require data and, data engineering and modern BI associates are the best projects. "
   ]
  },
  {
   "cell_type": "markdown",
   "id": "3c1a8899",
   "metadata": {},
   "source": [
    "### Explore whether the proportions of associate grades per customer affects category performance"
   ]
  },
  {
   "cell_type": "code",
   "execution_count": 105,
   "id": "0a6681e5",
   "metadata": {},
   "outputs": [
    {
     "data": {
      "image/png": "[encoded data removed]",
      "text/plain": [
       "<Figure size 432x288 with 2 Axes>"
      ]
     },
     "metadata": {
      "needs_background": "light"
     },
     "output_type": "display_data"
    }
   ],
   "source": [
    "grade_list = ['Intern','PAT', 'P/PA', 'A', 'AD', 'Cont', 'SA', 'SM', 'SD', 'M', 'D']\n",
    "\n",
    "\n",
    "fig, axes = plt.subplots(1, 2, sharey=True)\n",
    "\n",
    "sns.countplot(y = 'grade', data =  top_categorys_df, ax = axes[0], order=grade_list)\n",
    "sns.countplot(y = 'grade', data =  bottom_categorys_df, ax = axes[1], order=grade_list)\n",
    "axes[0].set_xlabel('Top categorys')\n",
    "axes[0].set_ylabel('Count of Associates')\n",
    "axes[1].set_xlabel('Bottoms categorys')\n",
    "axes[1].set_ylabel(None)\n",
    "\n",
    "plt.subplots_adjust(#left=0.1,\n",
    "                    #bottom=0.1,\n",
    "                    #right=0.9,\n",
    "                    #top=0.9,\n",
    "                    wspace=0.8,\n",
    "                    hspace=0.4)\n",
    "\n",
    "plt.tight_layout()\n",
    "plt.title('Distribution of Associate Grades Between Top and Bottom categorys', x = -0.1, y = 1.05)\n",
    "plt.savefig('Number of Associate Per Grades Between Top and Bottom categorys.png', dpi = 300, bbox_inches = 'tight')\n",
    "plt.show()\n"
   ]
  },
  {
   "cell_type": "markdown",
   "id": "23c89152",
   "metadata": {},
   "source": [
    "We can see....."
   ]
  },
  {
   "cell_type": "code",
   "execution_count": 106,
   "id": "2f971a4b",
   "metadata": {},
   "outputs": [
    {
     "data": {
      "image/png": "[encoded data removed]",
      "text/plain": [
       "<Figure size 432x288 with 2 Axes>"
      ]
     },
     "metadata": {
      "needs_background": "light"
     },
     "output_type": "display_data"
    }
   ],
   "source": [
    "condensed_grade_order = ['Trainee','Associate', 'Senior', 'Manager/Director'] \n",
    " \n",
    "fig, axes = plt.subplots(1, 2, sharey=True)\n",
    "\n",
    "sns.countplot(y = 'condensed_grade', data =  df[df['category'].isin(top_categorys_list)], ax = axes[0], order=grade_list)\n",
    "sns.countplot(y = 'condensed_grade', data =  df[df['category'].isin(bottom_categorys_list)], ax = axes[1], order=grade_list)\n",
    "axes[0].set_xlabel('Top categorys')\n",
    "#axes[0].set_ylabel('Count of Associates')\n",
    "axes[1].set_xlabel('Bottoms categorys')\n",
    "axes[1].set_ylabel(None)\n",
    "\n",
    "plt.subplots_adjust(#left=0.1,\n",
    "                    #bottom=0.1,\n",
    "                    #right=0.9,\n",
    "                    #top=0.9,\n",
    "                    wspace=0.8,\n",
    "                    hspace=0.4)\n",
    "\n",
    "plt.tight_layout()\n",
    "plt.title('Distribution of Associate Grades Between Top and Bottom categorys', x = -0.1, y = 1.05)\n",
    "plt.savefig('Number of Associate Per Condensed Grades Between Top and Bottom categorys.png', dpi = 300, bbox_inches = 'tight')\n",
    "plt.show()"
   ]
  },
  {
   "cell_type": "markdown",
   "id": "50071d13",
   "metadata": {},
   "source": [
    "We can see that..."
   ]
  },
  {
   "cell_type": "markdown",
   "id": "f00b55b0",
   "metadata": {},
   "source": [
    "### Explore the relationship, if any, between billability types and category performance."
   ]
  },
  {
   "cell_type": "code",
   "execution_count": 107,
   "id": "ef12c57e",
   "metadata": {},
   "outputs": [
    {
     "data": {
      "image/png": "[encoded data removed]",
      "text/plain": [
       "<Figure size 479.375x360 with 1 Axes>"
      ]
     },
     "metadata": {
      "needs_background": "light"
     },
     "output_type": "display_data"
    }
   ],
   "source": [
    "joke = df.groupby(['category_category', 'category', 'billability'])['customer_id'].count().to_frame()\n",
    "joke.reset_index(inplace = True)\n",
    "joke = joke[joke['billability'].isin(['BFD', 'BTM', 'BTB'])]\n",
    "joke\n",
    "\n",
    "g = sns.catplot(x= 'billability', y = 'customer_id', \n",
    "        data = joke, kind='bar', ci = None, hue= 'category_category') #, col = 'category', order = billability_list)\n",
    "plt.yscale('log')\n",
    "\n",
    "plt.xlabel('Billability Type')\n",
    "plt.ylabel('Count of Customers (log scale)')\n",
    "plt.title('Number of Customers with each Billability Type')\n",
    "plt.savefig('Number of Customers with each Billability Type.png', dpi=300, bbox_inches='tight')\n",
    "#plt.show()"
   ]
  },
  {
   "cell_type": "code",
   "execution_count": 108,
   "id": "a30d89f2",
   "metadata": {},
   "outputs": [
    {
     "data": {
      "image/png": "[encoded data removed]",
      "text/plain": [
       "<Figure size 479.375x360 with 1 Axes>"
      ]
     },
     "metadata": {
      "needs_background": "light"
     },
     "output_type": "display_data"
    }
   ],
   "source": [
    "top_bottom_df = df[df['category_category'].isin(['Bottom category', 'Top category'])]\n",
    "\n",
    "g = sns.catplot(x= 'billability', data = top_bottom_df, kind='count', hue= 'category_category', \n",
    "        hue_order= ['Bottom category', 'Top category']) #, col = 'category', order = billability_list)\n",
    "\n",
    "plt.yscale('log')\n",
    "plt.xlabel('Billability Type')\n",
    "plt.ylabel('Count of Associates (log scale)')\n",
    "plt.title('Number of Associates with Each Billability Type')\n",
    "plt.savefig('Number of Associates with Each Billability Type.png', dpi=300, bbox_inches='tight')\n",
    "plt.show()"
   ]
  },
  {
   "cell_type": "markdown",
   "id": "4f7ff832",
   "metadata": {},
   "source": [
    "We can see there's no significant difference that would indicate the billability type contributes to the performance or success of a category."
   ]
  },
  {
   "cell_type": "markdown",
   "id": "5a88d35a",
   "metadata": {},
   "source": [
    "### Explore the utilisation percent per grade per category"
   ]
  },
  {
   "cell_type": "code",
   "execution_count": 109,
   "id": "df847230",
   "metadata": {},
   "outputs": [
    {
     "data": {
      "image/png": "[encoded data removed]",
      "text/plain": [
       "<Figure size 479.375x360 with 1 Axes>"
      ]
     },
     "metadata": {
      "needs_background": "light"
     },
     "output_type": "display_data"
    }
   ],
   "source": [
    "top_bottom_df = df[df['category_category'].isin(['Top category', 'Bottom category'])]\n",
    "\n",
    "g = sns.catplot(x= 'condensed_grade', y= 'utilisation_percent', data = top_bottom_df, kind='bar', \n",
    "                hue= 'category_category', order = condensed_grade_order)\n",
    "\n",
    "#plt.yscale('log')\n",
    "#plt.margins(x=0.0001)\n",
    "plt.title('Utilisation Percent Per Condensed Grade')\n",
    "plt.xlabel('Condensed Grade')\n",
    "plt.ylabel('Utilisatino %')\n",
    "plt.savefig('Utilisation Percent Per Condensed Grade.png', dpi =300, bbox_inches='tight')\n",
    "plt.show()"
   ]
  },
  {
   "cell_type": "markdown",
   "id": "89f572a4",
   "metadata": {},
   "source": [
    "Again, negligible difference"
   ]
  },
  {
   "cell_type": "code",
   "execution_count": 110,
   "id": "b7b32e1f",
   "metadata": {},
   "outputs": [
    {
     "data": {
      "image/png": "[encoded data removed]",
      "text/plain": [
       "<Figure size 479.375x360 with 1 Axes>"
      ]
     },
     "metadata": {
      "needs_background": "light"
     },
     "output_type": "display_data"
    }
   ],
   "source": [
    "g = sns.catplot(x= 'utilisation_type', #y='utilisation_percent',\n",
    "                data = top_bottom_df[top_bottom_df['utilisation_type'].isin(utilisation_type_order)], \n",
    "                kind='count', hue= 'category_category', order= utilisation_type_order\n",
    "                )\n",
    "\n",
    "#plt.yscale('log')\n",
    "plt.xticks(rotation = 45)\n",
    "plt.title('Utilisation Percent Per Condensed Grade')\n",
    "plt.xlabel('Condensed Grade')\n",
    "plt.ylabel('Utilisatino %')\n",
    "#plt.savefig('Utilisation Percent Per Condensed Grade.png', dpi =300, bbox_inches='tight')\n",
    "plt.show()"
   ]
  },
  {
   "cell_type": "code",
   "execution_count": 111,
   "id": "b7b32e1f",
   "metadata": {},
   "outputs": [
    {
     "data": {
      "image/png": "[encoded data removed]",
      "text/plain": [
       "<Figure size 479.375x360 with 1 Axes>"
      ]
     },
     "metadata": {
      "needs_background": "light"
     },
     "output_type": "display_data"
    }
   ],
   "source": [
    "g = sns.catplot(x= 'utilisation_type', y='utilisation_percent',\n",
    "                data = top_bottom_df[top_bottom_df['utilisation_type'].isin(utilisation_type_order)], \n",
    "                kind='bar', hue= 'category_category', order= utilisation_type_order\n",
    "                )\n",
    "\n",
    "#plt.yscale('log')\n",
    "plt.xticks(rotation = 45)\n",
    "plt.title('Utilisation Percent Per Condensed Grade')\n",
    "plt.xlabel('Condensed Grade')\n",
    "plt.ylabel('Utilisatino %')\n",
    "#plt.savefig('Utilisation Percent Per Condensed Grade.png', dpi =300, bbox_inches='tight')\n",
    "plt.show()"
   ]
  },
  {
   "cell_type": "markdown",
   "id": "03692228",
   "metadata": {},
   "source": [
    "Generally, trainees have the lowest utilisation percentage, but this is marginal\n",
    "While there is no significant difference in the utilisation percentage of the grades between the top and bottom categorys, overall, the "
   ]
  },
  {
   "cell_type": "markdown",
   "id": "91e8532c",
   "metadata": {},
   "source": [
    "### Mean Available vs Billed Hrs per Condensed grade per category"
   ]
  },
  {
   "cell_type": "code",
   "execution_count": 112,
   "id": "0976aefb",
   "metadata": {},
   "outputs": [
    {
     "name": "stderr",
     "output_type": "stream",
     "text": [
      "/opt/anaconda3/lib/python3.9/site-packages/seaborn/categorical.py:3775: UserWarning: catplot is a figure-level function and does not accept target axes. You may wish to try barplot\n",
      "  warnings.warn(msg, UserWarning)\n",
      "/opt/anaconda3/lib/python3.9/site-packages/seaborn/categorical.py:3775: UserWarning: catplot is a figure-level function and does not accept target axes. You may wish to try barplot\n",
      "  warnings.warn(msg, UserWarning)\n"
     ]
    },
    {
     "data": {
      "image/png": "[encoded data removed]",
      "text/plain": [
       "<Figure size 432x288 with 2 Axes>"
      ]
     },
     "metadata": {
      "needs_background": "light"
     },
     "output_type": "display_data"
    },
    {
     "data": {
      "image/png": "[encoded data removed]",
      "text/plain": [
       "<Figure size 462x360 with 1 Axes>"
      ]
     },
     "metadata": {
      "needs_background": "light"
     },
     "output_type": "display_data"
    },
    {
     "data": {
      "image/png": "[encoded data removed]",
      "text/plain": [
       "<Figure size 462x360 with 1 Axes>"
      ]
     },
     "metadata": {
      "needs_background": "light"
     },
     "output_type": "display_data"
    }
   ],
   "source": [
    "id_vars = ('associate_id', 'month', 'condensed_grade', 'category_category')\n",
    "value_vars = ('billed_hrs', 'available_hrs')\n",
    "\n",
    "top_bottom_df_melt = df[df['category_category'].isin(['Top category', 'Bottom category'])] \\\n",
    "        .melt(id_vars=id_vars, value_vars= value_vars, var_name='field', value_name= 'values')\n",
    "\n",
    "#top_bottom_df_melt[top_bottom_df_melt['category_category'] == 'Top category']\n",
    "\n",
    "# top_f = top_bottom_df_melt[(top_bottom_df_melt['field'] == 'category_category') & \\\n",
    "#         (top_bottom_df_melt['values'] == 'Top category')]\n",
    "\n",
    "# top_f\n",
    "\n",
    "# bottom_f = top_bottom_df_melt.loc(top_bottom_df_melt['field'] == 'category_category') & \\\n",
    "#         (top_bottom_df_melt['values'] == 'Bottom category')\n",
    "\n",
    "# top_bottom_df_melt\n",
    "fig, axes = plt.subplots(1, 2, sharey=True)\n",
    "\n",
    "sns.catplot(x= 'condensed_grade', y= 'values', \n",
    "                data = top_bottom_df_melt[top_bottom_df_melt['category_category'] == 'Top category'], \n",
    "                kind='bar', ax = axes[0],\n",
    "                hue= 'field', order = condensed_grade_order)\n",
    "\n",
    "sns.catplot(x= 'condensed_grade', y= 'values', \n",
    "                data = top_bottom_df_melt[top_bottom_df_melt['category_category'] == 'Bottom category'], \n",
    "                kind='bar', ax = axes[1],\n",
    "                hue= 'field', order = condensed_grade_order)\n",
    "\n",
    "\n",
    "axes[0].set_xlabel('Top categorys')\n",
    "axes[0].set_ylabel('Count of Associates')\n",
    "axes[1].set_xlabel('Bottoms categorys')\n",
    "axes[1].set_ylabel(None)\n",
    "\n",
    "plt.subplots_adjust(#left=0.1,\n",
    "                    #bottom=0.1,\n",
    "                    #right=0.9,\n",
    "                    #top=0.9,\n",
    "                    wspace=0.8,\n",
    "                    hspace=0.4)\n",
    "\n",
    "#plt.yscale('log')\n",
    "plt.show()"
   ]
  },
  {
   "cell_type": "code",
   "execution_count": 113,
   "id": "0976aefb",
   "metadata": {},
   "outputs": [
    {
     "data": {
      "image/png": "[encoded data removed]",
      "text/plain": [
       "<Figure size 479.375x360 with 1 Axes>"
      ]
     },
     "metadata": {
      "needs_background": "light"
     },
     "output_type": "display_data"
    }
   ],
   "source": [
    "top_bottom_df = df[df['category_category'].isin(['Top category', 'Bottom category'])]\n",
    "\n",
    "g = sns.catplot(x= 'condensed_grade', y= 'billed_hrs', data = top_bottom_df, kind='bar', \n",
    "                hue= 'category_category', order = condensed_grade_order)\n",
    "\n",
    "#plt.yscale('log')\n",
    "plt.show()"
   ]
  },
  {
   "cell_type": "code",
   "execution_count": 114,
   "id": "6dde07ff",
   "metadata": {},
   "outputs": [
    {
     "data": {
      "image/png": "[encoded data removed]",
      "text/plain": [
       "<Figure size 432x288 with 2 Axes>"
      ]
     },
     "metadata": {
      "needs_background": "light"
     },
     "output_type": "display_data"
    }
   ],
   "source": [
    "df_crosstab_2 = pd.crosstab(top_categorys_df['grade'], top_categorys_df['utilisation_type'], \n",
    "                    values = top_categorys_df['associate_id'], aggfunc= 'count', \n",
    "                    normalize='index').round(8).fillna(0) \n",
    "\n",
    "g = sns.heatmap(df_crosstab_2, annot=True, cmap= 'Blues', linewidths = .5, fmt = '.2f', )\n",
    "\n",
    "plt.yticks(rotation=0) \n",
    "plt.show()"
   ]
  },
  {
   "cell_type": "code",
   "execution_count": 115,
   "id": "5efd6df8",
   "metadata": {},
   "outputs": [
    {
     "data": {
      "image/png": "[encoded data removed]",
      "text/plain": [
       "<Figure size 432x288 with 2 Axes>"
      ]
     },
     "metadata": {
      "needs_background": "light"
     },
     "output_type": "display_data"
    }
   ],
   "source": [
    "df_crosstab_2 = pd.crosstab(bottom_categorys_df['grade'], bottom_categorys_df['utilisation_type'], \n",
    "                    values = bottom_categorys_df['associate_id'], aggfunc= 'count', \n",
    "                    normalize='index').round(8).fillna(0) \n",
    "\n",
    "g = sns.heatmap(df_crosstab_2, annot=True, cmap= 'Blues', linewidths = .5, fmt = '.2f', )\n",
    "\n",
    "plt.yticks(rotation=0) \n",
    "plt.show()"
   ]
  },
  {
   "cell_type": "code",
   "execution_count": 116,
   "id": "0c16cd6d",
   "metadata": {},
   "outputs": [
    {
     "data": {
      "text/plain": [
       "Offshore     47362\n",
       "Onsite       13760\n",
       "Nearshore      476\n",
       "Name: associate_location, dtype: int64"
      ]
     },
     "execution_count": 116,
     "metadata": {},
     "output_type": "execute_result"
    }
   ],
   "source": [
    "df['associate_location'].value_counts()"
   ]
  },
  {
   "cell_type": "code",
   "execution_count": 117,
   "id": "7cd787f9",
   "metadata": {},
   "outputs": [
    {
     "data": {
      "text/html": [
       "<div>\n",
       "<style scoped>\n",
       "    .dataframe tbody tr th:only-of-type {\n",
       "        vertical-align: middle;\n",
       "    }\n",
       "\n",
       "    .dataframe tbody tr th {\n",
       "        vertical-align: top;\n",
       "    }\n",
       "\n",
       "    .dataframe thead th {\n",
       "        text-align: right;\n",
       "    }\n",
       "</style>\n",
       "<table border=\"1\" class=\"dataframe\">\n",
       "  <thead>\n",
       "    <tr style=\"text-align: right;\">\n",
       "      <th>grade</th>\n",
       "      <th>A</th>\n",
       "      <th>AD</th>\n",
       "      <th>Cont</th>\n",
       "      <th>D</th>\n",
       "      <th>Intern</th>\n",
       "      <th>M</th>\n",
       "      <th>P/PA</th>\n",
       "      <th>PAT</th>\n",
       "      <th>SA</th>\n",
       "      <th>SD</th>\n",
       "      <th>SM</th>\n",
       "    </tr>\n",
       "    <tr>\n",
       "      <th>associate_location</th>\n",
       "      <th></th>\n",
       "      <th></th>\n",
       "      <th></th>\n",
       "      <th></th>\n",
       "      <th></th>\n",
       "      <th></th>\n",
       "      <th></th>\n",
       "      <th></th>\n",
       "      <th></th>\n",
       "      <th></th>\n",
       "      <th></th>\n",
       "    </tr>\n",
       "  </thead>\n",
       "  <tbody>\n",
       "    <tr>\n",
       "      <th>Nearshore</th>\n",
       "      <td>0.176</td>\n",
       "      <td>0.011</td>\n",
       "      <td>0.233</td>\n",
       "      <td>0.000</td>\n",
       "      <td>0.0</td>\n",
       "      <td>0.109</td>\n",
       "      <td>0.086</td>\n",
       "      <td>0.015</td>\n",
       "      <td>0.351</td>\n",
       "      <td>0.000</td>\n",
       "      <td>0.019</td>\n",
       "    </tr>\n",
       "    <tr>\n",
       "      <th>Offshore</th>\n",
       "      <td>0.277</td>\n",
       "      <td>0.014</td>\n",
       "      <td>0.024</td>\n",
       "      <td>0.003</td>\n",
       "      <td>0.0</td>\n",
       "      <td>0.150</td>\n",
       "      <td>0.147</td>\n",
       "      <td>0.124</td>\n",
       "      <td>0.220</td>\n",
       "      <td>0.000</td>\n",
       "      <td>0.041</td>\n",
       "    </tr>\n",
       "    <tr>\n",
       "      <th>Onsite</th>\n",
       "      <td>0.126</td>\n",
       "      <td>0.057</td>\n",
       "      <td>0.096</td>\n",
       "      <td>0.009</td>\n",
       "      <td>0.0</td>\n",
       "      <td>0.253</td>\n",
       "      <td>0.028</td>\n",
       "      <td>0.008</td>\n",
       "      <td>0.308</td>\n",
       "      <td>0.001</td>\n",
       "      <td>0.116</td>\n",
       "    </tr>\n",
       "  </tbody>\n",
       "</table>\n",
       "</div>"
      ],
      "text/plain": [
       "grade                   A     AD   Cont      D  Intern      M   P/PA    PAT  \\\n",
       "associate_location                                                            \n",
       "Nearshore           0.176  0.011  0.233  0.000     0.0  0.109  0.086  0.015   \n",
       "Offshore            0.277  0.014  0.024  0.003     0.0  0.150  0.147  0.124   \n",
       "Onsite              0.126  0.057  0.096  0.009     0.0  0.253  0.028  0.008   \n",
       "\n",
       "grade                  SA     SD     SM  \n",
       "associate_location                       \n",
       "Nearshore           0.351  0.000  0.019  \n",
       "Offshore            0.220  0.000  0.041  \n",
       "Onsite              0.308  0.001  0.116  "
      ]
     },
     "execution_count": 117,
     "metadata": {},
     "output_type": "execute_result"
    }
   ],
   "source": [
    "df_crosstab = pd.crosstab(df['associate_location'], df['grade'], values = df['associate_id'], aggfunc= 'count', normalize = 'index').round(3).fillna(0) \n",
    "df_crosstab"
   ]
  },
  {
   "cell_type": "markdown",
   "id": "1e3bd021",
   "metadata": {},
   "source": [
    "i need to add the proportions to this"
   ]
  },
  {
   "cell_type": "code",
   "execution_count": 118,
   "id": "783cddcc",
   "metadata": {},
   "outputs": [
    {
     "data": {
      "image/png": "[encoded data removed]",
      "text/plain": [
       "<Figure size 432x288 with 2 Axes>"
      ]
     },
     "metadata": {
      "needs_background": "light"
     },
     "output_type": "display_data"
    }
   ],
   "source": [
    "g = sns.heatmap(df_crosstab, annot=True, cmap= 'Blues', linewidths = .5, fmt = '.1f')\n",
    "plt.show()"
   ]
  },
  {
   "cell_type": "markdown",
   "id": "e9cdff84",
   "metadata": {},
   "source": [
    "### What is the relationship, if any. between the average number of associates per customer and the total_fte hours"
   ]
  },
  {
   "cell_type": "code",
   "execution_count": 119,
   "id": "adf6fce1",
   "metadata": {},
   "outputs": [
    {
     "data": {
      "text/plain": [
       "(0.0, 200.0)"
      ]
     },
     "execution_count": 119,
     "metadata": {},
     "output_type": "execute_result"
    },
    {
     "data": {
      "image/png": "[encoded data removed]",
      "text/plain": [
       "<Figure size 432x288 with 1 Axes>"
      ]
     },
     "metadata": {
      "needs_background": "light"
     },
     "output_type": "display_data"
    }
   ],
   "source": [
    "\n",
    "plt.scatter(\n",
    "    x = df[df['category'].isin(top_categorys_list)].groupby('customer_id')['associate_id'].nunique(),\n",
    "    y = df[df['category'].isin(top_categorys_list)].groupby('customer_id')['billed_hrs'].median(), \n",
    "    c= 'g', alpha = 0.2)\n",
    "\n",
    "plt.scatter(\n",
    "    x = df[df['category'].isin(bottom_categorys_list)].groupby('customer_id')['associate_id'].nunique(),\n",
    "    y = df[df['category'].isin(bottom_categorys_list)].groupby('customer_id')['billed_hrs'].median(), \n",
    "    c= 'b', alpha = 0.2)\n",
    "\n",
    "plt.xlim(0, 200)\n",
    "plt.ylim(0, 200)\n"
   ]
  },
  {
   "cell_type": "code",
   "execution_count": 120,
   "id": "f652d2d5",
   "metadata": {},
   "outputs": [
    {
     "data": {
      "text/html": [
       "<div>\n",
       "<style scoped>\n",
       "    .dataframe tbody tr th:only-of-type {\n",
       "        vertical-align: middle;\n",
       "    }\n",
       "\n",
       "    .dataframe tbody tr th {\n",
       "        vertical-align: top;\n",
       "    }\n",
       "\n",
       "    .dataframe thead th {\n",
       "        text-align: right;\n",
       "    }\n",
       "</style>\n",
       "<table border=\"1\" class=\"dataframe\">\n",
       "  <thead>\n",
       "    <tr style=\"text-align: right;\">\n",
       "      <th></th>\n",
       "      <th>avg_utilisation</th>\n",
       "      <th>avg_billed_hrs</th>\n",
       "      <th>avg_loc_avail_hrs</th>\n",
       "    </tr>\n",
       "    <tr>\n",
       "      <th>region</th>\n",
       "      <th></th>\n",
       "      <th></th>\n",
       "      <th></th>\n",
       "    </tr>\n",
       "  </thead>\n",
       "  <tbody>\n",
       "    <tr>\n",
       "      <th>Europe</th>\n",
       "      <td>0.780147</td>\n",
       "      <td>127.131268</td>\n",
       "      <td>181.69869</td>\n",
       "    </tr>\n",
       "    <tr>\n",
       "      <th>USA</th>\n",
       "      <td>0.349906</td>\n",
       "      <td>60.483827</td>\n",
       "      <td>176.15625</td>\n",
       "    </tr>\n",
       "  </tbody>\n",
       "</table>\n",
       "</div>"
      ],
      "text/plain": [
       "        avg_utilisation  avg_billed_hrs  avg_loc_avail_hrs\n",
       "region                                                    \n",
       "Europe         0.780147      127.131268          181.69869\n",
       "USA            0.349906       60.483827          176.15625"
      ]
     },
     "execution_count": 120,
     "metadata": {},
     "output_type": "execute_result"
    }
   ],
   "source": [
    "b_billability_df = bottom_categorys_df.groupby('region')['utilisation_percent'].mean().rename('avg_utilisation').to_frame()\n",
    "#billability_df['avg_utilisation'] = df.groupby('category')['utilisation_percent'].mean()\n",
    "b_billability_df['avg_billed_hrs'] = bottom_categorys_df.groupby('region')['billed_hrs'].mean()\n",
    "b_billability_df['avg_loc_avail_hrs'] = bottom_categorys_df.groupby('region')['location_avail_hrs'].mean()\n",
    "b_billability_df.reset_index(inplace=True)\n",
    "b_billability_df.set_index('region', inplace=True)\n",
    "b_billability_df"
   ]
  },
  {
   "cell_type": "code",
   "execution_count": 121,
   "id": "81a1d45b",
   "metadata": {},
   "outputs": [
    {
     "data": {
      "image/png": "[encoded data removed]",
      "text/plain": [
       "<Figure size 432x288 with 1 Axes>"
      ]
     },
     "metadata": {
      "needs_background": "light"
     },
     "output_type": "display_data"
    }
   ],
   "source": [
    "#fig, (ax1, ax2) = plt.subplots()\n",
    "\n",
    "column = 'billed_hrs'\n",
    "range = (0, 300)\n",
    "bins =  12\n",
    "\n",
    "plt.hist(top_categorys_df.groupby('customer_id')[column].median(), bins = bins, range= range, density= True, color='b', alpha= 0.4, label= 'Top categorys')\n",
    "plt.hist(bottom_categorys_df.groupby('customer_id')[column].median(), bins = bins, range= range, density= True, color='g', alpha= 0.4, label = 'Bottom categorys')\n",
    "\n",
    "#axes1 = sns.displot(top_categorys_df, x ='billed_hrs', bins = 10, ax= axes[0], kind = 'hist')\n",
    "#axes2 = sns.displot(bottom_categorys_df, x ='billed_hrs', bins = 10, ax= axes[1], kind = 'hist')\n",
    "plt.legend()\n",
    "plt.show()"
   ]
  },
  {
   "cell_type": "code",
   "execution_count": 122,
   "id": "81a1d45b",
   "metadata": {},
   "outputs": [
    {
     "data": {
      "image/png": "[encoded data removed]",
      "text/plain": [
       "<Figure size 432x288 with 1 Axes>"
      ]
     },
     "metadata": {
      "needs_background": "light"
     },
     "output_type": "display_data"
    }
   ],
   "source": [
    "#fig, (ax1, ax2) = plt.subplots()\n",
    "\n",
    "plt.hist(top_categorys_df['billed_hrs'], bins = 10, range= (-200, 500), density= True, color='b', alpha= 0.4)\n",
    "plt.hist(bottom_categorys_df['billed_hrs'], bins = 10, range= (-200, 500), density= True, color='g', alpha= 0.4)\n",
    "\n",
    "#axes1 = sns.displot(top_categorys_df, x ='billed_hrs', bins = 10, ax= axes[0], kind = 'hist')\n",
    "#axes2 = sns.displot(bottom_categorys_df, x ='billed_hrs', bins = 10, ax= axes[1], kind = 'hist')\n",
    "plt.show()"
   ]
  },
  {
   "cell_type": "markdown",
   "id": "dbd89262",
   "metadata": {},
   "source": [
    "The above histograms show the distribution of billed hrs across all associates. The top histogram is for those associates assigned to the top categorys and vice versa for the bottom histogram. The two distributions are pretty much identical; there is minute difference, if any. From this, we can assess that the number of billed hours is a not a contributing factor to the performance of a project in a particular industry industry."
   ]
  },
  {
   "cell_type": "code",
   "execution_count": null,
   "id": "6d6e14d2",
   "metadata": {},
   "outputs": [],
   "source": []
  }
 ],
 "metadata": {
  "kernelspec": {
   "display_name": "Python 3.9.7 ('base')",
   "language": "python",
   "name": "python3"
  },
  "language_info": {
   "codemirror_mode": {
    "name": "ipython",
    "version": 3
   },
   "file_extension": ".py",
   "mimetype": "text/x-python",
   "name": "python",
   "nbconvert_exporter": "python",
   "pygments_lexer": "ipython3",
   "version": "3.9.7"
  },
  "vscode": {
   "interpreter": {
    "hash": "40d3a090f54c6569ab1632332b64b2c03c39dcf918b08424e98f38b5ae0af88f"
   }
  }
 },
 "nbformat": 4,
 "nbformat_minor": 5
}
