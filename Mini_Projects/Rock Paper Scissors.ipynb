{
 "cells": [
  {
   "cell_type": "code",
   "execution_count": 1,
   "id": "30ecbd83",
   "metadata": {},
   "outputs": [],
   "source": [
    "import random"
   ]
  },
  {
   "cell_type": "code",
   "execution_count": 2,
   "id": "87f3ae70",
   "metadata": {
    "scrolled": true
   },
   "outputs": [
    {
     "name": "stdout",
     "output_type": "stream",
     "text": [
      "\n",
      "    What do you play?\n",
      "    'r' for rock,\n",
      "    'p' for paper,\n",
      "    's' for scissors: r\n",
      "You: r\n",
      "Computer: s\n",
      "You Won!\n"
     ]
    }
   ],
   "source": [
    "import random\n",
    "\n",
    "\n",
    "\n",
    "def play():\n",
    "    user = input(\"\"\"\n",
    "    What do you play?\n",
    "    'r' for rock,\n",
    "    'p' for paper,\n",
    "    's' for scissors: \"\"\")\n",
    "\n",
    "    computer = random.choice(['r', 'p', 's'])\n",
    "    \n",
    "    print('You: {}'.format(user))\n",
    "    print('Computer: {}'.format(computer))\n",
    "    \n",
    "    if user == computer:\n",
    "        return \"It's a tie!\"\n",
    "\n",
    "    if is_winner(user, computer):\n",
    "        return \"You Won!\"\n",
    "    \n",
    "    \n",
    "    return \"You lost!\"\n",
    "\n",
    "def is_winner(player, opponent):\n",
    "    if (player == 'r' and opponent == 's') or (player == 'p' and opponent == 'r') or (player == 's' and opponent == 'p'):\n",
    "        return True\n",
    "    \n"
   ]
  },
  {
   "cell_type": "code",
   "execution_count": 3,
   "id": "50614084",
   "metadata": {},
   "outputs": [
    {
     "ename": "NameError",
     "evalue": "name 'best_of' is not defined",
     "output_type": "error",
     "traceback": [
      "\u001b[0;31m---------------------------------------------------------------------------\u001b[0m",
      "\u001b[0;31mNameError\u001b[0m                                 Traceback (most recent call last)",
      "\u001b[0;32m/var/folders/9w/qn189rp947s031qfhzvqt0g40000gn/T/ipykernel_17569/3336418377.py\u001b[0m in \u001b[0;36m<module>\u001b[0;34m\u001b[0m\n\u001b[1;32m     33\u001b[0m \u001b[0;34m\u001b[0m\u001b[0m\n\u001b[1;32m     34\u001b[0m \u001b[0;34m\u001b[0m\u001b[0m\n\u001b[0;32m---> 35\u001b[0;31m \u001b[0;32mwhile\u001b[0m \u001b[0;34m(\u001b[0m\u001b[0muser_wins\u001b[0m \u001b[0;34m+\u001b[0m \u001b[0mcomputer_wins\u001b[0m\u001b[0;34m)\u001b[0m \u001b[0;34m<=\u001b[0m \u001b[0mbest_of\u001b[0m\u001b[0;34m:\u001b[0m\u001b[0;34m\u001b[0m\u001b[0;34m\u001b[0m\u001b[0m\n\u001b[0m\u001b[1;32m     36\u001b[0m     \u001b[0mbest_of\u001b[0m \u001b[0;34m=\u001b[0m \u001b[0minput\u001b[0m\u001b[0;34m(\u001b[0m\u001b[0;34m'Best out of?: '\u001b[0m\u001b[0;34m)\u001b[0m\u001b[0;34m\u001b[0m\u001b[0;34m\u001b[0m\u001b[0m\n\u001b[1;32m     37\u001b[0m     \u001b[0;32mif\u001b[0m \u001b[0muser\u001b[0m \u001b[0;34m==\u001b[0m \u001b[0;34m'q'\u001b[0m\u001b[0;34m:\u001b[0m\u001b[0;34m\u001b[0m\u001b[0;34m\u001b[0m\u001b[0m\n",
      "\u001b[0;31mNameError\u001b[0m: name 'best_of' is not defined"
     ]
    }
   ],
   "source": [
    "user_wins = 0\n",
    "computer_wins = 0\n",
    "\n",
    "options = ['r', 'p', 's']\n",
    "\n",
    "def play():\n",
    "    user = input(\"\"\"\n",
    "    What do you play?\n",
    "    'r' for rock,\n",
    "    'p' for paper,\n",
    "    's' for scissors:\n",
    "    Press 'q' to quit\"\"\")\n",
    "\n",
    "    computer = random.choice(options)\n",
    "    \n",
    "    print('You: {}'.format(user))\n",
    "    print('Computer: {}'.format(computer))\n",
    "    \n",
    "    if user == computer:\n",
    "        return \"It's a tie!\"\n",
    "\n",
    "    if is_winner(user, computer):\n",
    "        user_wins += 1\n",
    "        return \"You Won!\"\n",
    "    \n",
    "    else:\n",
    "        computer_wins += 1\n",
    "        return \"You lost!\"\n",
    "\n",
    "def is_winner(player, opponent):\n",
    "    if (player == 'r' and opponent == 's') or (player == 'p' and opponent == 'r') or (player == 's' and opponent == 'p'):\n",
    "        return True\n",
    "\n",
    "\n",
    "while (user_wins + computer_wins) <= best_of:\n",
    "    best_of = input('Best out of?: ')\n",
    "    if user == 'q':\n",
    "        break\n",
    "    \n",
    "    print(play())"
   ]
  },
  {
   "cell_type": "code",
   "execution_count": null,
   "id": "19856a66",
   "metadata": {},
   "outputs": [],
   "source": [
    "import random\n",
    "\n",
    "user_wins = 0\n",
    "computer_wins = 0\n",
    "\n",
    "options = [\"r\", \"p\", \"s\"]\n",
    "\n",
    "best_of = int(input('Best out of: '))\n",
    "\n",
    "\n",
    "def is_winner(player, opponent):\n",
    "    if (player == 'r' and opponent == 's') or \\\n",
    "    (player == 'p' and opponent == 'r') or \\\n",
    "    (player == 's' and opponent == 'p'):\n",
    "        return True\n",
    "\n",
    "while (user_wins + computer_wins) <= best_of:\n",
    "    user_input = input(\"\"\"\n",
    "    What do you play?\n",
    "    'r' for rock,\n",
    "    'p' for paper,\n",
    "    's' for scissors:\n",
    "    Press 'q' to quit\"\"\").lower()\n",
    "    \n",
    "    if user_input == \"q\":\n",
    "        break\n",
    "\n",
    "    elif user_input not in options:\n",
    "        continue\n",
    "\n",
    "    computer_pick = random.choice(options)\n",
    "    \n",
    "    print(\"You picked: \", user_input)\n",
    "    print(\"Computer picked: \", computer_pick)\n",
    "    \n",
    "    elif user_input == computer_pick:\n",
    "        print('It\\'s a tie!')\n",
    "        continue\n",
    "    \n",
    "    elif is_winner(user_input, computer_pick):\n",
    "        print('You won!')\n",
    "        user_wins += 1\n",
    "\n",
    "    else:\n",
    "        print(\"You lost!\")\n",
    "        computer_wins += 1\n",
    "\n",
    "print(\"You won \", user_wins, \" times.\")\n",
    "print(\"The computer won \", computer_wins, \" times.\")\n",
    "print(\"Goodbye!\")"
   ]
  },
  {
   "cell_type": "code",
   "execution_count": null,
   "id": "cf86dc1d",
   "metadata": {},
   "outputs": [],
   "source": [
    "print(play())\n"
   ]
  },
  {
   "cell_type": "code",
   "execution_count": null,
   "id": "59e7ce73",
   "metadata": {},
   "outputs": [],
   "source": []
  },
  {
   "cell_type": "code",
   "execution_count": null,
   "id": "f78b418d",
   "metadata": {},
   "outputs": [],
   "source": []
  }
 ],
 "metadata": {
  "kernelspec": {
   "display_name": "Python 3 (ipykernel)",
   "language": "python",
   "name": "python3"
  },
  "language_info": {
   "codemirror_mode": {
    "name": "ipython",
    "version": 3
   },
   "file_extension": ".py",
   "mimetype": "text/x-python",
   "name": "python",
   "nbconvert_exporter": "python",
   "pygments_lexer": "ipython3",
   "version": "3.9.7"
  }
 },
 "nbformat": 4,
 "nbformat_minor": 5
}
