{
 "cells": [
  {
   "cell_type": "code",
   "execution_count": 19,
   "metadata": {},
   "outputs": [],
   "source": [
    "import json\n",
    "import requests\n",
    "import pandas as pd"
   ]
  },
  {
   "cell_type": "code",
   "execution_count": 20,
   "metadata": {},
   "outputs": [],
   "source": [
    "url = 'https://api.stackexchange.com/2.3/questions?order=desc&sort=activity&site=stackoverflow'"
   ]
  },
  {
   "cell_type": "code",
   "execution_count": 21,
   "metadata": {},
   "outputs": [],
   "source": [
    "response = requests.get(url)"
   ]
  },
  {
   "cell_type": "code",
   "execution_count": 22,
   "metadata": {},
   "outputs": [
    {
     "name": "stdout",
     "output_type": "stream",
     "text": [
      "{'items': [{'tags': ['iis', '.net-6.0'], 'owner': {'account_id': 14711, 'reputation': 10052, 'user_id': 30512, 'user_type': 'registered', 'accept_rate': 73, 'profile_image': 'https://www.gravatar.com/avatar/65858f22983cc45fe7390683eb4807f4?s=256&d=identicon&r=PG', 'display_name': 'Echilon', 'link': 'https://stackoverflow.com/users/30512/echilon'}, 'is_answered': False, 'view_count': 1, 'answer_count': 0, 'score': 0, 'last_activity_date': 1690366181, 'creation_date': 1690366181, 'question_id': 76770151, 'content_license': 'CC BY-SA 4.0', 'link': 'https://stackoverflow.com/questions/76770151/hosting-net-6-web-app-in-iis-403-14-error', 'title': 'Hosting .Net 6 web app in IIS - 403.14 error'}, {'tags': ['time', 'verilog', 'delay', 'fsm', 'state-machine'], 'owner': {'account_id': 8386811, 'reputation': 3, 'user_id': 6296955, 'user_type': 'registered', 'profile_image': 'https://www.gravatar.com/avatar/95199885e8ec5fb68c8f284e883fd911?s=256&d=identicon&r=PG&f=y&so-version=2', 'display_name': 'Jeffrey1027', 'link': 'https://stackoverflow.com/users/6296955/jeffrey1027'}, 'is_answered': True, 'view_count': 3226, 'accepted_answer_id': 37077793, 'answer_count': 2, 'score': 0, 'last_activity_date': 1690366168, 'creation_date': 1462553590, 'last_edit_date': 1462555745, 'question_id': 37077668, 'content_license': 'CC BY-SA 3.0', 'link': 'https://stackoverflow.com/questions/37077668/how-to-implement-time-delay-into-verilog-fsm', 'title': 'How to implement time delay into Verilog FSM'}, {'tags': ['c++', 'c', 'linux'], 'owner': {'account_id': 28261474, 'reputation': 11, 'user_id': 21771470, 'user_type': 'registered', 'profile_image': 'https://lh3.googleusercontent.com/a/AGNmyxbZ-j7jIxloLrA_ATs2VO0BimTvCWR9RowCsnMg=k-s256', 'display_name': 'Klen', 'link': 'https://stackoverflow.com/users/21771470/klen'}, 'is_answered': False, 'view_count': 2, 'answer_count': 0, 'score': 0, 'last_activity_date': 1690366167, 'creation_date': 1690366167, 'question_id': 76770149, 'content_license': 'CC BY-SA 4.0', 'link': 'https://stackoverflow.com/questions/76770149/is-there-a-way-save-an-open-file-with-a-new-name', 'title': 'Is there a way save an open file with a new name'}, {'tags': ['android', 'flutter', 'dart', 'flutter-dependencies', 'dart-pub'], 'owner': {'account_id': 24263857, 'reputation': 385, 'user_id': 18213063, 'user_type': 'registered', 'profile_image': 'https://www.gravatar.com/avatar/f279cfe3ea97e415e98ef856cf478e74?s=256&d=identicon&r=PG', 'display_name': 'SimbaOG', 'link': 'https://stackoverflow.com/users/18213063/simbaog'}, 'is_answered': False, 'view_count': 371, 'answer_count': 1, 'score': 1, 'last_activity_date': 1690366167, 'creation_date': 1645532442, 'question_id': 71221193, 'content_license': 'CC BY-SA 4.0', 'link': 'https://stackoverflow.com/questions/71221193/unable-to-use-flutter-secure-storage-package-i-keep-on-getting-errors', 'title': 'Unable to use flutter_secure_storage package. I keep on getting errors'}, {'tags': ['r', 'merge'], 'owner': {'account_id': 19776215, 'reputation': 117, 'user_id': 14482089, 'user_type': 'registered', 'profile_image': 'https://www.gravatar.com/avatar/8fd1a994e80bdeb0a236525e1ae17632?s=256&d=identicon&r=PG&f=y&so-version=2', 'display_name': 'w5698', 'link': 'https://stackoverflow.com/users/14482089/w5698'}, 'is_answered': False, 'view_count': 72, 'bounty_amount': 50, 'bounty_closes_date': 1690894001, 'answer_count': 1, 'score': 0, 'last_activity_date': 1690366164, 'creation_date': 1689600296, 'last_edit_date': 1690311323, 'question_id': 76704935, 'content_license': 'CC BY-SA 4.0', 'link': 'https://stackoverflow.com/questions/76704935/how-to-deal-with-issue-merging-two-datasets', 'title': 'How to deal with issue merging two datasets?'}, {'tags': ['azure', 'azure-functions', 'azure-app-service-plans'], 'owner': {'account_id': 6196553, 'reputation': 2683, 'user_id': 4827663, 'user_type': 'registered', 'accept_rate': 60, 'profile_image': 'https://www.gravatar.com/avatar/6a446465ee31335f00a18866af9ec55b?s=256&d=identicon&r=PG&f=y&so-version=2', 'display_name': 'Rakesh Kumar', 'link': 'https://stackoverflow.com/users/4827663/rakesh-kumar'}, 'is_answered': True, 'view_count': 10665, 'accepted_answer_id': 63260637, 'answer_count': 5, 'score': 7, 'last_activity_date': 1690366156, 'creation_date': 1596611110, 'question_id': 63260033, 'content_license': 'CC BY-SA 4.0', 'link': 'https://stackoverflow.com/questions/63260033/difference-between-scale-up-and-scale-out-app-service-plan', 'title': 'Difference between Scale up and Scale out App Service plan'}, {'tags': ['python', 'alteryx'], 'owner': {'account_id': 29094222, 'reputation': 1, 'user_id': 22287444, 'user_type': 'registered', 'profile_image': 'https://lh3.googleusercontent.com/a/AAcHTtepNjrn5wq5izvknb7_GffHTlCqytHVUSWWOx-DnqX0TmY=k-s256', 'display_name': 'usama nomani', 'link': 'https://stackoverflow.com/users/22287444/usama-nomani'}, 'is_answered': False, 'view_count': 4, 'answer_count': 1, 'score': 0, 'last_activity_date': 1690366155, 'creation_date': 1690365564, 'last_edit_date': 1690365719, 'question_id': 76770066, 'content_license': 'CC BY-SA 4.0', 'link': 'https://stackoverflow.com/questions/76770066/resolving-modulenotfounderror-in-alteryx-python-sdk-implementing-a-custom-too', 'title': 'Resolving &#39;ModuleNotFoundError&#39; in Alteryx Python SDK: Implementing a Custom Tool in Alteryx Designer'}, {'tags': ['node.js', 'postgresql', 'sequelize.js', 'psql'], 'owner': {'account_id': 29092663, 'reputation': 1, 'user_id': 22286138, 'user_type': 'registered', 'profile_image': 'https://www.gravatar.com/avatar/c668a6762f167cb301cdf44fa22abeea?s=256&d=identicon&r=PG&f=y&so-version=2', 'display_name': 'executingDefault', 'link': 'https://stackoverflow.com/users/22286138/executingdefault'}, 'is_answered': False, 'view_count': 19, 'answer_count': 1, 'score': 0, 'last_activity_date': 1690366151, 'creation_date': 1690351479, 'last_edit_date': 1690351513, 'question_id': 76768426, 'content_license': 'CC BY-SA 4.0', 'link': 'https://stackoverflow.com/questions/76768426/how-to-create-2-tables-with-relationships-to-each-other-through-shell', 'title': 'How to create 2 tables with relationships to each other through shell?'}, {'tags': ['python-3.x', 'openai-api', 'langchain'], 'owner': {'account_id': 6444670, 'reputation': 10503, 'user_id': 4993513, 'user_type': 'registered', 'accept_rate': 70, 'profile_image': 'https://i.stack.imgur.com/z0jss.png?s=256&g=1', 'display_name': 'Dawny33', 'link': 'https://stackoverflow.com/users/4993513/dawny33'}, 'is_answered': False, 'view_count': 4, 'answer_count': 1, 'score': 0, 'last_activity_date': 1690366143, 'creation_date': 1690364769, 'question_id': 76769946, 'content_license': 'CC BY-SA 4.0', 'link': 'https://stackoverflow.com/questions/76769946/openai-keeps-throwing-ratelimiterror-without-letting-through-even-a-single-reque', 'title': 'Openai keeps throwing RateLimitError without letting through even a single request'}, {'tags': ['amazon-web-services', 'amazon-s3', 'amazon-ec2', 'aws-lambda', 'pmd'], 'owner': {'account_id': 29094080, 'reputation': 1, 'user_id': 22287328, 'user_type': 'registered', 'profile_image': 'https://www.gravatar.com/avatar/b472c0cffee969329fc7746b06c52c87?s=256&d=identicon&r=PG&f=y&so-version=2', 'display_name': 'Nowshad', 'link': 'https://stackoverflow.com/users/22287328/nowshad'}, 'is_answered': False, 'view_count': 6, 'answer_count': 0, 'score': -1, 'last_activity_date': 1690366142, 'creation_date': 1690364234, 'last_edit_date': 1690366142, 'question_id': 76769843, 'content_license': 'CC BY-SA 4.0', 'link': 'https://stackoverflow.com/questions/76769843/programming-mistake-detector-pmd-setup-with-aws', 'title': 'Programming Mistake Detector (PMD) setup with AWS'}, {'tags': ['reactjs', 'pdf.js', 'react-pdf'], 'owner': {'account_id': 18965655, 'reputation': 127, 'user_id': 13840216, 'user_type': 'registered', 'profile_image': 'https://lh5.googleusercontent.com/-4HrGB43F0qQ/AAAAAAAAAAI/AAAAAAAAAAA/AMZuucmgJLRNT1EO5xsGaIwTkP40A7seLw/photo.jpg?sz=256', 'display_name': 'amu03', 'link': 'https://stackoverflow.com/users/13840216/amu03'}, 'is_answered': False, 'view_count': 9, 'answer_count': 1, 'score': 0, 'last_activity_date': 1690366140, 'creation_date': 1690362702, 'question_id': 76769638, 'content_license': 'CC BY-SA 4.0', 'link': 'https://stackoverflow.com/questions/76769638/how-to-use-pdfdatarangetransport-with-react-pdf', 'title': 'how to use PDFDataRangeTransport with &#39;react-pdf&#39;?'}, {'tags': ['sql-server', 'integration-testing', 'redgate'], 'owner': {'account_id': 1054799, 'reputation': 5307, 'user_id': 1057767, 'user_type': 'registered', 'accept_rate': 68, 'profile_image': 'https://i.stack.imgur.com/lEmPU.jpg?s=256&g=1', 'display_name': 'mtkachenko', 'link': 'https://stackoverflow.com/users/1057767/mtkachenko'}, 'is_answered': False, 'view_count': 5, 'answer_count': 0, 'score': 0, 'last_activity_date': 1690366138, 'creation_date': 1690364422, 'last_edit_date': 1690366138, 'question_id': 76769875, 'content_license': 'CC BY-SA 4.0', 'link': 'https://stackoverflow.com/questions/76769875/initialize-empty-database-from-sql-scripts-generated-by-redgate-sql-source-contr', 'title': 'Initialize empty database from SQL scripts generated by Redgate SQL Source Control'}, {'tags': ['javascript', 'reactjs', 'popup', 'reactjs-popup'], 'owner': {'account_id': 27680835, 'reputation': 1, 'user_id': 21129617, 'user_type': 'registered', 'profile_image': 'https://www.gravatar.com/avatar/519824579e87189aa3736bbf45928e47?s=256&d=identicon&r=PG&f=y&so-version=2', 'display_name': 'Ace Dom', 'link': 'https://stackoverflow.com/users/21129617/ace-dom'}, 'is_answered': False, 'view_count': 3, 'answer_count': 0, 'score': 0, 'last_activity_date': 1690366137, 'creation_date': 1690366137, 'question_id': 76770143, 'content_license': 'CC BY-SA 4.0', 'link': 'https://stackoverflow.com/questions/76770143/reactjs-popup-how-do-i-make-a-popup-to-my-web-after-a-double-click-event', 'title': 'reactjs-popup: How do I make a Popup to my web after a double click event'}, {'tags': ['javascript', 'node.js', 'class', 'object', 'variable-assignment'], 'owner': {'account_id': 29094177, 'reputation': 1, 'user_id': 22287410, 'user_type': 'registered', 'profile_image': 'https://lh3.googleusercontent.com/a/AAcHTtfBMmaAbKgSEfadWAR1XFhPmOelU8ELOJmwBHHLk24_=k-s256', 'display_name': 'Giafar the mistery dev', 'link': 'https://stackoverflow.com/users/22287410/giafar-the-mistery-dev'}, 'is_answered': False, 'view_count': 4, 'answer_count': 0, 'score': 0, 'last_activity_date': 1690366136, 'creation_date': 1690366136, 'question_id': 76770142, 'content_license': 'CC BY-SA 4.0', 'link': 'https://stackoverflow.com/questions/76770142/strange-assignment-in-javascript', 'title': 'Strange assignment in Javascript'}, {'tags': ['azure-active-directory', 'active-directory'], 'owner': {'account_id': 23588269, 'reputation': 1, 'user_id': 22287520, 'user_type': 'registered', 'profile_image': 'https://www.gravatar.com/avatar/574996aafac00fe8851d3ea453f289dc?s=256&d=identicon&r=PG', 'display_name': 'MYGMYGMYG', 'link': 'https://stackoverflow.com/users/22287520/mygmygmyg'}, 'is_answered': False, 'view_count': 2, 'answer_count': 0, 'score': 0, 'last_activity_date': 1690366122, 'creation_date': 1690366122, 'question_id': 76770141, 'content_license': 'CC BY-SA 4.0', 'link': 'https://stackoverflow.com/questions/76770141/no-events-after-audit-detailed-directory-service-replication-gpo-applied-to-dc', 'title': 'No events after Audit Detailed Directory Service Replication GPO applied to DC'}, {'tags': ['python', 'yolo', 'yolov8'], 'owner': {'account_id': 29057596, 'reputation': 1, 'user_id': 22259043, 'user_type': 'registered', 'profile_image': 'https://lh3.googleusercontent.com/a/AAcHTtcgYcMenEEzJGSSw2Nm4eNGSf75pm-4oZm6ucoUzZNF=k-s256', 'display_name': 'Laborat&#243;rio SPI Sul', 'link': 'https://stackoverflow.com/users/22259043/laborat%c3%b3rio-spi-sul'}, 'is_answered': False, 'view_count': 21, 'answer_count': 1, 'score': 0, 'last_activity_date': 1690366113, 'creation_date': 1689861919, 'question_id': 76730719, 'content_license': 'CC BY-SA 4.0', 'link': 'https://stackoverflow.com/questions/76730719/yolo-v8-reset-all', 'title': 'YOLO v8 RESET ALL'}, {'tags': ['python', 'python-decorators'], 'owner': {'account_id': 26967693, 'reputation': 1, 'user_id': 20534239, 'user_type': 'registered', 'profile_image': 'https://www.gravatar.com/avatar/6b5442debe3a04338a425ac24323c5cc?s=256&d=identicon&r=PG', 'display_name': 'yanky', 'link': 'https://stackoverflow.com/users/20534239/yanky'}, 'is_answered': False, 'view_count': 50, 'answer_count': 1, 'score': 0, 'last_activity_date': 1690366109, 'creation_date': 1689017828, 'last_edit_date': 1689567389, 'question_id': 76656808, 'content_license': 'CC BY-SA 4.0', 'link': 'https://stackoverflow.com/questions/76656808/creating-a-logger-decorator-for-caesar-cipher-implementation-in-python', 'title': 'Creating a logger decorator, for caesar cipher implementation in Python'}, {'tags': ['javascript', 'html', 'dom', 'async.js'], 'owner': {'account_id': 28118440, 'reputation': 11, 'user_id': 21485099, 'user_type': 'registered', 'profile_image': 'https://www.gravatar.com/avatar/f9aecad28db658e66ddb97e1042fca9e?s=256&d=identicon&r=PG&f=y&so-version=2', 'display_name': 'C410lol', 'link': 'https://stackoverflow.com/users/21485099/c410lol'}, 'is_answered': False, 'view_count': 30, 'answer_count': 2, 'score': 1, 'last_activity_date': 1690366098, 'creation_date': 1690340107, 'last_edit_date': 1690341741, 'question_id': 76767736, 'content_license': 'CC BY-SA 4.0', 'link': 'https://stackoverflow.com/questions/76767736/load-script-with-async-functions-before-any-element', 'title': 'Load Script With Async Functions Before Any Element'}, {'tags': ['google-cloud-functions', 'terraform'], 'owner': {'account_id': 14635143, 'reputation': 217, 'user_id': 10569563, 'user_type': 'registered', 'profile_image': 'https://lh6.googleusercontent.com/-6L_jrC_0v7A/AAAAAAAAAAI/AAAAAAAAAAA/ABtNlbAmPdBgsx1JTfmHYf6aISdBIPsLIA/mo/photo.jpg?sz=256', 'display_name': 'Zuerst', 'link': 'https://stackoverflow.com/users/10569563/zuerst'}, 'is_answered': False, 'view_count': 355, 'answer_count': 1, 'score': 0, 'last_activity_date': 1690366096, 'creation_date': 1665208734, 'question_id': 73994751, 'content_license': 'CC BY-SA 4.0', 'link': 'https://stackoverflow.com/questions/73994751/how-to-add-policy-to-restrict-google-cloud-function-invoker-using-terraform', 'title': 'How to add policy to restrict google cloud function invoker using Terraform'}, {'tags': ['python', 'pip', 'package'], 'owner': {'account_id': 18327035, 'reputation': 105, 'user_id': 13346446, 'user_type': 'registered', 'profile_image': 'https://www.gravatar.com/avatar/19ca967b05947054fb844e983ec588a7?s=256&d=identicon&r=PG&f=y&so-version=2', 'display_name': 'HOH_HOH', 'link': 'https://stackoverflow.com/users/13346446/hoh-hoh'}, 'is_answered': False, 'view_count': 11783, 'answer_count': 1, 'score': 2, 'last_activity_date': 1690366091, 'creation_date': 1661651797, 'question_id': 73515505, 'content_license': 'CC BY-SA 4.0', 'link': 'https://stackoverflow.com/questions/73515505/pip-error-pips-dependency-resolver-does-not-currently-take-into-account-all-th', 'title': 'pip ERROR: pip&#39;s dependency resolver does not currently take into account all the packages that are installed'}, {'tags': ['python', 'json', 'logging'], 'owner': {'account_id': 10413339, 'reputation': 71, 'user_id': 7678134, 'user_type': 'registered', 'profile_image': 'https://www.gravatar.com/avatar/4664546941f1e47b7071a6e8cc171810?s=256&d=identicon&r=PG&f=y&so-version=2', 'display_name': 'RandomMario', 'link': 'https://stackoverflow.com/users/7678134/randommario'}, 'is_answered': False, 'view_count': 12529, 'answer_count': 1, 'score': 2, 'last_activity_date': 1690366091, 'creation_date': 1506515909, 'last_edit_date': 1687722670, 'question_id': 46448113, 'content_license': 'CC BY-SA 4.0', 'link': 'https://stackoverflow.com/questions/46448113/python-logging-with-json-config-file', 'title': 'Python logging with json config file'}, {'tags': ['c#', 'rabbitmq'], 'owner': {'account_id': 4819536, 'reputation': 765, 'user_id': 3890577, 'user_type': 'registered', 'accept_rate': 67, 'profile_image': 'https://www.gravatar.com/avatar/19e5e54e84f55c301441593f572197ce?s=256&d=identicon&r=PG&f=y&so-version=2', 'display_name': 'Twi', 'link': 'https://stackoverflow.com/users/3890577/twi'}, 'is_answered': False, 'view_count': 9163, 'answer_count': 2, 'score': 0, 'last_activity_date': 1690366091, 'creation_date': 1465202882, 'last_edit_date': 1465211851, 'question_id': 37653116, 'content_license': 'CC BY-SA 3.0', 'link': 'https://stackoverflow.com/questions/37653116/cannot-connect-to-rabbitmq-server', 'title': 'Cannot connect to RabbitMQ server'}, {'tags': ['excel', 'vba', 'full-text-search'], 'owner': {'account_id': 7095265, 'reputation': 69, 'user_id': 5429103, 'user_type': 'registered', 'accept_rate': 25, 'profile_image': 'https://www.gravatar.com/avatar/63522ef59c587bc3f0074e4227bd7d4d?s=256&d=identicon&r=PG&f=y&so-version=2', 'display_name': 'exlover', 'link': 'https://stackoverflow.com/users/5429103/exlover'}, 'is_answered': False, 'view_count': 10579, 'answer_count': 2, 'score': 0, 'last_activity_date': 1690366091, 'creation_date': 1457389897, 'last_edit_date': 1593588683, 'question_id': 35855435, 'content_license': 'CC BY-SA 4.0', 'link': 'https://stackoverflow.com/questions/35855435/excel-vba-to-search-for-list-of-keywords-in-a-cell-given-a-value-in-another-cell', 'title': 'Excel VBA to search for list of keywords in a cell given a value in another cell and then make changes to a third cell'}, {'tags': ['sql', 'plpgsql', 'supabase'], 'owner': {'account_id': 13548557, 'reputation': 107, 'user_id': 9774071, 'user_type': 'registered', 'profile_image': 'https://lh3.googleusercontent.com/-XdUIqdMkCWA/AAAAAAAAAAI/AAAAAAAAAAA/4252rscbv5M/photo.jpg?sz=256', 'display_name': 'goaty', 'link': 'https://stackoverflow.com/users/9774071/goaty'}, 'is_answered': False, 'view_count': 5, 'answer_count': 0, 'score': 1, 'last_activity_date': 1690366075, 'creation_date': 1690366075, 'question_id': 76770137, 'content_license': 'CC BY-SA 4.0', 'link': 'https://stackoverflow.com/questions/76770137/how-to-group-by-in-plpgsql', 'title': 'How to group by in plpgsql'}, {'tags': ['c', 'memcpy', 'strcpy'], 'owner': {'account_id': 62177, 'reputation': 20747, 'user_id': 184862, 'user_type': 'registered', 'accept_rate': 66, 'profile_image': 'https://i.stack.imgur.com/tIMOk.jpg?s=256&g=1', 'display_name': 'Sachin Chourasiya', 'link': 'https://stackoverflow.com/users/184862/sachin-chourasiya'}, 'is_answered': True, 'view_count': 124885, 'accepted_answer_id': 2900698, 'answer_count': 10, 'score': 97, 'last_activity_date': 1690366068, 'creation_date': 1274717350, 'last_edit_date': 1690366068, 'question_id': 2898364, 'content_license': 'CC BY-SA 4.0', 'link': 'https://stackoverflow.com/questions/2898364/strcpy-vs-memcpy', 'title': 'strcpy vs. memcpy'}, {'tags': ['java', 'ldap', 'identifier', 'unboundid-ldap-sdk', 'dn'], 'owner': {'account_id': 3163862, 'reputation': 36570, 'user_id': 2674303, 'user_type': 'registered', 'accept_rate': 62, 'profile_image': 'https://www.gravatar.com/avatar/411d782b77899035a96abb71b64e062a?s=256&d=identicon&r=PG', 'display_name': 'gstackoverflow', 'link': 'https://stackoverflow.com/users/2674303/gstackoverflow'}, 'is_answered': False, 'view_count': 11, 'answer_count': 0, 'score': 2, 'last_activity_date': 1690366065, 'creation_date': 1690361618, 'last_edit_date': 1690366065, 'question_id': 76769514, 'content_license': 'CC BY-SA 4.0', 'link': 'https://stackoverflow.com/questions/76769514/is-there-way-to-use-objectguid-instead-of-dn-in-ldap-api', 'title': 'Is there way to use ObjectGuid instead of dn in ldap api?'}, {'tags': ['vb.net'], 'owner': {'account_id': 29094201, 'reputation': 1, 'user_id': 22287428, 'user_type': 'registered', 'profile_image': 'https://www.gravatar.com/avatar/c418edb06e6c3d82767a29a263e5f3dd?s=256&d=identicon&r=PG&f=y&so-version=2', 'display_name': 'modely2k', 'link': 'https://stackoverflow.com/users/22287428/modely2k'}, 'is_answered': False, 'view_count': 3, 'answer_count': 0, 'score': 0, 'last_activity_date': 1690366063, 'creation_date': 1690366063, 'question_id': 76770136, 'content_license': 'CC BY-SA 4.0', 'link': 'https://stackoverflow.com/questions/76770136/email-sending-operation-has-timed-out', 'title': 'email sending operation has timed out'}, {'tags': ['.net', 'vault', 'vaultsharp'], 'owner': {'account_id': 15287130, 'reputation': 13, 'user_id': 11029843, 'user_type': 'registered', 'profile_image': 'https://www.gravatar.com/avatar/ce66d55fd09a2578a13585851cbe7a30?s=256&d=identicon&r=PG&f=y&so-version=2', 'display_name': 'lorenzotarquini', 'link': 'https://stackoverflow.com/users/11029843/lorenzotarquini'}, 'is_answered': False, 'view_count': 62, 'answer_count': 1, 'score': 0, 'last_activity_date': 1690366059, 'creation_date': 1675673177, 'question_id': 75359067, 'content_license': 'CC BY-SA 4.0', 'link': 'https://stackoverflow.com/questions/75359067/vaultsharp-httprequestexception', 'title': 'VaultSharp HttpRequestException'}, {'tags': ['asp.net-core', '.net-core'], 'owner': {'account_id': 18529822, 'reputation': 21, 'user_id': 13500883, 'user_type': 'registered', 'profile_image': 'https://www.gravatar.com/avatar/d6d1dd3c1ce1b2d29236940e2af569b4?s=256&d=identicon&r=PG&f=y&so-version=2', 'display_name': 'bmm', 'link': 'https://stackoverflow.com/users/13500883/bmm'}, 'is_answered': True, 'view_count': 265, 'answer_count': 2, 'score': 1, 'last_activity_date': 1690366053, 'creation_date': 1588965910, 'question_id': 61686626, 'content_license': 'CC BY-SA 4.0', 'link': 'https://stackoverflow.com/questions/61686626/return-less-information-for-json-parser-errors', 'title': 'Return less information for JSON parser errors'}, {'tags': ['azure', 'azure-functions', 'azure-cosmosdb', 'azure-functions-core-tools'], 'owner': {'account_id': 3997038, 'reputation': 1, 'user_id': 3294234, 'user_type': 'registered', 'profile_image': 'https://www.gravatar.com/avatar/5bdc7a62200b2abc582dffcb8856acf8?s=256&d=identicon&r=PG&f=y&so-version=2', 'display_name': 'iamrhass', 'link': 'https://stackoverflow.com/users/3294234/iamrhass'}, 'is_answered': False, 'view_count': 45, 'answer_count': 1, 'score': 0, 'last_activity_date': 1690366049, 'creation_date': 1690287655, 'last_edit_date': 1690321197, 'question_id': 76762658, 'content_license': 'CC BY-SA 4.0', 'link': 'https://stackoverflow.com/questions/76762658/unable-to-run-cosmosdbtrigger-after-upgrade-with-azure-function-v4', 'title': 'Unable to run cosmosDBTrigger after upgrade with Azure Function v4'}], 'has_more': True, 'quota_max': 300, 'quota_remaining': 296}\n"
     ]
    }
   ],
   "source": [
    "print(response.json())"
   ]
  },
  {
   "cell_type": "code",
   "execution_count": 23,
   "metadata": {},
   "outputs": [
    {
     "name": "stdout",
     "output_type": "stream",
     "text": [
      "[{'tags': ['iis', '.net-6.0'], 'owner': {'account_id': 14711, 'reputation': 10052, 'user_id': 30512, 'user_type': 'registered', 'accept_rate': 73, 'profile_image': 'https://www.gravatar.com/avatar/65858f22983cc45fe7390683eb4807f4?s=256&d=identicon&r=PG', 'display_name': 'Echilon', 'link': 'https://stackoverflow.com/users/30512/echilon'}, 'is_answered': False, 'view_count': 1, 'answer_count': 0, 'score': 0, 'last_activity_date': 1690366181, 'creation_date': 1690366181, 'question_id': 76770151, 'content_license': 'CC BY-SA 4.0', 'link': 'https://stackoverflow.com/questions/76770151/hosting-net-6-web-app-in-iis-403-14-error', 'title': 'Hosting .Net 6 web app in IIS - 403.14 error'}, {'tags': ['time', 'verilog', 'delay', 'fsm', 'state-machine'], 'owner': {'account_id': 8386811, 'reputation': 3, 'user_id': 6296955, 'user_type': 'registered', 'profile_image': 'https://www.gravatar.com/avatar/95199885e8ec5fb68c8f284e883fd911?s=256&d=identicon&r=PG&f=y&so-version=2', 'display_name': 'Jeffrey1027', 'link': 'https://stackoverflow.com/users/6296955/jeffrey1027'}, 'is_answered': True, 'view_count': 3226, 'accepted_answer_id': 37077793, 'answer_count': 2, 'score': 0, 'last_activity_date': 1690366168, 'creation_date': 1462553590, 'last_edit_date': 1462555745, 'question_id': 37077668, 'content_license': 'CC BY-SA 3.0', 'link': 'https://stackoverflow.com/questions/37077668/how-to-implement-time-delay-into-verilog-fsm', 'title': 'How to implement time delay into Verilog FSM'}, {'tags': ['c++', 'c', 'linux'], 'owner': {'account_id': 28261474, 'reputation': 11, 'user_id': 21771470, 'user_type': 'registered', 'profile_image': 'https://lh3.googleusercontent.com/a/AGNmyxbZ-j7jIxloLrA_ATs2VO0BimTvCWR9RowCsnMg=k-s256', 'display_name': 'Klen', 'link': 'https://stackoverflow.com/users/21771470/klen'}, 'is_answered': False, 'view_count': 2, 'answer_count': 0, 'score': 0, 'last_activity_date': 1690366167, 'creation_date': 1690366167, 'question_id': 76770149, 'content_license': 'CC BY-SA 4.0', 'link': 'https://stackoverflow.com/questions/76770149/is-there-a-way-save-an-open-file-with-a-new-name', 'title': 'Is there a way save an open file with a new name'}, {'tags': ['android', 'flutter', 'dart', 'flutter-dependencies', 'dart-pub'], 'owner': {'account_id': 24263857, 'reputation': 385, 'user_id': 18213063, 'user_type': 'registered', 'profile_image': 'https://www.gravatar.com/avatar/f279cfe3ea97e415e98ef856cf478e74?s=256&d=identicon&r=PG', 'display_name': 'SimbaOG', 'link': 'https://stackoverflow.com/users/18213063/simbaog'}, 'is_answered': False, 'view_count': 371, 'answer_count': 1, 'score': 1, 'last_activity_date': 1690366167, 'creation_date': 1645532442, 'question_id': 71221193, 'content_license': 'CC BY-SA 4.0', 'link': 'https://stackoverflow.com/questions/71221193/unable-to-use-flutter-secure-storage-package-i-keep-on-getting-errors', 'title': 'Unable to use flutter_secure_storage package. I keep on getting errors'}, {'tags': ['r', 'merge'], 'owner': {'account_id': 19776215, 'reputation': 117, 'user_id': 14482089, 'user_type': 'registered', 'profile_image': 'https://www.gravatar.com/avatar/8fd1a994e80bdeb0a236525e1ae17632?s=256&d=identicon&r=PG&f=y&so-version=2', 'display_name': 'w5698', 'link': 'https://stackoverflow.com/users/14482089/w5698'}, 'is_answered': False, 'view_count': 72, 'bounty_amount': 50, 'bounty_closes_date': 1690894001, 'answer_count': 1, 'score': 0, 'last_activity_date': 1690366164, 'creation_date': 1689600296, 'last_edit_date': 1690311323, 'question_id': 76704935, 'content_license': 'CC BY-SA 4.0', 'link': 'https://stackoverflow.com/questions/76704935/how-to-deal-with-issue-merging-two-datasets', 'title': 'How to deal with issue merging two datasets?'}, {'tags': ['azure', 'azure-functions', 'azure-app-service-plans'], 'owner': {'account_id': 6196553, 'reputation': 2683, 'user_id': 4827663, 'user_type': 'registered', 'accept_rate': 60, 'profile_image': 'https://www.gravatar.com/avatar/6a446465ee31335f00a18866af9ec55b?s=256&d=identicon&r=PG&f=y&so-version=2', 'display_name': 'Rakesh Kumar', 'link': 'https://stackoverflow.com/users/4827663/rakesh-kumar'}, 'is_answered': True, 'view_count': 10665, 'accepted_answer_id': 63260637, 'answer_count': 5, 'score': 7, 'last_activity_date': 1690366156, 'creation_date': 1596611110, 'question_id': 63260033, 'content_license': 'CC BY-SA 4.0', 'link': 'https://stackoverflow.com/questions/63260033/difference-between-scale-up-and-scale-out-app-service-plan', 'title': 'Difference between Scale up and Scale out App Service plan'}, {'tags': ['python', 'alteryx'], 'owner': {'account_id': 29094222, 'reputation': 1, 'user_id': 22287444, 'user_type': 'registered', 'profile_image': 'https://lh3.googleusercontent.com/a/AAcHTtepNjrn5wq5izvknb7_GffHTlCqytHVUSWWOx-DnqX0TmY=k-s256', 'display_name': 'usama nomani', 'link': 'https://stackoverflow.com/users/22287444/usama-nomani'}, 'is_answered': False, 'view_count': 4, 'answer_count': 1, 'score': 0, 'last_activity_date': 1690366155, 'creation_date': 1690365564, 'last_edit_date': 1690365719, 'question_id': 76770066, 'content_license': 'CC BY-SA 4.0', 'link': 'https://stackoverflow.com/questions/76770066/resolving-modulenotfounderror-in-alteryx-python-sdk-implementing-a-custom-too', 'title': 'Resolving &#39;ModuleNotFoundError&#39; in Alteryx Python SDK: Implementing a Custom Tool in Alteryx Designer'}, {'tags': ['node.js', 'postgresql', 'sequelize.js', 'psql'], 'owner': {'account_id': 29092663, 'reputation': 1, 'user_id': 22286138, 'user_type': 'registered', 'profile_image': 'https://www.gravatar.com/avatar/c668a6762f167cb301cdf44fa22abeea?s=256&d=identicon&r=PG&f=y&so-version=2', 'display_name': 'executingDefault', 'link': 'https://stackoverflow.com/users/22286138/executingdefault'}, 'is_answered': False, 'view_count': 19, 'answer_count': 1, 'score': 0, 'last_activity_date': 1690366151, 'creation_date': 1690351479, 'last_edit_date': 1690351513, 'question_id': 76768426, 'content_license': 'CC BY-SA 4.0', 'link': 'https://stackoverflow.com/questions/76768426/how-to-create-2-tables-with-relationships-to-each-other-through-shell', 'title': 'How to create 2 tables with relationships to each other through shell?'}, {'tags': ['python-3.x', 'openai-api', 'langchain'], 'owner': {'account_id': 6444670, 'reputation': 10503, 'user_id': 4993513, 'user_type': 'registered', 'accept_rate': 70, 'profile_image': 'https://i.stack.imgur.com/z0jss.png?s=256&g=1', 'display_name': 'Dawny33', 'link': 'https://stackoverflow.com/users/4993513/dawny33'}, 'is_answered': False, 'view_count': 4, 'answer_count': 1, 'score': 0, 'last_activity_date': 1690366143, 'creation_date': 1690364769, 'question_id': 76769946, 'content_license': 'CC BY-SA 4.0', 'link': 'https://stackoverflow.com/questions/76769946/openai-keeps-throwing-ratelimiterror-without-letting-through-even-a-single-reque', 'title': 'Openai keeps throwing RateLimitError without letting through even a single request'}, {'tags': ['amazon-web-services', 'amazon-s3', 'amazon-ec2', 'aws-lambda', 'pmd'], 'owner': {'account_id': 29094080, 'reputation': 1, 'user_id': 22287328, 'user_type': 'registered', 'profile_image': 'https://www.gravatar.com/avatar/b472c0cffee969329fc7746b06c52c87?s=256&d=identicon&r=PG&f=y&so-version=2', 'display_name': 'Nowshad', 'link': 'https://stackoverflow.com/users/22287328/nowshad'}, 'is_answered': False, 'view_count': 6, 'answer_count': 0, 'score': -1, 'last_activity_date': 1690366142, 'creation_date': 1690364234, 'last_edit_date': 1690366142, 'question_id': 76769843, 'content_license': 'CC BY-SA 4.0', 'link': 'https://stackoverflow.com/questions/76769843/programming-mistake-detector-pmd-setup-with-aws', 'title': 'Programming Mistake Detector (PMD) setup with AWS'}, {'tags': ['reactjs', 'pdf.js', 'react-pdf'], 'owner': {'account_id': 18965655, 'reputation': 127, 'user_id': 13840216, 'user_type': 'registered', 'profile_image': 'https://lh5.googleusercontent.com/-4HrGB43F0qQ/AAAAAAAAAAI/AAAAAAAAAAA/AMZuucmgJLRNT1EO5xsGaIwTkP40A7seLw/photo.jpg?sz=256', 'display_name': 'amu03', 'link': 'https://stackoverflow.com/users/13840216/amu03'}, 'is_answered': False, 'view_count': 9, 'answer_count': 1, 'score': 0, 'last_activity_date': 1690366140, 'creation_date': 1690362702, 'question_id': 76769638, 'content_license': 'CC BY-SA 4.0', 'link': 'https://stackoverflow.com/questions/76769638/how-to-use-pdfdatarangetransport-with-react-pdf', 'title': 'how to use PDFDataRangeTransport with &#39;react-pdf&#39;?'}, {'tags': ['sql-server', 'integration-testing', 'redgate'], 'owner': {'account_id': 1054799, 'reputation': 5307, 'user_id': 1057767, 'user_type': 'registered', 'accept_rate': 68, 'profile_image': 'https://i.stack.imgur.com/lEmPU.jpg?s=256&g=1', 'display_name': 'mtkachenko', 'link': 'https://stackoverflow.com/users/1057767/mtkachenko'}, 'is_answered': False, 'view_count': 5, 'answer_count': 0, 'score': 0, 'last_activity_date': 1690366138, 'creation_date': 1690364422, 'last_edit_date': 1690366138, 'question_id': 76769875, 'content_license': 'CC BY-SA 4.0', 'link': 'https://stackoverflow.com/questions/76769875/initialize-empty-database-from-sql-scripts-generated-by-redgate-sql-source-contr', 'title': 'Initialize empty database from SQL scripts generated by Redgate SQL Source Control'}, {'tags': ['javascript', 'reactjs', 'popup', 'reactjs-popup'], 'owner': {'account_id': 27680835, 'reputation': 1, 'user_id': 21129617, 'user_type': 'registered', 'profile_image': 'https://www.gravatar.com/avatar/519824579e87189aa3736bbf45928e47?s=256&d=identicon&r=PG&f=y&so-version=2', 'display_name': 'Ace Dom', 'link': 'https://stackoverflow.com/users/21129617/ace-dom'}, 'is_answered': False, 'view_count': 3, 'answer_count': 0, 'score': 0, 'last_activity_date': 1690366137, 'creation_date': 1690366137, 'question_id': 76770143, 'content_license': 'CC BY-SA 4.0', 'link': 'https://stackoverflow.com/questions/76770143/reactjs-popup-how-do-i-make-a-popup-to-my-web-after-a-double-click-event', 'title': 'reactjs-popup: How do I make a Popup to my web after a double click event'}, {'tags': ['javascript', 'node.js', 'class', 'object', 'variable-assignment'], 'owner': {'account_id': 29094177, 'reputation': 1, 'user_id': 22287410, 'user_type': 'registered', 'profile_image': 'https://lh3.googleusercontent.com/a/AAcHTtfBMmaAbKgSEfadWAR1XFhPmOelU8ELOJmwBHHLk24_=k-s256', 'display_name': 'Giafar the mistery dev', 'link': 'https://stackoverflow.com/users/22287410/giafar-the-mistery-dev'}, 'is_answered': False, 'view_count': 4, 'answer_count': 0, 'score': 0, 'last_activity_date': 1690366136, 'creation_date': 1690366136, 'question_id': 76770142, 'content_license': 'CC BY-SA 4.0', 'link': 'https://stackoverflow.com/questions/76770142/strange-assignment-in-javascript', 'title': 'Strange assignment in Javascript'}, {'tags': ['azure-active-directory', 'active-directory'], 'owner': {'account_id': 23588269, 'reputation': 1, 'user_id': 22287520, 'user_type': 'registered', 'profile_image': 'https://www.gravatar.com/avatar/574996aafac00fe8851d3ea453f289dc?s=256&d=identicon&r=PG', 'display_name': 'MYGMYGMYG', 'link': 'https://stackoverflow.com/users/22287520/mygmygmyg'}, 'is_answered': False, 'view_count': 2, 'answer_count': 0, 'score': 0, 'last_activity_date': 1690366122, 'creation_date': 1690366122, 'question_id': 76770141, 'content_license': 'CC BY-SA 4.0', 'link': 'https://stackoverflow.com/questions/76770141/no-events-after-audit-detailed-directory-service-replication-gpo-applied-to-dc', 'title': 'No events after Audit Detailed Directory Service Replication GPO applied to DC'}, {'tags': ['python', 'yolo', 'yolov8'], 'owner': {'account_id': 29057596, 'reputation': 1, 'user_id': 22259043, 'user_type': 'registered', 'profile_image': 'https://lh3.googleusercontent.com/a/AAcHTtcgYcMenEEzJGSSw2Nm4eNGSf75pm-4oZm6ucoUzZNF=k-s256', 'display_name': 'Laborat&#243;rio SPI Sul', 'link': 'https://stackoverflow.com/users/22259043/laborat%c3%b3rio-spi-sul'}, 'is_answered': False, 'view_count': 21, 'answer_count': 1, 'score': 0, 'last_activity_date': 1690366113, 'creation_date': 1689861919, 'question_id': 76730719, 'content_license': 'CC BY-SA 4.0', 'link': 'https://stackoverflow.com/questions/76730719/yolo-v8-reset-all', 'title': 'YOLO v8 RESET ALL'}, {'tags': ['python', 'python-decorators'], 'owner': {'account_id': 26967693, 'reputation': 1, 'user_id': 20534239, 'user_type': 'registered', 'profile_image': 'https://www.gravatar.com/avatar/6b5442debe3a04338a425ac24323c5cc?s=256&d=identicon&r=PG', 'display_name': 'yanky', 'link': 'https://stackoverflow.com/users/20534239/yanky'}, 'is_answered': False, 'view_count': 50, 'answer_count': 1, 'score': 0, 'last_activity_date': 1690366109, 'creation_date': 1689017828, 'last_edit_date': 1689567389, 'question_id': 76656808, 'content_license': 'CC BY-SA 4.0', 'link': 'https://stackoverflow.com/questions/76656808/creating-a-logger-decorator-for-caesar-cipher-implementation-in-python', 'title': 'Creating a logger decorator, for caesar cipher implementation in Python'}, {'tags': ['javascript', 'html', 'dom', 'async.js'], 'owner': {'account_id': 28118440, 'reputation': 11, 'user_id': 21485099, 'user_type': 'registered', 'profile_image': 'https://www.gravatar.com/avatar/f9aecad28db658e66ddb97e1042fca9e?s=256&d=identicon&r=PG&f=y&so-version=2', 'display_name': 'C410lol', 'link': 'https://stackoverflow.com/users/21485099/c410lol'}, 'is_answered': False, 'view_count': 30, 'answer_count': 2, 'score': 1, 'last_activity_date': 1690366098, 'creation_date': 1690340107, 'last_edit_date': 1690341741, 'question_id': 76767736, 'content_license': 'CC BY-SA 4.0', 'link': 'https://stackoverflow.com/questions/76767736/load-script-with-async-functions-before-any-element', 'title': 'Load Script With Async Functions Before Any Element'}, {'tags': ['google-cloud-functions', 'terraform'], 'owner': {'account_id': 14635143, 'reputation': 217, 'user_id': 10569563, 'user_type': 'registered', 'profile_image': 'https://lh6.googleusercontent.com/-6L_jrC_0v7A/AAAAAAAAAAI/AAAAAAAAAAA/ABtNlbAmPdBgsx1JTfmHYf6aISdBIPsLIA/mo/photo.jpg?sz=256', 'display_name': 'Zuerst', 'link': 'https://stackoverflow.com/users/10569563/zuerst'}, 'is_answered': False, 'view_count': 355, 'answer_count': 1, 'score': 0, 'last_activity_date': 1690366096, 'creation_date': 1665208734, 'question_id': 73994751, 'content_license': 'CC BY-SA 4.0', 'link': 'https://stackoverflow.com/questions/73994751/how-to-add-policy-to-restrict-google-cloud-function-invoker-using-terraform', 'title': 'How to add policy to restrict google cloud function invoker using Terraform'}, {'tags': ['python', 'pip', 'package'], 'owner': {'account_id': 18327035, 'reputation': 105, 'user_id': 13346446, 'user_type': 'registered', 'profile_image': 'https://www.gravatar.com/avatar/19ca967b05947054fb844e983ec588a7?s=256&d=identicon&r=PG&f=y&so-version=2', 'display_name': 'HOH_HOH', 'link': 'https://stackoverflow.com/users/13346446/hoh-hoh'}, 'is_answered': False, 'view_count': 11783, 'answer_count': 1, 'score': 2, 'last_activity_date': 1690366091, 'creation_date': 1661651797, 'question_id': 73515505, 'content_license': 'CC BY-SA 4.0', 'link': 'https://stackoverflow.com/questions/73515505/pip-error-pips-dependency-resolver-does-not-currently-take-into-account-all-th', 'title': 'pip ERROR: pip&#39;s dependency resolver does not currently take into account all the packages that are installed'}, {'tags': ['python', 'json', 'logging'], 'owner': {'account_id': 10413339, 'reputation': 71, 'user_id': 7678134, 'user_type': 'registered', 'profile_image': 'https://www.gravatar.com/avatar/4664546941f1e47b7071a6e8cc171810?s=256&d=identicon&r=PG&f=y&so-version=2', 'display_name': 'RandomMario', 'link': 'https://stackoverflow.com/users/7678134/randommario'}, 'is_answered': False, 'view_count': 12529, 'answer_count': 1, 'score': 2, 'last_activity_date': 1690366091, 'creation_date': 1506515909, 'last_edit_date': 1687722670, 'question_id': 46448113, 'content_license': 'CC BY-SA 4.0', 'link': 'https://stackoverflow.com/questions/46448113/python-logging-with-json-config-file', 'title': 'Python logging with json config file'}, {'tags': ['c#', 'rabbitmq'], 'owner': {'account_id': 4819536, 'reputation': 765, 'user_id': 3890577, 'user_type': 'registered', 'accept_rate': 67, 'profile_image': 'https://www.gravatar.com/avatar/19e5e54e84f55c301441593f572197ce?s=256&d=identicon&r=PG&f=y&so-version=2', 'display_name': 'Twi', 'link': 'https://stackoverflow.com/users/3890577/twi'}, 'is_answered': False, 'view_count': 9163, 'answer_count': 2, 'score': 0, 'last_activity_date': 1690366091, 'creation_date': 1465202882, 'last_edit_date': 1465211851, 'question_id': 37653116, 'content_license': 'CC BY-SA 3.0', 'link': 'https://stackoverflow.com/questions/37653116/cannot-connect-to-rabbitmq-server', 'title': 'Cannot connect to RabbitMQ server'}, {'tags': ['excel', 'vba', 'full-text-search'], 'owner': {'account_id': 7095265, 'reputation': 69, 'user_id': 5429103, 'user_type': 'registered', 'accept_rate': 25, 'profile_image': 'https://www.gravatar.com/avatar/63522ef59c587bc3f0074e4227bd7d4d?s=256&d=identicon&r=PG&f=y&so-version=2', 'display_name': 'exlover', 'link': 'https://stackoverflow.com/users/5429103/exlover'}, 'is_answered': False, 'view_count': 10579, 'answer_count': 2, 'score': 0, 'last_activity_date': 1690366091, 'creation_date': 1457389897, 'last_edit_date': 1593588683, 'question_id': 35855435, 'content_license': 'CC BY-SA 4.0', 'link': 'https://stackoverflow.com/questions/35855435/excel-vba-to-search-for-list-of-keywords-in-a-cell-given-a-value-in-another-cell', 'title': 'Excel VBA to search for list of keywords in a cell given a value in another cell and then make changes to a third cell'}, {'tags': ['sql', 'plpgsql', 'supabase'], 'owner': {'account_id': 13548557, 'reputation': 107, 'user_id': 9774071, 'user_type': 'registered', 'profile_image': 'https://lh3.googleusercontent.com/-XdUIqdMkCWA/AAAAAAAAAAI/AAAAAAAAAAA/4252rscbv5M/photo.jpg?sz=256', 'display_name': 'goaty', 'link': 'https://stackoverflow.com/users/9774071/goaty'}, 'is_answered': False, 'view_count': 5, 'answer_count': 0, 'score': 1, 'last_activity_date': 1690366075, 'creation_date': 1690366075, 'question_id': 76770137, 'content_license': 'CC BY-SA 4.0', 'link': 'https://stackoverflow.com/questions/76770137/how-to-group-by-in-plpgsql', 'title': 'How to group by in plpgsql'}, {'tags': ['c', 'memcpy', 'strcpy'], 'owner': {'account_id': 62177, 'reputation': 20747, 'user_id': 184862, 'user_type': 'registered', 'accept_rate': 66, 'profile_image': 'https://i.stack.imgur.com/tIMOk.jpg?s=256&g=1', 'display_name': 'Sachin Chourasiya', 'link': 'https://stackoverflow.com/users/184862/sachin-chourasiya'}, 'is_answered': True, 'view_count': 124885, 'accepted_answer_id': 2900698, 'answer_count': 10, 'score': 97, 'last_activity_date': 1690366068, 'creation_date': 1274717350, 'last_edit_date': 1690366068, 'question_id': 2898364, 'content_license': 'CC BY-SA 4.0', 'link': 'https://stackoverflow.com/questions/2898364/strcpy-vs-memcpy', 'title': 'strcpy vs. memcpy'}, {'tags': ['java', 'ldap', 'identifier', 'unboundid-ldap-sdk', 'dn'], 'owner': {'account_id': 3163862, 'reputation': 36570, 'user_id': 2674303, 'user_type': 'registered', 'accept_rate': 62, 'profile_image': 'https://www.gravatar.com/avatar/411d782b77899035a96abb71b64e062a?s=256&d=identicon&r=PG', 'display_name': 'gstackoverflow', 'link': 'https://stackoverflow.com/users/2674303/gstackoverflow'}, 'is_answered': False, 'view_count': 11, 'answer_count': 0, 'score': 2, 'last_activity_date': 1690366065, 'creation_date': 1690361618, 'last_edit_date': 1690366065, 'question_id': 76769514, 'content_license': 'CC BY-SA 4.0', 'link': 'https://stackoverflow.com/questions/76769514/is-there-way-to-use-objectguid-instead-of-dn-in-ldap-api', 'title': 'Is there way to use ObjectGuid instead of dn in ldap api?'}, {'tags': ['vb.net'], 'owner': {'account_id': 29094201, 'reputation': 1, 'user_id': 22287428, 'user_type': 'registered', 'profile_image': 'https://www.gravatar.com/avatar/c418edb06e6c3d82767a29a263e5f3dd?s=256&d=identicon&r=PG&f=y&so-version=2', 'display_name': 'modely2k', 'link': 'https://stackoverflow.com/users/22287428/modely2k'}, 'is_answered': False, 'view_count': 3, 'answer_count': 0, 'score': 0, 'last_activity_date': 1690366063, 'creation_date': 1690366063, 'question_id': 76770136, 'content_license': 'CC BY-SA 4.0', 'link': 'https://stackoverflow.com/questions/76770136/email-sending-operation-has-timed-out', 'title': 'email sending operation has timed out'}, {'tags': ['.net', 'vault', 'vaultsharp'], 'owner': {'account_id': 15287130, 'reputation': 13, 'user_id': 11029843, 'user_type': 'registered', 'profile_image': 'https://www.gravatar.com/avatar/ce66d55fd09a2578a13585851cbe7a30?s=256&d=identicon&r=PG&f=y&so-version=2', 'display_name': 'lorenzotarquini', 'link': 'https://stackoverflow.com/users/11029843/lorenzotarquini'}, 'is_answered': False, 'view_count': 62, 'answer_count': 1, 'score': 0, 'last_activity_date': 1690366059, 'creation_date': 1675673177, 'question_id': 75359067, 'content_license': 'CC BY-SA 4.0', 'link': 'https://stackoverflow.com/questions/75359067/vaultsharp-httprequestexception', 'title': 'VaultSharp HttpRequestException'}, {'tags': ['asp.net-core', '.net-core'], 'owner': {'account_id': 18529822, 'reputation': 21, 'user_id': 13500883, 'user_type': 'registered', 'profile_image': 'https://www.gravatar.com/avatar/d6d1dd3c1ce1b2d29236940e2af569b4?s=256&d=identicon&r=PG&f=y&so-version=2', 'display_name': 'bmm', 'link': 'https://stackoverflow.com/users/13500883/bmm'}, 'is_answered': True, 'view_count': 265, 'answer_count': 2, 'score': 1, 'last_activity_date': 1690366053, 'creation_date': 1588965910, 'question_id': 61686626, 'content_license': 'CC BY-SA 4.0', 'link': 'https://stackoverflow.com/questions/61686626/return-less-information-for-json-parser-errors', 'title': 'Return less information for JSON parser errors'}, {'tags': ['azure', 'azure-functions', 'azure-cosmosdb', 'azure-functions-core-tools'], 'owner': {'account_id': 3997038, 'reputation': 1, 'user_id': 3294234, 'user_type': 'registered', 'profile_image': 'https://www.gravatar.com/avatar/5bdc7a62200b2abc582dffcb8856acf8?s=256&d=identicon&r=PG&f=y&so-version=2', 'display_name': 'iamrhass', 'link': 'https://stackoverflow.com/users/3294234/iamrhass'}, 'is_answered': False, 'view_count': 45, 'answer_count': 1, 'score': 0, 'last_activity_date': 1690366049, 'creation_date': 1690287655, 'last_edit_date': 1690321197, 'question_id': 76762658, 'content_license': 'CC BY-SA 4.0', 'link': 'https://stackoverflow.com/questions/76762658/unable-to-run-cosmosdbtrigger-after-upgrade-with-azure-function-v4', 'title': 'Unable to run cosmosDBTrigger after upgrade with Azure Function v4'}]\n"
     ]
    }
   ],
   "source": [
    "# we can actually explore some items individually\n",
    "\n",
    "print(response.json()['items'])"
   ]
  },
  {
   "cell_type": "code",
   "execution_count": 24,
   "metadata": {},
   "outputs": [
    {
     "name": "stdout",
     "output_type": "stream",
     "text": [
      "Hosting .Net 6 web app in IIS - 403.14 error\n",
      "https://stackoverflow.com/questions/76770151/hosting-net-6-web-app-in-iis-403-14-error\n",
      "\n",
      "How to implement time delay into Verilog FSM\n",
      "https://stackoverflow.com/questions/37077668/how-to-implement-time-delay-into-verilog-fsm\n",
      "\n",
      "Is there a way save an open file with a new name\n",
      "https://stackoverflow.com/questions/76770149/is-there-a-way-save-an-open-file-with-a-new-name\n",
      "\n",
      "Unable to use flutter_secure_storage package. I keep on getting errors\n",
      "https://stackoverflow.com/questions/71221193/unable-to-use-flutter-secure-storage-package-i-keep-on-getting-errors\n",
      "\n",
      "How to deal with issue merging two datasets?\n",
      "https://stackoverflow.com/questions/76704935/how-to-deal-with-issue-merging-two-datasets\n",
      "\n",
      "Difference between Scale up and Scale out App Service plan\n",
      "https://stackoverflow.com/questions/63260033/difference-between-scale-up-and-scale-out-app-service-plan\n",
      "\n",
      "Resolving &#39;ModuleNotFoundError&#39; in Alteryx Python SDK: Implementing a Custom Tool in Alteryx Designer\n",
      "https://stackoverflow.com/questions/76770066/resolving-modulenotfounderror-in-alteryx-python-sdk-implementing-a-custom-too\n",
      "\n",
      "How to create 2 tables with relationships to each other through shell?\n",
      "https://stackoverflow.com/questions/76768426/how-to-create-2-tables-with-relationships-to-each-other-through-shell\n",
      "\n",
      "Openai keeps throwing RateLimitError without letting through even a single request\n",
      "https://stackoverflow.com/questions/76769946/openai-keeps-throwing-ratelimiterror-without-letting-through-even-a-single-reque\n",
      "\n",
      "Programming Mistake Detector (PMD) setup with AWS\n",
      "https://stackoverflow.com/questions/76769843/programming-mistake-detector-pmd-setup-with-aws\n",
      "\n",
      "how to use PDFDataRangeTransport with &#39;react-pdf&#39;?\n",
      "https://stackoverflow.com/questions/76769638/how-to-use-pdfdatarangetransport-with-react-pdf\n",
      "\n",
      "Initialize empty database from SQL scripts generated by Redgate SQL Source Control\n",
      "https://stackoverflow.com/questions/76769875/initialize-empty-database-from-sql-scripts-generated-by-redgate-sql-source-contr\n",
      "\n",
      "reactjs-popup: How do I make a Popup to my web after a double click event\n",
      "https://stackoverflow.com/questions/76770143/reactjs-popup-how-do-i-make-a-popup-to-my-web-after-a-double-click-event\n",
      "\n",
      "Strange assignment in Javascript\n",
      "https://stackoverflow.com/questions/76770142/strange-assignment-in-javascript\n",
      "\n",
      "No events after Audit Detailed Directory Service Replication GPO applied to DC\n",
      "https://stackoverflow.com/questions/76770141/no-events-after-audit-detailed-directory-service-replication-gpo-applied-to-dc\n",
      "\n",
      "YOLO v8 RESET ALL\n",
      "https://stackoverflow.com/questions/76730719/yolo-v8-reset-all\n",
      "\n",
      "Creating a logger decorator, for caesar cipher implementation in Python\n",
      "https://stackoverflow.com/questions/76656808/creating-a-logger-decorator-for-caesar-cipher-implementation-in-python\n",
      "\n",
      "Load Script With Async Functions Before Any Element\n",
      "https://stackoverflow.com/questions/76767736/load-script-with-async-functions-before-any-element\n",
      "\n",
      "How to add policy to restrict google cloud function invoker using Terraform\n",
      "https://stackoverflow.com/questions/73994751/how-to-add-policy-to-restrict-google-cloud-function-invoker-using-terraform\n",
      "\n",
      "pip ERROR: pip&#39;s dependency resolver does not currently take into account all the packages that are installed\n",
      "https://stackoverflow.com/questions/73515505/pip-error-pips-dependency-resolver-does-not-currently-take-into-account-all-th\n",
      "\n",
      "Python logging with json config file\n",
      "https://stackoverflow.com/questions/46448113/python-logging-with-json-config-file\n",
      "\n",
      "Cannot connect to RabbitMQ server\n",
      "https://stackoverflow.com/questions/37653116/cannot-connect-to-rabbitmq-server\n",
      "\n",
      "Excel VBA to search for list of keywords in a cell given a value in another cell and then make changes to a third cell\n",
      "https://stackoverflow.com/questions/35855435/excel-vba-to-search-for-list-of-keywords-in-a-cell-given-a-value-in-another-cell\n",
      "\n",
      "How to group by in plpgsql\n",
      "https://stackoverflow.com/questions/76770137/how-to-group-by-in-plpgsql\n",
      "\n",
      "strcpy vs. memcpy\n",
      "https://stackoverflow.com/questions/2898364/strcpy-vs-memcpy\n",
      "\n",
      "Is there way to use ObjectGuid instead of dn in ldap api?\n",
      "https://stackoverflow.com/questions/76769514/is-there-way-to-use-objectguid-instead-of-dn-in-ldap-api\n",
      "\n",
      "email sending operation has timed out\n",
      "https://stackoverflow.com/questions/76770136/email-sending-operation-has-timed-out\n",
      "\n",
      "VaultSharp HttpRequestException\n",
      "https://stackoverflow.com/questions/75359067/vaultsharp-httprequestexception\n",
      "\n",
      "Return less information for JSON parser errors\n",
      "https://stackoverflow.com/questions/61686626/return-less-information-for-json-parser-errors\n",
      "\n",
      "Unable to run cosmosDBTrigger after upgrade with Azure Function v4\n",
      "https://stackoverflow.com/questions/76762658/unable-to-run-cosmosdbtrigger-after-upgrade-with-azure-function-v4\n",
      "\n"
     ]
    }
   ],
   "source": [
    "# we gonna use a for loop to iterate over each question and then use specific attributes to access specific elements\n",
    "\n",
    "for data in response.json()['items']:\n",
    "    print(data['title'])\n",
    "    print(data['link'])\n",
    "    print()\n"
   ]
  },
  {
   "cell_type": "code",
   "execution_count": 25,
   "metadata": {},
   "outputs": [
    {
     "name": "stdout",
     "output_type": "stream",
     "text": [
      "Resolving &#39;ModuleNotFoundError&#39; in Alteryx Python SDK: Implementing a Custom Tool in Alteryx Designer\n",
      "https://stackoverflow.com/questions/76770066/resolving-modulenotfounderror-in-alteryx-python-sdk-implementing-a-custom-too\n",
      "\n",
      "YOLO v8 RESET ALL\n",
      "https://stackoverflow.com/questions/76730719/yolo-v8-reset-all\n",
      "\n",
      "Creating a logger decorator, for caesar cipher implementation in Python\n",
      "https://stackoverflow.com/questions/76656808/creating-a-logger-decorator-for-caesar-cipher-implementation-in-python\n",
      "\n",
      "pip ERROR: pip&#39;s dependency resolver does not currently take into account all the packages that are installed\n",
      "https://stackoverflow.com/questions/73515505/pip-error-pips-dependency-resolver-does-not-currently-take-into-account-all-th\n",
      "\n",
      "Python logging with json config file\n",
      "https://stackoverflow.com/questions/46448113/python-logging-with-json-config-file\n",
      "\n"
     ]
    }
   ],
   "source": [
    "# we gonna use a for loop to iterate over each question and then use specific attributes to access specific elements\n",
    "\n",
    "for data in response.json()['items']:\n",
    "    if 'python' in data['tags']:\n",
    "        print(data['title'])\n",
    "        print(data['link'])\n",
    "        print()\n"
   ]
  },
  {
   "cell_type": "code",
   "execution_count": 31,
   "metadata": {},
   "outputs": [],
   "source": [
    "questions = response.json()['items']\n",
    "\n",
    "df = pd.DataFrame(columns = ['UserID', 'Question', 'Tags', 'AnswerCount', 'URL'])\n",
    "\n",
    "for i in range(0, len(questions)):\n",
    "    current = questions[i]\n",
    "    if 'python' in current['tags']:\n",
    "        df.loc[i] = [current['owner']['user_id'], current['title'], current['tags'],current['answer_count'], current['link']]"
   ]
  },
  {
   "cell_type": "code",
   "execution_count": 32,
   "metadata": {},
   "outputs": [
    {
     "data": {
      "text/html": [
       "<div>\n",
       "<style scoped>\n",
       "    .dataframe tbody tr th:only-of-type {\n",
       "        vertical-align: middle;\n",
       "    }\n",
       "\n",
       "    .dataframe tbody tr th {\n",
       "        vertical-align: top;\n",
       "    }\n",
       "\n",
       "    .dataframe thead th {\n",
       "        text-align: right;\n",
       "    }\n",
       "</style>\n",
       "<table border=\"1\" class=\"dataframe\">\n",
       "  <thead>\n",
       "    <tr style=\"text-align: right;\">\n",
       "      <th></th>\n",
       "      <th>UserID</th>\n",
       "      <th>Question</th>\n",
       "      <th>Tags</th>\n",
       "      <th>AnswerCount</th>\n",
       "      <th>URL</th>\n",
       "    </tr>\n",
       "  </thead>\n",
       "  <tbody>\n",
       "    <tr>\n",
       "      <th>6</th>\n",
       "      <td>22287444</td>\n",
       "      <td>Resolving &amp;#39;ModuleNotFoundError&amp;#39; in Alt...</td>\n",
       "      <td>[python, alteryx]</td>\n",
       "      <td>1</td>\n",
       "      <td>https://stackoverflow.com/questions/76770066/r...</td>\n",
       "    </tr>\n",
       "    <tr>\n",
       "      <th>15</th>\n",
       "      <td>22259043</td>\n",
       "      <td>YOLO v8 RESET ALL</td>\n",
       "      <td>[python, yolo, yolov8]</td>\n",
       "      <td>1</td>\n",
       "      <td>https://stackoverflow.com/questions/76730719/y...</td>\n",
       "    </tr>\n",
       "    <tr>\n",
       "      <th>16</th>\n",
       "      <td>20534239</td>\n",
       "      <td>Creating a logger decorator, for caesar cipher...</td>\n",
       "      <td>[python, python-decorators]</td>\n",
       "      <td>1</td>\n",
       "      <td>https://stackoverflow.com/questions/76656808/c...</td>\n",
       "    </tr>\n",
       "    <tr>\n",
       "      <th>19</th>\n",
       "      <td>13346446</td>\n",
       "      <td>pip ERROR: pip&amp;#39;s dependency resolver does ...</td>\n",
       "      <td>[python, pip, package]</td>\n",
       "      <td>1</td>\n",
       "      <td>https://stackoverflow.com/questions/73515505/p...</td>\n",
       "    </tr>\n",
       "    <tr>\n",
       "      <th>20</th>\n",
       "      <td>7678134</td>\n",
       "      <td>Python logging with json config file</td>\n",
       "      <td>[python, json, logging]</td>\n",
       "      <td>1</td>\n",
       "      <td>https://stackoverflow.com/questions/46448113/p...</td>\n",
       "    </tr>\n",
       "  </tbody>\n",
       "</table>\n",
       "</div>"
      ],
      "text/plain": [
       "      UserID                                           Question  \\\n",
       "6   22287444  Resolving &#39;ModuleNotFoundError&#39; in Alt...   \n",
       "15  22259043                                  YOLO v8 RESET ALL   \n",
       "16  20534239  Creating a logger decorator, for caesar cipher...   \n",
       "19  13346446  pip ERROR: pip&#39;s dependency resolver does ...   \n",
       "20   7678134               Python logging with json config file   \n",
       "\n",
       "                           Tags AnswerCount  \\\n",
       "6             [python, alteryx]           1   \n",
       "15       [python, yolo, yolov8]           1   \n",
       "16  [python, python-decorators]           1   \n",
       "19       [python, pip, package]           1   \n",
       "20      [python, json, logging]           1   \n",
       "\n",
       "                                                  URL  \n",
       "6   https://stackoverflow.com/questions/76770066/r...  \n",
       "15  https://stackoverflow.com/questions/76730719/y...  \n",
       "16  https://stackoverflow.com/questions/76656808/c...  \n",
       "19  https://stackoverflow.com/questions/73515505/p...  \n",
       "20  https://stackoverflow.com/questions/46448113/p...  "
      ]
     },
     "execution_count": 32,
     "metadata": {},
     "output_type": "execute_result"
    }
   ],
   "source": [
    "df"
   ]
  },
  {
   "cell_type": "code",
   "execution_count": null,
   "metadata": {},
   "outputs": [],
   "source": []
  }
 ],
 "metadata": {
  "kernelspec": {
   "display_name": "base",
   "language": "python",
   "name": "python3"
  },
  "language_info": {
   "codemirror_mode": {
    "name": "ipython",
    "version": 3
   },
   "file_extension": ".py",
   "mimetype": "text/x-python",
   "name": "python",
   "nbconvert_exporter": "python",
   "pygments_lexer": "ipython3",
   "version": "3.9.7"
  },
  "orig_nbformat": 4
 },
 "nbformat": 4,
 "nbformat_minor": 2
}
