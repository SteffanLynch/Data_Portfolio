{
 "cells": [
  {
   "cell_type": "code",
   "execution_count": 22,
   "metadata": {},
   "outputs": [],
   "source": [
    "import json"
   ]
  },
  {
   "cell_type": "code",
   "execution_count": 23,
   "metadata": {},
   "outputs": [],
   "source": [
    "people_string = '''\n",
    "{\n",
    "    \"people\": [\n",
    "      {\n",
    "        \"name\": \"John Smith\",\n",
    "        \"phone\": \"615-555-7164\",\n",
    "        \"emails\": [\"johnsmith@bogusemail.com\", \"john.smith@work-place.com\"],\n",
    "        \"has_license\": false\n",
    "      },\n",
    "      {\n",
    "        \"name\": \"Jane Doe\",\n",
    "        \"phone\": \"560-555-5153\",\n",
    "        \"emails\": null,\n",
    "        \"has_license\": true\n",
    "      }\n",
    "    ]\n",
    "}\n",
    "'''"
   ]
  },
  {
   "cell_type": "code",
   "execution_count": 24,
   "metadata": {},
   "outputs": [
    {
     "name": "stdout",
     "output_type": "stream",
     "text": [
      "{'people': [{'name': 'John Smith', 'phone': '615-555-7164', 'emails': ['johnsmith@bogusemail.com', 'john.smith@work-place.com'], 'has_license': False}, {'name': 'Jane Doe', 'phone': '560-555-5153', 'emails': None, 'has_license': True}]}\n"
     ]
    }
   ],
   "source": [
    "data = json.loads(people_string)\n",
    "print(data)"
   ]
  },
  {
   "cell_type": "code",
   "execution_count": 25,
   "metadata": {},
   "outputs": [
    {
     "name": "stdout",
     "output_type": "stream",
     "text": [
      "<class 'dict'>\n"
     ]
    }
   ],
   "source": [
    "print(type(data))\n",
    "\n",
    "# json objects are converted to dictionaries in python, so now will be a lot easier to work with"
   ]
  },
  {
   "cell_type": "code",
   "execution_count": 26,
   "metadata": {},
   "outputs": [
    {
     "name": "stdout",
     "output_type": "stream",
     "text": [
      "{'name': 'John Smith', 'phone': '615-555-7164', 'emails': ['johnsmith@bogusemail.com', 'john.smith@work-place.com'], 'has_license': False}\n",
      "{'name': 'Jane Doe', 'phone': '560-555-5153', 'emails': None, 'has_license': True}\n"
     ]
    }
   ],
   "source": [
    "for person in data['people']:\n",
    "    print(person)"
   ]
  },
  {
   "cell_type": "code",
   "execution_count": 27,
   "metadata": {},
   "outputs": [
    {
     "name": "stdout",
     "output_type": "stream",
     "text": [
      "John Smith: 615-555-7164\n",
      "Jane Doe: 560-555-5153\n"
     ]
    }
   ],
   "source": [
    "for person in data['people']:\n",
    "    print(f\"{person['name']}: {person['phone']}\")"
   ]
  },
  {
   "cell_type": "markdown",
   "metadata": {},
   "source": [
    "## dumping and deleting elements\n",
    "\n",
    "dump a python object into a json string\n",
    "\n",
    "\n",
    "json.loads() takes in a string and returns a json object. \n",
    "json.dumps() takes in a json object and returns a string."
   ]
  },
  {
   "cell_type": "code",
   "execution_count": 30,
   "metadata": {},
   "outputs": [
    {
     "name": "stdout",
     "output_type": "stream",
     "text": [
      "{\"people\": [{\"name\": \"John Smith\", \"phone\": \"615-555-7164\", \"emails\": [\"johnsmith@bogusemail.com\", \"john.smith@work-place.com\"], \"has_license\": false}, {\"name\": \"Jane Doe\", \"phone\": \"560-555-5153\", \"emails\": null, \"has_license\": true}]}\n"
     ]
    }
   ],
   "source": [
    "new_str = json.dumps(data)\n",
    "print(new_str)"
   ]
  },
  {
   "cell_type": "code",
   "execution_count": 29,
   "metadata": {},
   "outputs": [
    {
     "name": "stdout",
     "output_type": "stream",
     "text": [
      "{\n",
      "  \"people\": [\n",
      "    {\n",
      "      \"name\": \"John Smith\",\n",
      "      \"phone\": \"615-555-7164\",\n",
      "      \"emails\": [\n",
      "        \"johnsmith@bogusemail.com\",\n",
      "        \"john.smith@work-place.com\"\n",
      "      ],\n",
      "      \"has_license\": false\n",
      "    },\n",
      "    {\n",
      "      \"name\": \"Jane Doe\",\n",
      "      \"phone\": \"560-555-5153\",\n",
      "      \"emails\": null,\n",
      "      \"has_license\": true\n",
      "    }\n",
      "  ]\n",
      "}\n"
     ]
    }
   ],
   "source": [
    "new_str = json.dumps(data, indent = 2)\n",
    "print(new_str)"
   ]
  },
  {
   "cell_type": "code",
   "execution_count": null,
   "metadata": {},
   "outputs": [],
   "source": []
  }
 ],
 "metadata": {
  "kernelspec": {
   "display_name": "base",
   "language": "python",
   "name": "python3"
  },
  "language_info": {
   "codemirror_mode": {
    "name": "ipython",
    "version": 3
   },
   "file_extension": ".py",
   "mimetype": "text/x-python",
   "name": "python",
   "nbconvert_exporter": "python",
   "pygments_lexer": "ipython3",
   "version": "3.9.7"
  },
  "orig_nbformat": 4
 },
 "nbformat": 4,
 "nbformat_minor": 2
}
