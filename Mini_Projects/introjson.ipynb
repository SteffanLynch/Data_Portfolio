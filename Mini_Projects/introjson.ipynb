{
 "cells": [
  {
   "cell_type": "code",
   "execution_count": 22,
   "metadata": {},
   "outputs": [],
   "source": [
    "import json"
   ]
  },
  {
   "cell_type": "code",
   "execution_count": 23,
   "metadata": {},
   "outputs": [],
   "source": [
    "people_string = '''\n",
    "{\n",
    "    \"people\": [\n",
    "      {\n",
    "        \"name\": \"John Smith\",\n",
    "        \"phone\": \"615-555-7164\",\n",
    "        \"emails\": [\"johnsmith@bogusemail.com\", \"john.smith@work-place.com\"],\n",
    "        \"has_license\": false\n",
    "      },\n",
    "      {\n",
    "        \"name\": \"Jane Doe\",\n",
    "        \"phone\": \"560-555-5153\",\n",
    "        \"emails\": null,\n",
    "        \"has_license\": true\n",
    "      }\n",
    "    ]\n",
    "}\n",
    "'''"
   ]
  },
  {
   "cell_type": "code",
   "execution_count": 24,
   "metadata": {},
   "outputs": [
    {
     "name": "stdout",
     "output_type": "stream",
     "text": [
      "{'people': [{'name': 'John Smith', 'phone': '615-555-7164', 'emails': ['johnsmith@bogusemail.com', 'john.smith@work-place.com'], 'has_license': False}, {'name': 'Jane Doe', 'phone': '560-555-5153', 'emails': None, 'has_license': True}]}\n"
     ]
    }
   ],
   "source": [
    "data = json.loads(people_string)\n",
    "print(data)"
   ]
  },
  {
   "cell_type": "code",
   "execution_count": 25,
   "metadata": {},
   "outputs": [
    {
     "name": "stdout",
     "output_type": "stream",
     "text": [
      "<class 'dict'>\n"
     ]
    }
   ],
   "source": [
    "print(type(data))\n",
    "\n",
    "# json objects are converted to dictionaries in python, so now will be a lot easier to work with"
   ]
  },
  {
   "cell_type": "code",
   "execution_count": 26,
   "metadata": {},
   "outputs": [
    {
     "name": "stdout",
     "output_type": "stream",
     "text": [
      "{'name': 'John Smith', 'phone': '615-555-7164', 'emails': ['johnsmith@bogusemail.com', 'john.smith@work-place.com'], 'has_license': False}\n",
      "{'name': 'Jane Doe', 'phone': '560-555-5153', 'emails': None, 'has_license': True}\n"
     ]
    }
   ],
   "source": [
    "for person in data['people']:\n",
    "    print(person)"
   ]
  },
  {
   "cell_type": "code",
   "execution_count": 27,
   "metadata": {},
   "outputs": [
    {
     "name": "stdout",
     "output_type": "stream",
     "text": [
      "John Smith: 615-555-7164\n",
      "Jane Doe: 560-555-5153\n"
     ]
    }
   ],
   "source": [
    "for person in data['people']:\n",
    "    print(f\"{person['name']}: {person['phone']}\")"
   ]
  },
  {
   "cell_type": "markdown",
   "metadata": {},
   "source": [
    "## dumping and deleting elements\n",
    "\n",
    "dump a python object into a json string\n",
    "\n",
    "\n",
    "json.loads() takes in a string and returns a json object. \n",
    "json.dumps() takes in a json object and returns a string."
   ]
  },
  {
   "cell_type": "code",
   "execution_count": 30,
   "metadata": {},
   "outputs": [
    {
     "name": "stdout",
     "output_type": "stream",
     "text": [
      "{\"people\": [{\"name\": \"John Smith\", \"phone\": \"615-555-7164\", \"emails\": [\"johnsmith@bogusemail.com\", \"john.smith@work-place.com\"], \"has_license\": false}, {\"name\": \"Jane Doe\", \"phone\": \"560-555-5153\", \"emails\": null, \"has_license\": true}]}\n"
     ]
    }
   ],
   "source": [
    "new_str = json.dumps(data)\n",
    "print(new_str)"
   ]
  },
  {
   "cell_type": "code",
   "execution_count": 29,
   "metadata": {},
   "outputs": [
    {
     "name": "stdout",
     "output_type": "stream",
     "text": [
      "{\n",
      "  \"people\": [\n",
      "    {\n",
      "      \"name\": \"John Smith\",\n",
      "      \"phone\": \"615-555-7164\",\n",
      "      \"emails\": [\n",
      "        \"johnsmith@bogusemail.com\",\n",
      "        \"john.smith@work-place.com\"\n",
      "      ],\n",
      "      \"has_license\": false\n",
      "    },\n",
      "    {\n",
      "      \"name\": \"Jane Doe\",\n",
      "      \"phone\": \"560-555-5153\",\n",
      "      \"emails\": null,\n",
      "      \"has_license\": true\n",
      "    }\n",
      "  ]\n",
      "}\n"
     ]
    }
   ],
   "source": [
    "new_str = json.dumps(data, indent = 2)\n",
    "print(new_str)"
   ]
  },
  {
   "cell_type": "code",
   "execution_count": 31,
   "metadata": {},
   "outputs": [
    {
     "name": "stdout",
     "output_type": "stream",
     "text": [
      "{\n",
      "  \"people\": [\n",
      "    {\n",
      "      \"emails\": [\n",
      "        \"johnsmith@bogusemail.com\",\n",
      "        \"john.smith@work-place.com\"\n",
      "      ],\n",
      "      \"has_license\": false,\n",
      "      \"name\": \"John Smith\",\n",
      "      \"phone\": \"615-555-7164\"\n",
      "    },\n",
      "    {\n",
      "      \"emails\": null,\n",
      "      \"has_license\": true,\n",
      "      \"name\": \"Jane Doe\",\n",
      "      \"phone\": \"560-555-5153\"\n",
      "    }\n",
      "  ]\n",
      "}\n"
     ]
    }
   ],
   "source": [
    "new_str = json.dumps(data, indent = 2, sort_keys=True)\n",
    "print(new_str)"
   ]
  },
  {
   "cell_type": "markdown",
   "metadata": {},
   "source": [
    "# section 2\n"
   ]
  },
  {
   "cell_type": "code",
   "execution_count": 33,
   "metadata": {},
   "outputs": [
    {
     "name": "stdout",
     "output_type": "stream",
     "text": [
      "Alabama: AL\n",
      "Alaska: AK\n",
      "Arizona: AZ\n",
      "Arkansas: AR\n",
      "California: CA\n",
      "Colorado: CO\n",
      "Connecticut: CT\n",
      "Delaware: DE\n",
      "Florida: FL\n",
      "Georgia: GA\n",
      "Hawaii: HI\n",
      "Idaho: ID\n",
      "Illinois: IL\n",
      "Indiana: IN\n",
      "Iowa: IA\n",
      "Kansas: KS\n",
      "Kentucky: KY\n",
      "Louisiana: LA\n",
      "Maine: ME\n",
      "Maryland: MD\n",
      "Massachusetts: MA\n",
      "Michigan: MI\n",
      "Minnesota: MN\n",
      "Mississippi: MS\n",
      "Missouri: MO\n",
      "Montana: MT\n",
      "Nebraska: NE\n",
      "Nevada: NV\n",
      "New Hampshire: NH\n",
      "New Jersey: NJ\n",
      "New Mexico: NM\n",
      "New York: NY\n",
      "North Carolina: NC\n",
      "North Dakota: ND\n",
      "Ohio: OH\n",
      "Oklahoma: OK\n",
      "Oregon: OR\n",
      "Pennsylvania: PA\n",
      "Rhode Island: RI\n",
      "South Carolina: SC\n",
      "South Dakota: SD\n",
      "Tennessee: TN\n",
      "Texas: TX\n",
      "Utah: UT\n",
      "Vermont: VT\n",
      "Virginia: VA\n",
      "Washington: WA\n",
      "West Virginia: WV\n",
      "Wisconsin: WI\n",
      "Wyoming: WY\n"
     ]
    }
   ],
   "source": [
    "with open('/Users/steffanlynch/Data_Portfolio/Data_Sources/states.json') as f:\n",
    "    data = json.load(f)\n",
    "\n",
    "for state in data['states']:\n",
    "    print(f\"{state['name']}: {state['abbreviation']}\")"
   ]
  },
  {
   "cell_type": "code",
   "execution_count": null,
   "metadata": {},
   "outputs": [],
   "source": []
  }
 ],
 "metadata": {
  "kernelspec": {
   "display_name": "base",
   "language": "python",
   "name": "python3"
  },
  "language_info": {
   "codemirror_mode": {
    "name": "ipython",
    "version": 3
   },
   "file_extension": ".py",
   "mimetype": "text/x-python",
   "name": "python",
   "nbconvert_exporter": "python",
   "pygments_lexer": "ipython3",
   "version": "3.9.7"
  },
  "orig_nbformat": 4
 },
 "nbformat": 4,
 "nbformat_minor": 2
}
