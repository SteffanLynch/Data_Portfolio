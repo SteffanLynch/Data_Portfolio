{
 "cells": [
  {
   "cell_type": "markdown",
   "metadata": {},
   "source": [
    "## Tips for a successful submission\n",
    "What are top reasons someone may not pass the practical exam? Here's our list of what to watch out for:\n",
    "\n",
    "Familiarize yourself with the rubric and check that you’re addressing each item.\n",
    "Read Acing the DataCamp Certification Practical Exam.\n",
    "Make sure you’re meeting the data visualization criteria.\n",
    "Be sure to address the specific questions and/or business problem in the instructions.\n",
    "Leave plenty of time to submit your work.\n",
    "(Professional only) Test the tools you’ll use to present before you start.\n",
    "(Professional only) Tell the business what they need to consider for the future.\n",
    "(Professional only) Make sure to address a non-technical audience in your presentation.\n"
   ]
  },
  {
   "cell_type": "markdown",
   "metadata": {},
   "source": [
    "# Project Overview"
   ]
  },
  {
   "cell_type": "markdown",
   "metadata": {},
   "source": [
    "## What\n",
    "perform the analysis and write a short report.\n",
    "\n",
    "Sales rep has a meeting with the executive team to update them on sales approaches for the new product line so I need this information as soon as possible.\n",
    "We need to know:\n",
    "- How many customers were there for each approach?\n",
    "- What does the spread of the revenue look like overall? And for each method?\n",
    "- Was there any difference in revenue over time for each of the methods?\n",
    "- Based on the data, which method would you recommend we continue to use? Some\n",
    "of these methods take more time from the team so they may not be the best for us to use if the results are similar.\n",
    "We don’t really know if there are other differences between the customers in each group, so anything you can tell us would be really helpful to give some context to what went well."
   ]
  },
  {
   "cell_type": "markdown",
   "metadata": {},
   "source": [
    "## Who\n",
    "\n",
    "Pens and Printers provides high quality office products to large organizations. We are a trusted provider of everything from pens and notebooks to desk chairs and monitors. We don’t produce our own products but sell those made by other companies.\n",
    "\n",
    "We have built long lasting relationships with our customers and they trust us to provide them with the best products for them. As the way in which consumers buy products is changing, our sales tactics have to change too. Launching a new product line is expensive and we need to make sure we are using the best techniques to sell the new product effectively. The best approach may vary for each new product so we need to learn quickly what works and what doesn’t."
   ]
  },
  {
   "cell_type": "markdown",
   "metadata": {},
   "source": [
    "## Why\n",
    "\n",
    "Six weeks ago we launched a new line of office stationery. Despite the world becoming increasingly digital, there is still demand for notebooks, pens and sticky notes.\n",
    "Our focus has been on selling products to enable our customers to be more creative, focused on tools for brainstorming. We have tested three different sales strategies for this, targeted email and phone calls, as well as combining the two.\n",
    "\n",
    "Email: Customers in this group received an email when the product line was launched, and a further email three weeks later. This required very little work for the team.\n",
    "\n",
    "Call: Customers in this group were called by a member of the sales team. On average members of the team were on the phone for around thirty minutes per customer.\n",
    "\n",
    "Email and call: Customers in this group were first sent the product information email, then called a week later by the sales team to talk about their needs and how this new product may support their work. The email required little work from the team, the call was around ten minutes per customer."
   ]
  },
  {
   "cell_type": "markdown",
   "metadata": {},
   "source": [
    "# Project"
   ]
  },
  {
   "cell_type": "markdown",
   "metadata": {},
   "source": [
    "## Data Importing and Cleaning"
   ]
  },
  {
   "cell_type": "code",
   "execution_count": 2,
   "metadata": {},
   "outputs": [],
   "source": [
    "import pandas as pd\n",
    "import matplotlib.pyplot as plt\n",
    "import numpy as np\n",
    "import seaborn as sns\n",
    "import missingno as msno"
   ]
  },
  {
   "cell_type": "code",
   "execution_count": 12,
   "metadata": {},
   "outputs": [
    {
     "data": {
      "text/html": [
       "<div>\n",
       "<style scoped>\n",
       "    .dataframe tbody tr th:only-of-type {\n",
       "        vertical-align: middle;\n",
       "    }\n",
       "\n",
       "    .dataframe tbody tr th {\n",
       "        vertical-align: top;\n",
       "    }\n",
       "\n",
       "    .dataframe thead th {\n",
       "        text-align: right;\n",
       "    }\n",
       "</style>\n",
       "<table border=\"1\" class=\"dataframe\">\n",
       "  <thead>\n",
       "    <tr style=\"text-align: right;\">\n",
       "      <th></th>\n",
       "      <th>week</th>\n",
       "      <th>sales_method</th>\n",
       "      <th>customer_id</th>\n",
       "      <th>nb_sold</th>\n",
       "      <th>revenue</th>\n",
       "      <th>years_as_customer</th>\n",
       "      <th>nb_site_visits</th>\n",
       "      <th>state</th>\n",
       "    </tr>\n",
       "  </thead>\n",
       "  <tbody>\n",
       "    <tr>\n",
       "      <th>0</th>\n",
       "      <td>2</td>\n",
       "      <td>Email</td>\n",
       "      <td>2e72d641-95ac-497b-bbf8-4861764a7097</td>\n",
       "      <td>10</td>\n",
       "      <td>NaN</td>\n",
       "      <td>0</td>\n",
       "      <td>24</td>\n",
       "      <td>Arizona</td>\n",
       "    </tr>\n",
       "    <tr>\n",
       "      <th>1</th>\n",
       "      <td>6</td>\n",
       "      <td>Email + Call</td>\n",
       "      <td>3998a98d-70f5-44f7-942e-789bb8ad2fe7</td>\n",
       "      <td>15</td>\n",
       "      <td>225.47</td>\n",
       "      <td>1</td>\n",
       "      <td>28</td>\n",
       "      <td>Kansas</td>\n",
       "    </tr>\n",
       "    <tr>\n",
       "      <th>2</th>\n",
       "      <td>5</td>\n",
       "      <td>Call</td>\n",
       "      <td>d1de9884-8059-4065-b10f-86eef57e4a44</td>\n",
       "      <td>11</td>\n",
       "      <td>52.55</td>\n",
       "      <td>6</td>\n",
       "      <td>26</td>\n",
       "      <td>Wisconsin</td>\n",
       "    </tr>\n",
       "    <tr>\n",
       "      <th>3</th>\n",
       "      <td>4</td>\n",
       "      <td>Email</td>\n",
       "      <td>78aa75a4-ffeb-4817-b1d0-2f030783c5d7</td>\n",
       "      <td>11</td>\n",
       "      <td>NaN</td>\n",
       "      <td>3</td>\n",
       "      <td>25</td>\n",
       "      <td>Indiana</td>\n",
       "    </tr>\n",
       "    <tr>\n",
       "      <th>4</th>\n",
       "      <td>3</td>\n",
       "      <td>Email</td>\n",
       "      <td>10e6d446-10a5-42e5-8210-1b5438f70922</td>\n",
       "      <td>9</td>\n",
       "      <td>90.49</td>\n",
       "      <td>0</td>\n",
       "      <td>28</td>\n",
       "      <td>Illinois</td>\n",
       "    </tr>\n",
       "  </tbody>\n",
       "</table>\n",
       "</div>"
      ],
      "text/plain": [
       "   week  sales_method                           customer_id  nb_sold  revenue  \\\n",
       "0     2         Email  2e72d641-95ac-497b-bbf8-4861764a7097       10      NaN   \n",
       "1     6  Email + Call  3998a98d-70f5-44f7-942e-789bb8ad2fe7       15   225.47   \n",
       "2     5          Call  d1de9884-8059-4065-b10f-86eef57e4a44       11    52.55   \n",
       "3     4         Email  78aa75a4-ffeb-4817-b1d0-2f030783c5d7       11      NaN   \n",
       "4     3         Email  10e6d446-10a5-42e5-8210-1b5438f70922        9    90.49   \n",
       "\n",
       "   years_as_customer  nb_site_visits      state  \n",
       "0                  0              24    Arizona  \n",
       "1                  1              28     Kansas  \n",
       "2                  6              26  Wisconsin  \n",
       "3                  3              25    Indiana  \n",
       "4                  0              28   Illinois  "
      ]
     },
     "execution_count": 12,
     "metadata": {},
     "output_type": "execute_result"
    }
   ],
   "source": [
    "#df = pd.read_csv('original_data.csv')\n",
    "df = pd.read_csv('https://github.com/SteffanLynch/Data_Portfolio/raw/master/Data_Sources/DC_Professional_Certification_Data.csv')\n",
    "df.head()"
   ]
  },
  {
   "cell_type": "code",
   "execution_count": 4,
   "metadata": {},
   "outputs": [
    {
     "name": "stdout",
     "output_type": "stream",
     "text": [
      "(106, 787)\n",
      "\n",
      "<!DOCTYPE html><html><head><meta name=\"google\" content=\"notranslate\"><meta http-equiv=\"X-UA-Compatible\" content=\"IE=edge;\"><style nonce=\"wyO2L0D8eItgE9fD4ainYw\">@font-face{font-family:'Roboto';font-style:italic;font-weight:400;src:url(//fonts.gstatic.com/s/roboto/v18/KFOkCnqEu92Fr1Mu51xIIzc.ttf)format('truetype');}@font-face{font-family:'Roboto';font-style:normal;font-weight:300;src:url(//fonts.gstatic.com/s/roboto/v18/KFOlCnqEu92Fr1MmSU5fBBc9.ttf)format('truetype');}@font-face{font-family:'Roboto';font-style:normal;font-weight:400;src:url(//fonts.gstatic.com/s/roboto/v18/KFOmCnqEu92Fr1Mu4mxP.ttf)format('truetype');}@font-face{font-family:'Roboto';font-style:normal;font-weight:500;src:url(//fonts.gstatic.com/s/roboto/v18/KFOlCnqEu92Fr1MmEU9fBBc9.ttf)format('truetype');}@font-face{font-family:'Roboto';font-style:normal;font-weight:700;src:url(//fonts.gstatic.com/s/roboto/v18/KFOlCnqEu92Fr1MmWUlfBBc9.ttf)format('truetype');}</style><meta name=\"referrer\" content=\"origin\"><title>DC Professional Certification - Data.csv - Google Drive</title><meta property=\"og:title\" content=\"DC Professional Certification - Data.csv\"><meta property=\"og:type\" content=\"article\"><meta property=\"og:site_name\" content=\"Google Docs\"><meta property=\"og:url\" content=\"https://drive.google.com/file/d/1yEm3A3BzAf6yzzNwpV7QYp9BaSmH_yq2/view?usp=share_link&amp;usp=embed_facebook\"><link rel=\"shortcut icon\" href=\"https://ssl.gstatic.com/images/branding/product/1x/drive_2020q4_32dp.png\"><link rel=\"stylesheet\" href=\"https://fonts.googleapis.com/css?family=Google+Sans:300     object\n",
      "400                                                                                                                                                                                                                                                                                                                                                                                                                                                                                                                                                                                                                                                                                                                                                                                                                                                                                                                                                                                                                                                                                                                                                                                                                                                                                                                                                                                                                                                                                                                                                                                                                        object\n",
      "500                                                                                                                                                                                                                                                                                                                                                                                                                                                                                                                                                                                                                                                                                                                                                                                                                                                                                                                                                                                                                                                                                                                                                                                                                                                                                                                                                                                                                                                                                                                                                                                                                        object\n",
      "700\" nonce=\"wyO2L0D8eItgE9fD4ainYw\"><link rel=\"stylesheet\" href=\"https://www.gstatic.com/_/apps-fileview/_/ss/k=apps-fileview.v.ip7us8FVBMY.L.X.O/am=ABA/d=0/rs=AO0039t97Dr-0Ev5vk4XEF8IuW4FQD0lnA\" nonce=\"wyO2L0D8eItgE9fD4ainYw\"><script nonce=\"7TRJ8DDpsgL_LkUG236CJQ\">_docs_flag_initialData={\"docs-ails\":\"docs_cold\"                                                                                                                                                                                                                                                                                                                                                                                                                                                                                                                                                                                                                                                                                                                                                                                                                                                                                                                                                                                                                                                                                                                                                                                                                                                                                                  object\n",
      "docs-fwds:\"docs_sdf\"                                                                                                                                                                                                                                                                                                                                                                                                                                                                                                                                                                                                                                                                                                                                                                                                                                                                                                                                                                                                                                                                                                                                                                                                                                                                                                                                                                                                                                                                                                                                                                                                       object\n",
      "                                                                                                                                                                                                                                                                                                                                                                                                                                                                                                                                                                                                                                                                                                                                                                                                                                                                                                                                                                                                                                                                                                                                                                                                                                                                                                                                                                                                                                                                                                                                                                                                                           ...   \n",
      "[[null.2                                                                                                                                                                                                                                                                                                                                                                                                                                                                                                                                                                                                                                                                                                                                                                                                                                                                                                                                                                                                                                                                                                                                                                                                                                                                                                                                                                                                                                                                                                                                                                                                                  float64\n",
      "null.202                                                                                                                                                                                                                                                                                                                                                                                                                                                                                                                                                                                                                                                                                                                                                                                                                                                                                                                                                                                                                                                                                                                                                                                                                                                                                                                                                                                                                                                                                                                                                                                                                  float64\n",
      "null.203                                                                                                                                                                                                                                                                                                                                                                                                                                                                                                                                                                                                                                                                                                                                                                                                                                                                                                                                                                                                                                                                                                                                                                                                                                                                                                                                                                                                                                                                                                                                                                                                                  float64\n",
      "https://www.gstatic.com/og/_/js/k=og.qtm.en_US.gCY_j2aIrY4.es5.O/rt=j/m=qabr,q_dnp,qapid/exm=qaaw,qadd,qaid,qein,qhaw,qhba,qhbr,qhch,qhga,qhid,qhin,qhpr/d=1/ed=1/rs=AA2YrTu68--9ZuKdtjYX-t7k4usVb-YyZg]]]]                                                                                                                                                                                                                                                                                                                                                                                                                                                                                                                                                                                                                                                                                                                                                                                                                                                                                                                                                                                                                                                                                                                                                                                                                                                                                                                                                                                                               float64\n",
      "};this.gbar_=this.gbar_||{};(function(_){var window=this;                                                                                                                                                                                                                                                                                                                                                                                                                                                                                                                                                                                                                                                                                                                                                                                                                                                                                                                                                                                                                                                                                                                                                                                                                                                                                                                                                                                                                                                                                                                                                                 float64\n",
      "Length: 787, dtype: object\n",
      "\n",
      "<!DOCTYPE html><html><head><meta name=\"google\" content=\"notranslate\"><meta http-equiv=\"X-UA-Compatible\" content=\"IE=edge;\"><style nonce=\"wyO2L0D8eItgE9fD4ainYw\">@font-face{font-family:'Roboto';font-style:italic;font-weight:400;src:url(//fonts.gstatic.com/s/roboto/v18/KFOkCnqEu92Fr1Mu51xIIzc.ttf)format('truetype');}@font-face{font-family:'Roboto';font-style:normal;font-weight:300;src:url(//fonts.gstatic.com/s/roboto/v18/KFOlCnqEu92Fr1MmSU5fBBc9.ttf)format('truetype');}@font-face{font-family:'Roboto';font-style:normal;font-weight:400;src:url(//fonts.gstatic.com/s/roboto/v18/KFOmCnqEu92Fr1Mu4mxP.ttf)format('truetype');}@font-face{font-family:'Roboto';font-style:normal;font-weight:500;src:url(//fonts.gstatic.com/s/roboto/v18/KFOlCnqEu92Fr1MmEU9fBBc9.ttf)format('truetype');}@font-face{font-family:'Roboto';font-style:normal;font-weight:700;src:url(//fonts.gstatic.com/s/roboto/v18/KFOlCnqEu92Fr1MmWUlfBBc9.ttf)format('truetype');}</style><meta name=\"referrer\" content=\"origin\"><title>DC Professional Certification - Data.csv - Google Drive</title><meta property=\"og:title\" content=\"DC Professional Certification - Data.csv\"><meta property=\"og:type\" content=\"article\"><meta property=\"og:site_name\" content=\"Google Docs\"><meta property=\"og:url\" content=\"https://drive.google.com/file/d/1yEm3A3BzAf6yzzNwpV7QYp9BaSmH_yq2/view?usp=share_link&amp;usp=embed_facebook\"><link rel=\"shortcut icon\" href=\"https://ssl.gstatic.com/images/branding/product/1x/drive_2020q4_32dp.png\"><link rel=\"stylesheet\" href=\"https://fonts.googleapis.com/css?family=Google+Sans:300      0\n",
      "400                                                                                                                                                                                                                                                                                                                                                                                                                                                                                                                                                                                                                                                                                                                                                                                                                                                                                                                                                                                                                                                                                                                                                                                                                                                                                                                                                                                                                                                                                                                                                                                                                        40\n",
      "500                                                                                                                                                                                                                                                                                                                                                                                                                                                                                                                                                                                                                                                                                                                                                                                                                                                                                                                                                                                                                                                                                                                                                                                                                                                                                                                                                                                                                                                                                                                                                                                                                        44\n",
      "700\" nonce=\"wyO2L0D8eItgE9fD4ainYw\"><link rel=\"stylesheet\" href=\"https://www.gstatic.com/_/apps-fileview/_/ss/k=apps-fileview.v.ip7us8FVBMY.L.X.O/am=ABA/d=0/rs=AO0039t97Dr-0Ev5vk4XEF8IuW4FQD0lnA\" nonce=\"wyO2L0D8eItgE9fD4ainYw\"><script nonce=\"7TRJ8DDpsgL_LkUG236CJQ\">_docs_flag_initialData={\"docs-ails\":\"docs_cold\"                                                                                                                                                                                                                                                                                                                                                                                                                                                                                                                                                                                                                                                                                                                                                                                                                                                                                                                                                                                                                                                                                                                                                                                                                                                                                                  49\n",
      "docs-fwds:\"docs_sdf\"                                                                                                                                                                                                                                                                                                                                                                                                                                                                                                                                                                                                                                                                                                                                                                                                                                                                                                                                                                                                                                                                                                                                                                                                                                                                                                                                                                                                                                                                                                                                                                                                       51\n",
      "                                                                                                                                                                                                                                                                                                                                                                                                                                                                                                                                                                                                                                                                                                                                                                                                                                                                                                                                                                                                                                                                                                                                                                                                                                                                                                                                                                                                                                                                                                                                                                                                                         ... \n",
      "[[null.2                                                                                                                                                                                                                                                                                                                                                                                                                                                                                                                                                                                                                                                                                                                                                                                                                                                                                                                                                                                                                                                                                                                                                                                                                                                                                                                                                                                                                                                                                                                                                                                                                  106\n",
      "null.202                                                                                                                                                                                                                                                                                                                                                                                                                                                                                                                                                                                                                                                                                                                                                                                                                                                                                                                                                                                                                                                                                                                                                                                                                                                                                                                                                                                                                                                                                                                                                                                                                  106\n",
      "null.203                                                                                                                                                                                                                                                                                                                                                                                                                                                                                                                                                                                                                                                                                                                                                                                                                                                                                                                                                                                                                                                                                                                                                                                                                                                                                                                                                                                                                                                                                                                                                                                                                  106\n",
      "https://www.gstatic.com/og/_/js/k=og.qtm.en_US.gCY_j2aIrY4.es5.O/rt=j/m=qabr,q_dnp,qapid/exm=qaaw,qadd,qaid,qein,qhaw,qhba,qhbr,qhch,qhga,qhid,qhin,qhpr/d=1/ed=1/rs=AA2YrTu68--9ZuKdtjYX-t7k4usVb-YyZg]]]]                                                                                                                                                                                                                                                                                                                                                                                                                                                                                                                                                                                                                                                                                                                                                                                                                                                                                                                                                                                                                                                                                                                                                                                                                                                                                                                                                                                                               106\n",
      "};this.gbar_=this.gbar_||{};(function(_){var window=this;                                                                                                                                                                                                                                                                                                                                                                                                                                                                                                                                                                                                                                                                                                                                                                                                                                                                                                                                                                                                                                                                                                                                                                                                                                                                                                                                                                                                                                                                                                                                                                 106\n",
      "Length: 787, dtype: int64\n"
     ]
    }
   ],
   "source": [
    "print(df.shape)\n",
    "print()\n",
    "\n",
    "print(df.dtypes)\n",
    "print()\n",
    "print(df.isna().sum())"
   ]
  },
  {
   "cell_type": "code",
   "execution_count": 5,
   "metadata": {},
   "outputs": [
    {
     "ename": "KeyError",
     "evalue": "'week'",
     "output_type": "error",
     "traceback": [
      "\u001b[0;31m---------------------------------------------------------------------------\u001b[0m",
      "\u001b[0;31mKeyError\u001b[0m                                  Traceback (most recent call last)",
      "\u001b[0;32m/opt/anaconda3/lib/python3.9/site-packages/pandas/core/indexes/base.py\u001b[0m in \u001b[0;36mget_loc\u001b[0;34m(self, key, method, tolerance)\u001b[0m\n\u001b[1;32m   3360\u001b[0m             \u001b[0;32mtry\u001b[0m\u001b[0;34m:\u001b[0m\u001b[0;34m\u001b[0m\u001b[0;34m\u001b[0m\u001b[0m\n\u001b[0;32m-> 3361\u001b[0;31m                 \u001b[0;32mreturn\u001b[0m \u001b[0mself\u001b[0m\u001b[0;34m.\u001b[0m\u001b[0m_engine\u001b[0m\u001b[0;34m.\u001b[0m\u001b[0mget_loc\u001b[0m\u001b[0;34m(\u001b[0m\u001b[0mcasted_key\u001b[0m\u001b[0;34m)\u001b[0m\u001b[0;34m\u001b[0m\u001b[0;34m\u001b[0m\u001b[0m\n\u001b[0m\u001b[1;32m   3362\u001b[0m             \u001b[0;32mexcept\u001b[0m \u001b[0mKeyError\u001b[0m \u001b[0;32mas\u001b[0m \u001b[0merr\u001b[0m\u001b[0;34m:\u001b[0m\u001b[0;34m\u001b[0m\u001b[0;34m\u001b[0m\u001b[0m\n",
      "\u001b[0;32m/opt/anaconda3/lib/python3.9/site-packages/pandas/_libs/index.pyx\u001b[0m in \u001b[0;36mpandas._libs.index.IndexEngine.get_loc\u001b[0;34m()\u001b[0m\n",
      "\u001b[0;32m/opt/anaconda3/lib/python3.9/site-packages/pandas/_libs/index.pyx\u001b[0m in \u001b[0;36mpandas._libs.index.IndexEngine.get_loc\u001b[0;34m()\u001b[0m\n",
      "\u001b[0;32mpandas/_libs/hashtable_class_helper.pxi\u001b[0m in \u001b[0;36mpandas._libs.hashtable.PyObjectHashTable.get_item\u001b[0;34m()\u001b[0m\n",
      "\u001b[0;32mpandas/_libs/hashtable_class_helper.pxi\u001b[0m in \u001b[0;36mpandas._libs.hashtable.PyObjectHashTable.get_item\u001b[0;34m()\u001b[0m\n",
      "\u001b[0;31mKeyError\u001b[0m: 'week'",
      "\nThe above exception was the direct cause of the following exception:\n",
      "\u001b[0;31mKeyError\u001b[0m                                  Traceback (most recent call last)",
      "\u001b[0;32m/var/folders/9w/qn189rp947s031qfhzvqt0g40000gn/T/ipykernel_95189/1749372457.py\u001b[0m in \u001b[0;36m<module>\u001b[0;34m\u001b[0m\n\u001b[0;32m----> 1\u001b[0;31m \u001b[0mdf\u001b[0m\u001b[0;34m[\u001b[0m\u001b[0;34m'week'\u001b[0m\u001b[0;34m]\u001b[0m\u001b[0;34m.\u001b[0m\u001b[0munique\u001b[0m\u001b[0;34m(\u001b[0m\u001b[0;34m)\u001b[0m\u001b[0;34m\u001b[0m\u001b[0;34m\u001b[0m\u001b[0m\n\u001b[0m\u001b[1;32m      2\u001b[0m \u001b[0mdf\u001b[0m\u001b[0;34m[\u001b[0m\u001b[0;34m'customer_id'\u001b[0m\u001b[0;34m]\u001b[0m\u001b[0;34m.\u001b[0m\u001b[0mvalue_counts\u001b[0m\u001b[0;34m(\u001b[0m\u001b[0;34m)\u001b[0m\u001b[0;34m.\u001b[0m\u001b[0msort_values\u001b[0m\u001b[0;34m(\u001b[0m\u001b[0mascending\u001b[0m\u001b[0;34m=\u001b[0m\u001b[0;32mFalse\u001b[0m\u001b[0;34m)\u001b[0m\u001b[0;34m\u001b[0m\u001b[0;34m\u001b[0m\u001b[0m\n\u001b[1;32m      3\u001b[0m \u001b[0mdf\u001b[0m\u001b[0;34m[\u001b[0m\u001b[0mdf\u001b[0m\u001b[0;34m[\u001b[0m\u001b[0;34m'revenue'\u001b[0m\u001b[0;34m]\u001b[0m \u001b[0;34m==\u001b[0m \u001b[0mnp\u001b[0m\u001b[0;34m.\u001b[0m\u001b[0mNaN\u001b[0m\u001b[0;34m]\u001b[0m\u001b[0;34m\u001b[0m\u001b[0;34m\u001b[0m\u001b[0m\n\u001b[1;32m      4\u001b[0m \u001b[0;34m\u001b[0m\u001b[0m\n\u001b[1;32m      5\u001b[0m \u001b[0;31m#df['revenue'].value_counts()\u001b[0m\u001b[0;34m\u001b[0m\u001b[0;34m\u001b[0m\u001b[0m\n",
      "\u001b[0;32m/opt/anaconda3/lib/python3.9/site-packages/pandas/core/frame.py\u001b[0m in \u001b[0;36m__getitem__\u001b[0;34m(self, key)\u001b[0m\n\u001b[1;32m   3456\u001b[0m             \u001b[0;32mif\u001b[0m \u001b[0mself\u001b[0m\u001b[0;34m.\u001b[0m\u001b[0mcolumns\u001b[0m\u001b[0;34m.\u001b[0m\u001b[0mnlevels\u001b[0m \u001b[0;34m>\u001b[0m \u001b[0;36m1\u001b[0m\u001b[0;34m:\u001b[0m\u001b[0;34m\u001b[0m\u001b[0;34m\u001b[0m\u001b[0m\n\u001b[1;32m   3457\u001b[0m                 \u001b[0;32mreturn\u001b[0m \u001b[0mself\u001b[0m\u001b[0;34m.\u001b[0m\u001b[0m_getitem_multilevel\u001b[0m\u001b[0;34m(\u001b[0m\u001b[0mkey\u001b[0m\u001b[0;34m)\u001b[0m\u001b[0;34m\u001b[0m\u001b[0;34m\u001b[0m\u001b[0m\n\u001b[0;32m-> 3458\u001b[0;31m             \u001b[0mindexer\u001b[0m \u001b[0;34m=\u001b[0m \u001b[0mself\u001b[0m\u001b[0;34m.\u001b[0m\u001b[0mcolumns\u001b[0m\u001b[0;34m.\u001b[0m\u001b[0mget_loc\u001b[0m\u001b[0;34m(\u001b[0m\u001b[0mkey\u001b[0m\u001b[0;34m)\u001b[0m\u001b[0;34m\u001b[0m\u001b[0;34m\u001b[0m\u001b[0m\n\u001b[0m\u001b[1;32m   3459\u001b[0m             \u001b[0;32mif\u001b[0m \u001b[0mis_integer\u001b[0m\u001b[0;34m(\u001b[0m\u001b[0mindexer\u001b[0m\u001b[0;34m)\u001b[0m\u001b[0;34m:\u001b[0m\u001b[0;34m\u001b[0m\u001b[0;34m\u001b[0m\u001b[0m\n\u001b[1;32m   3460\u001b[0m                 \u001b[0mindexer\u001b[0m \u001b[0;34m=\u001b[0m \u001b[0;34m[\u001b[0m\u001b[0mindexer\u001b[0m\u001b[0;34m]\u001b[0m\u001b[0;34m\u001b[0m\u001b[0;34m\u001b[0m\u001b[0m\n",
      "\u001b[0;32m/opt/anaconda3/lib/python3.9/site-packages/pandas/core/indexes/base.py\u001b[0m in \u001b[0;36mget_loc\u001b[0;34m(self, key, method, tolerance)\u001b[0m\n\u001b[1;32m   3361\u001b[0m                 \u001b[0;32mreturn\u001b[0m \u001b[0mself\u001b[0m\u001b[0;34m.\u001b[0m\u001b[0m_engine\u001b[0m\u001b[0;34m.\u001b[0m\u001b[0mget_loc\u001b[0m\u001b[0;34m(\u001b[0m\u001b[0mcasted_key\u001b[0m\u001b[0;34m)\u001b[0m\u001b[0;34m\u001b[0m\u001b[0;34m\u001b[0m\u001b[0m\n\u001b[1;32m   3362\u001b[0m             \u001b[0;32mexcept\u001b[0m \u001b[0mKeyError\u001b[0m \u001b[0;32mas\u001b[0m \u001b[0merr\u001b[0m\u001b[0;34m:\u001b[0m\u001b[0;34m\u001b[0m\u001b[0;34m\u001b[0m\u001b[0m\n\u001b[0;32m-> 3363\u001b[0;31m                 \u001b[0;32mraise\u001b[0m \u001b[0mKeyError\u001b[0m\u001b[0;34m(\u001b[0m\u001b[0mkey\u001b[0m\u001b[0;34m)\u001b[0m \u001b[0;32mfrom\u001b[0m \u001b[0merr\u001b[0m\u001b[0;34m\u001b[0m\u001b[0;34m\u001b[0m\u001b[0m\n\u001b[0m\u001b[1;32m   3364\u001b[0m \u001b[0;34m\u001b[0m\u001b[0m\n\u001b[1;32m   3365\u001b[0m         \u001b[0;32mif\u001b[0m \u001b[0mis_scalar\u001b[0m\u001b[0;34m(\u001b[0m\u001b[0mkey\u001b[0m\u001b[0;34m)\u001b[0m \u001b[0;32mand\u001b[0m \u001b[0misna\u001b[0m\u001b[0;34m(\u001b[0m\u001b[0mkey\u001b[0m\u001b[0;34m)\u001b[0m \u001b[0;32mand\u001b[0m \u001b[0;32mnot\u001b[0m \u001b[0mself\u001b[0m\u001b[0;34m.\u001b[0m\u001b[0mhasnans\u001b[0m\u001b[0;34m:\u001b[0m\u001b[0;34m\u001b[0m\u001b[0;34m\u001b[0m\u001b[0m\n",
      "\u001b[0;31mKeyError\u001b[0m: 'week'"
     ]
    }
   ],
   "source": [
    "df['week'].unique()\n",
    "df['customer_id'].value_counts().sort_values(ascending=False)\n",
    "df[df['revenue'] == np.NaN]\n",
    "\n",
    "#df['revenue'].value_counts()"
   ]
  },
  {
   "cell_type": "code",
   "execution_count": null,
   "metadata": {},
   "outputs": [
    {
     "data": {
      "text/plain": [
       "1074"
      ]
     },
     "execution_count": 5,
     "metadata": {},
     "output_type": "execute_result"
    }
   ],
   "source": [
    "len_of_na = len(df[df['revenue'].isna() == True])\n",
    "len_of_na"
   ]
  },
  {
   "cell_type": "code",
   "execution_count": null,
   "metadata": {},
   "outputs": [
    {
     "data": {
      "text/plain": [
       "7.16"
      ]
     },
     "execution_count": 6,
     "metadata": {},
     "output_type": "execute_result"
    }
   ],
   "source": [
    "(len_of_na / len(df)) * 100"
   ]
  },
  {
   "cell_type": "code",
   "execution_count": null,
   "metadata": {},
   "outputs": [
    {
     "data": {
      "text/html": [
       "<div>\n",
       "<style scoped>\n",
       "    .dataframe tbody tr th:only-of-type {\n",
       "        vertical-align: middle;\n",
       "    }\n",
       "\n",
       "    .dataframe tbody tr th {\n",
       "        vertical-align: top;\n",
       "    }\n",
       "\n",
       "    .dataframe thead th {\n",
       "        text-align: right;\n",
       "    }\n",
       "</style>\n",
       "<table border=\"1\" class=\"dataframe\">\n",
       "  <thead>\n",
       "    <tr style=\"text-align: right;\">\n",
       "      <th></th>\n",
       "      <th>week</th>\n",
       "      <th>nb_sold</th>\n",
       "      <th>revenue</th>\n",
       "      <th>years_as_customer</th>\n",
       "      <th>nb_site_visits</th>\n",
       "    </tr>\n",
       "  </thead>\n",
       "  <tbody>\n",
       "    <tr>\n",
       "      <th>count</th>\n",
       "      <td>1074.000000</td>\n",
       "      <td>1074.000000</td>\n",
       "      <td>0.0</td>\n",
       "      <td>1074.000000</td>\n",
       "      <td>1074.000000</td>\n",
       "    </tr>\n",
       "    <tr>\n",
       "      <th>mean</th>\n",
       "      <td>3.357542</td>\n",
       "      <td>10.662942</td>\n",
       "      <td>NaN</td>\n",
       "      <td>4.797020</td>\n",
       "      <td>25.559590</td>\n",
       "    </tr>\n",
       "    <tr>\n",
       "      <th>std</th>\n",
       "      <td>1.709222</td>\n",
       "      <td>1.994864</td>\n",
       "      <td>NaN</td>\n",
       "      <td>5.006776</td>\n",
       "      <td>3.574097</td>\n",
       "    </tr>\n",
       "    <tr>\n",
       "      <th>min</th>\n",
       "      <td>1.000000</td>\n",
       "      <td>7.000000</td>\n",
       "      <td>NaN</td>\n",
       "      <td>0.000000</td>\n",
       "      <td>15.000000</td>\n",
       "    </tr>\n",
       "    <tr>\n",
       "      <th>25%</th>\n",
       "      <td>2.000000</td>\n",
       "      <td>9.000000</td>\n",
       "      <td>NaN</td>\n",
       "      <td>1.000000</td>\n",
       "      <td>23.000000</td>\n",
       "    </tr>\n",
       "    <tr>\n",
       "      <th>50%</th>\n",
       "      <td>3.000000</td>\n",
       "      <td>10.000000</td>\n",
       "      <td>NaN</td>\n",
       "      <td>3.000000</td>\n",
       "      <td>25.000000</td>\n",
       "    </tr>\n",
       "    <tr>\n",
       "      <th>75%</th>\n",
       "      <td>5.000000</td>\n",
       "      <td>12.000000</td>\n",
       "      <td>NaN</td>\n",
       "      <td>7.000000</td>\n",
       "      <td>28.000000</td>\n",
       "    </tr>\n",
       "    <tr>\n",
       "      <th>max</th>\n",
       "      <td>6.000000</td>\n",
       "      <td>16.000000</td>\n",
       "      <td>NaN</td>\n",
       "      <td>39.000000</td>\n",
       "      <td>41.000000</td>\n",
       "    </tr>\n",
       "  </tbody>\n",
       "</table>\n",
       "</div>"
      ],
      "text/plain": [
       "              week      nb_sold  revenue  years_as_customer  nb_site_visits\n",
       "count  1074.000000  1074.000000      0.0        1074.000000     1074.000000\n",
       "mean      3.357542    10.662942      NaN           4.797020       25.559590\n",
       "std       1.709222     1.994864      NaN           5.006776        3.574097\n",
       "min       1.000000     7.000000      NaN           0.000000       15.000000\n",
       "25%       2.000000     9.000000      NaN           1.000000       23.000000\n",
       "50%       3.000000    10.000000      NaN           3.000000       25.000000\n",
       "75%       5.000000    12.000000      NaN           7.000000       28.000000\n",
       "max       6.000000    16.000000      NaN          39.000000       41.000000"
      ]
     },
     "execution_count": 7,
     "metadata": {},
     "output_type": "execute_result"
    }
   ],
   "source": [
    "missing = df['revenue'].isna() == True\n",
    "\n",
    "incomplete = df[missing]\n",
    "complete = df[~missing]\n",
    "\n",
    "incomplete.describe()"
   ]
  },
  {
   "cell_type": "code",
   "execution_count": null,
   "metadata": {},
   "outputs": [
    {
     "data": {
      "text/html": [
       "<div>\n",
       "<style scoped>\n",
       "    .dataframe tbody tr th:only-of-type {\n",
       "        vertical-align: middle;\n",
       "    }\n",
       "\n",
       "    .dataframe tbody tr th {\n",
       "        vertical-align: top;\n",
       "    }\n",
       "\n",
       "    .dataframe thead th {\n",
       "        text-align: right;\n",
       "    }\n",
       "</style>\n",
       "<table border=\"1\" class=\"dataframe\">\n",
       "  <thead>\n",
       "    <tr style=\"text-align: right;\">\n",
       "      <th></th>\n",
       "      <th>week</th>\n",
       "      <th>nb_sold</th>\n",
       "      <th>revenue</th>\n",
       "      <th>years_as_customer</th>\n",
       "      <th>nb_site_visits</th>\n",
       "    </tr>\n",
       "  </thead>\n",
       "  <tbody>\n",
       "    <tr>\n",
       "      <th>count</th>\n",
       "      <td>13926.000000</td>\n",
       "      <td>13926.000000</td>\n",
       "      <td>13926.000000</td>\n",
       "      <td>13926.000000</td>\n",
       "      <td>13926.000000</td>\n",
       "    </tr>\n",
       "    <tr>\n",
       "      <th>mean</th>\n",
       "      <td>3.078271</td>\n",
       "      <td>10.040069</td>\n",
       "      <td>93.934943</td>\n",
       "      <td>4.978960</td>\n",
       "      <td>24.947006</td>\n",
       "    </tr>\n",
       "    <tr>\n",
       "      <th>std</th>\n",
       "      <td>1.650650</td>\n",
       "      <td>1.789690</td>\n",
       "      <td>47.435312</td>\n",
       "      <td>5.047828</td>\n",
       "      <td>3.491491</td>\n",
       "    </tr>\n",
       "    <tr>\n",
       "      <th>min</th>\n",
       "      <td>1.000000</td>\n",
       "      <td>7.000000</td>\n",
       "      <td>32.540000</td>\n",
       "      <td>0.000000</td>\n",
       "      <td>12.000000</td>\n",
       "    </tr>\n",
       "    <tr>\n",
       "      <th>25%</th>\n",
       "      <td>1.000000</td>\n",
       "      <td>9.000000</td>\n",
       "      <td>52.470000</td>\n",
       "      <td>1.000000</td>\n",
       "      <td>23.000000</td>\n",
       "    </tr>\n",
       "    <tr>\n",
       "      <th>50%</th>\n",
       "      <td>3.000000</td>\n",
       "      <td>10.000000</td>\n",
       "      <td>89.500000</td>\n",
       "      <td>3.000000</td>\n",
       "      <td>25.000000</td>\n",
       "    </tr>\n",
       "    <tr>\n",
       "      <th>75%</th>\n",
       "      <td>4.000000</td>\n",
       "      <td>11.000000</td>\n",
       "      <td>107.327500</td>\n",
       "      <td>7.000000</td>\n",
       "      <td>27.000000</td>\n",
       "    </tr>\n",
       "    <tr>\n",
       "      <th>max</th>\n",
       "      <td>6.000000</td>\n",
       "      <td>16.000000</td>\n",
       "      <td>238.320000</td>\n",
       "      <td>63.000000</td>\n",
       "      <td>37.000000</td>\n",
       "    </tr>\n",
       "  </tbody>\n",
       "</table>\n",
       "</div>"
      ],
      "text/plain": [
       "               week       nb_sold       revenue  years_as_customer  \\\n",
       "count  13926.000000  13926.000000  13926.000000       13926.000000   \n",
       "mean       3.078271     10.040069     93.934943           4.978960   \n",
       "std        1.650650      1.789690     47.435312           5.047828   \n",
       "min        1.000000      7.000000     32.540000           0.000000   \n",
       "25%        1.000000      9.000000     52.470000           1.000000   \n",
       "50%        3.000000     10.000000     89.500000           3.000000   \n",
       "75%        4.000000     11.000000    107.327500           7.000000   \n",
       "max        6.000000     16.000000    238.320000          63.000000   \n",
       "\n",
       "       nb_site_visits  \n",
       "count    13926.000000  \n",
       "mean        24.947006  \n",
       "std          3.491491  \n",
       "min         12.000000  \n",
       "25%         23.000000  \n",
       "50%         25.000000  \n",
       "75%         27.000000  \n",
       "max         37.000000  "
      ]
     },
     "execution_count": 8,
     "metadata": {},
     "output_type": "execute_result"
    }
   ],
   "source": [
    "complete.describe()"
   ]
  },
  {
   "cell_type": "code",
   "execution_count": null,
   "metadata": {},
   "outputs": [
    {
     "data": {
      "image/png": "[encoded data removed]",
      "text/plain": [
       "<Figure size 1800x720 with 2 Axes>"
      ]
     },
     "metadata": {
      "needs_background": "light"
     },
     "output_type": "display_data"
    }
   ],
   "source": [
    "msno.matrix(df.sort_values(by = 'years_as_customer', ascending = True))\n",
    "plt.savefig('Missing_Data_Matrix.png', dpi = 300, bbox_inches = 'tight')\n"
   ]
  },
  {
   "cell_type": "code",
   "execution_count": null,
   "metadata": {},
   "outputs": [
    {
     "data": {
      "text/html": [
       "<div>\n",
       "<style scoped>\n",
       "    .dataframe tbody tr th:only-of-type {\n",
       "        vertical-align: middle;\n",
       "    }\n",
       "\n",
       "    .dataframe tbody tr th {\n",
       "        vertical-align: top;\n",
       "    }\n",
       "\n",
       "    .dataframe thead th {\n",
       "        text-align: right;\n",
       "    }\n",
       "</style>\n",
       "<table border=\"1\" class=\"dataframe\">\n",
       "  <thead>\n",
       "    <tr style=\"text-align: right;\">\n",
       "      <th></th>\n",
       "      <th>revenue</th>\n",
       "    </tr>\n",
       "    <tr>\n",
       "      <th>sales_method</th>\n",
       "      <th></th>\n",
       "    </tr>\n",
       "  </thead>\n",
       "  <tbody>\n",
       "    <tr>\n",
       "      <th>Call</th>\n",
       "      <td>181</td>\n",
       "    </tr>\n",
       "    <tr>\n",
       "      <th>Email</th>\n",
       "      <td>541</td>\n",
       "    </tr>\n",
       "    <tr>\n",
       "      <th>Email + Call</th>\n",
       "      <td>346</td>\n",
       "    </tr>\n",
       "    <tr>\n",
       "      <th>em + call</th>\n",
       "      <td>3</td>\n",
       "    </tr>\n",
       "    <tr>\n",
       "      <th>email</th>\n",
       "      <td>3</td>\n",
       "    </tr>\n",
       "  </tbody>\n",
       "</table>\n",
       "</div>"
      ],
      "text/plain": [
       "              revenue\n",
       "sales_method         \n",
       "Call              181\n",
       "Email             541\n",
       "Email + Call      346\n",
       "em + call           3\n",
       "email               3"
      ]
     },
     "execution_count": 10,
     "metadata": {},
     "output_type": "execute_result"
    }
   ],
   "source": [
    "df.groupby('sales_method').agg({'revenue': lambda x: x.isnull().sum()})"
   ]
  },
  {
   "cell_type": "code",
   "execution_count": null,
   "metadata": {},
   "outputs": [
    {
     "data": {
      "text/plain": [
       "(13926, 8)"
      ]
     },
     "execution_count": 11,
     "metadata": {},
     "output_type": "execute_result"
    }
   ],
   "source": [
    "df.dropna(subset = ['revenue'], inplace = True)\n",
    "df.shape"
   ]
  },
  {
   "cell_type": "code",
   "execution_count": null,
   "metadata": {},
   "outputs": [
    {
     "data": {
      "text/plain": [
       "CategoricalDtype(categories=['Email + Call', 'Call', 'Email'], ordered=False)"
      ]
     },
     "execution_count": 12,
     "metadata": {},
     "output_type": "execute_result"
    }
   ],
   "source": [
    "#df['sales_method'].unique()\n",
    "df['sales_method'] = df['sales_method'].replace({'em + call': 'Email + Call', 'email': 'Email'})\n",
    "df['sales_method'].unique()\n",
    "cat = pd.CategoricalDtype(df['sales_method'].unique(), ordered= False)\n",
    "\n",
    "df['sales_method'] = df['sales_method'].astype(cat)\n",
    "\n",
    "df['sales_method'].dtype"
   ]
  },
  {
   "cell_type": "code",
   "execution_count": null,
   "metadata": {},
   "outputs": [
    {
     "data": {
      "text/plain": [
       "count     13926\n",
       "unique        3\n",
       "top       Email\n",
       "freq       6922\n",
       "Name: sales_method, dtype: object"
      ]
     },
     "execution_count": 13,
     "metadata": {},
     "output_type": "execute_result"
    }
   ],
   "source": [
    "df['sales_method'].describe()"
   ]
  },
  {
   "cell_type": "code",
   "execution_count": null,
   "metadata": {},
   "outputs": [
    {
     "data": {
      "text/plain": [
       "CategoricalDtype(categories=['Kansas', 'Wisconsin', 'Illinois', 'Mississippi', 'Georgia',\n",
       "                  'Oklahoma', 'Massachusetts', 'Missouri', 'Texas', 'New York',\n",
       "                  'Maryland', 'California', 'Tennessee', 'North Dakota',\n",
       "                  'Florida', 'Michigan', 'North Carolina', 'Pennsylvania',\n",
       "                  'Indiana', 'Hawaii', 'Colorado', 'Louisiana', 'Virginia',\n",
       "                  'Arkansas', 'Alaska', 'Oregon', 'New Hampshire', 'Ohio',\n",
       "                  'New Jersey', 'Connecticut', 'Iowa', 'Montana', 'Washington',\n",
       "                  'Arizona', 'Kentucky', 'Alabama', 'Nebraska',\n",
       "                  'South Carolina', 'Minnesota', 'South Dakota', 'Maine',\n",
       "                  'Utah', 'West Virginia', 'Vermont', 'New Mexico',\n",
       "                  'Rhode Island', 'Nevada', 'Delaware', 'Idaho', 'Wyoming'],\n",
       ", ordered=False)"
      ]
     },
     "execution_count": 14,
     "metadata": {},
     "output_type": "execute_result"
    }
   ],
   "source": [
    "cattt = pd.CategoricalDtype(df['state'].unique(), ordered= False)\n",
    "\n",
    "df['state'] = df['state'].astype(cattt)\n",
    "\n",
    "df['state'].dtype"
   ]
  },
  {
   "cell_type": "code",
   "execution_count": null,
   "metadata": {},
   "outputs": [
    {
     "data": {
      "text/plain": [
       "count          13926\n",
       "unique            50\n",
       "top       California\n",
       "freq            1739\n",
       "Name: state, dtype: object"
      ]
     },
     "execution_count": 15,
     "metadata": {},
     "output_type": "execute_result"
    }
   ],
   "source": [
    "df['state'].describe()"
   ]
  },
  {
   "cell_type": "code",
   "execution_count": null,
   "metadata": {},
   "outputs": [
    {
     "data": {
      "text/plain": [
       "count                                    13926\n",
       "unique                                   13926\n",
       "top       00020b38-1ebb-427f-88d1-c60f3c426cfe\n",
       "freq                                         1\n",
       "Name: customer_id, dtype: object"
      ]
     },
     "execution_count": 16,
     "metadata": {},
     "output_type": "execute_result"
    }
   ],
   "source": [
    "df['customer_id'] = df['customer_id'].astype('category')\n",
    "\n",
    "df['customer_id'].describe()"
   ]
  },
  {
   "cell_type": "code",
   "execution_count": null,
   "metadata": {},
   "outputs": [
    {
     "data": {
      "text/html": [
       "<div>\n",
       "<style scoped>\n",
       "    .dataframe tbody tr th:only-of-type {\n",
       "        vertical-align: middle;\n",
       "    }\n",
       "\n",
       "    .dataframe tbody tr th {\n",
       "        vertical-align: top;\n",
       "    }\n",
       "\n",
       "    .dataframe thead th {\n",
       "        text-align: right;\n",
       "    }\n",
       "</style>\n",
       "<table border=\"1\" class=\"dataframe\">\n",
       "  <thead>\n",
       "    <tr style=\"text-align: right;\">\n",
       "      <th></th>\n",
       "      <th>week</th>\n",
       "      <th>sales_method</th>\n",
       "      <th>customer_id</th>\n",
       "      <th>nb_sold</th>\n",
       "      <th>revenue</th>\n",
       "      <th>years_as_customer</th>\n",
       "      <th>nb_site_visits</th>\n",
       "      <th>state</th>\n",
       "    </tr>\n",
       "  </thead>\n",
       "  <tbody>\n",
       "  </tbody>\n",
       "</table>\n",
       "</div>"
      ],
      "text/plain": [
       "Empty DataFrame\n",
       "Columns: [week, sales_method, customer_id, nb_sold, revenue, years_as_customer, nb_site_visits, state]\n",
       "Index: []"
      ]
     },
     "execution_count": 17,
     "metadata": {},
     "output_type": "execute_result"
    }
   ],
   "source": [
    "df[df.duplicated(subset= ['customer_id'], keep=False) == True]"
   ]
  },
  {
   "cell_type": "markdown",
   "metadata": {},
   "source": [
    "The dataset contains 15000 rows and 8 columns before cleaning and validataion. I have validated all the columns against the criteria in the dataset table:\n",
    "\n",
    "- week: A range of 1 to 6 week period. The values were the same as the description. No cleaning is needed.\n",
    "- sales_method: There should have only been three unique values for this column ('Email + Call, Email & Call). However there were 5. The other two were misspellings of the correct values so I replaced them with the correct values and then converted the column type from object to Pandas Catetgorical Data Type.\n",
    "- customer_id: Object/string values without missing or duplicate data. The column was the same as the description. No cleaning is needed.\n",
    "- nb_sold: Numerical data without missing values, same as the description. No cleaning is needed.\n",
    "- revenue: Numerical data, but the only column within the entire dataset that contained any missing data. In total, there were 1074 records with missing data for revenue. This accounted for 7.16% of the entire datset. Given that there were no relationships between missing revenue values and any of the other observed (or unobserved) values, this missing data is classed as MCAR (Missing Completely at Random)\n",
    "- years_as_customer: numerical data without missing values. The column data/values is the same as the description. No cleaning is needed.\n",
    "- nb_site_visits: numerical data without missing values. The column data/values is the same as the description. No cleaning is needed.\n",
    "- state: There are 50 possible unique values without missing values, same as the description. While no cleaning was necessary for this coloumn, I did however, connvert the column from an object tyoe to a Pandas Categorical Data Type for the sake of speed and memory.\n",
    "\n",
    "After the data validation, the dataset contains 13926 rows and 8 columns without missing values."
   ]
  },
  {
   "cell_type": "markdown",
   "metadata": {},
   "source": [
    "## Exploratory Analysis"
   ]
  },
  {
   "cell_type": "markdown",
   "metadata": {},
   "source": [
    "### Differences in Customer Groups"
   ]
  },
  {
   "cell_type": "code",
   "execution_count": null,
   "metadata": {},
   "outputs": [
    {
     "data": {
      "text/html": [
       "<div>\n",
       "<style scoped>\n",
       "    .dataframe tbody tr th:only-of-type {\n",
       "        vertical-align: middle;\n",
       "    }\n",
       "\n",
       "    .dataframe tbody tr th {\n",
       "        vertical-align: top;\n",
       "    }\n",
       "\n",
       "    .dataframe thead th {\n",
       "        text-align: right;\n",
       "    }\n",
       "</style>\n",
       "<table border=\"1\" class=\"dataframe\">\n",
       "  <thead>\n",
       "    <tr style=\"text-align: right;\">\n",
       "      <th></th>\n",
       "      <th>sales_method</th>\n",
       "      <th>customer_id</th>\n",
       "      <th>nb_sold</th>\n",
       "      <th>revenue</th>\n",
       "      <th>years_as_customer</th>\n",
       "      <th>nb_site_visits</th>\n",
       "      <th>revenue_per_cust</th>\n",
       "      <th>sold_per_cust</th>\n",
       "      <th>revenue_per_sold</th>\n",
       "    </tr>\n",
       "  </thead>\n",
       "  <tbody>\n",
       "    <tr>\n",
       "      <th>0</th>\n",
       "      <td>Email + Call</td>\n",
       "      <td>2223</td>\n",
       "      <td>27091</td>\n",
       "      <td>408256.69</td>\n",
       "      <td>4.526316</td>\n",
       "      <td>26.738641</td>\n",
       "      <td>183.651233</td>\n",
       "      <td>12.186685</td>\n",
       "      <td>15.069827</td>\n",
       "    </tr>\n",
       "    <tr>\n",
       "      <th>1</th>\n",
       "      <td>Call</td>\n",
       "      <td>4781</td>\n",
       "      <td>45424</td>\n",
       "      <td>227563.49</td>\n",
       "      <td>5.161472</td>\n",
       "      <td>24.422297</td>\n",
       "      <td>47.597467</td>\n",
       "      <td>9.500941</td>\n",
       "      <td>5.009763</td>\n",
       "    </tr>\n",
       "    <tr>\n",
       "      <th>2</th>\n",
       "      <td>Email</td>\n",
       "      <td>6922</td>\n",
       "      <td>67303</td>\n",
       "      <td>672317.83</td>\n",
       "      <td>4.998266</td>\n",
       "      <td>24.734036</td>\n",
       "      <td>97.127684</td>\n",
       "      <td>9.723057</td>\n",
       "      <td>9.989418</td>\n",
       "    </tr>\n",
       "  </tbody>\n",
       "</table>\n",
       "</div>"
      ],
      "text/plain": [
       "   sales_method  customer_id  nb_sold    revenue  years_as_customer  \\\n",
       "0  Email + Call         2223    27091  408256.69           4.526316   \n",
       "1          Call         4781    45424  227563.49           5.161472   \n",
       "2         Email         6922    67303  672317.83           4.998266   \n",
       "\n",
       "   nb_site_visits  revenue_per_cust  sold_per_cust  revenue_per_sold  \n",
       "0       26.738641        183.651233      12.186685         15.069827  \n",
       "1       24.422297         47.597467       9.500941          5.009763  \n",
       "2       24.734036         97.127684       9.723057          9.989418  "
      ]
     },
     "execution_count": 18,
     "metadata": {},
     "output_type": "execute_result"
    }
   ],
   "source": [
    "cols = ['customer_id', 'nb_sold', 'revenue', 'years_as_customer', 'nb_site_visits']\n",
    "methods = df.groupby('sales_method')[cols].agg({cols[0]: 'count', cols[1]: 'sum', cols[2]: 'sum', \\\n",
    "            cols[3]:'mean', cols[4]: 'mean'})\n",
    "methods['revenue_per_cust'] = methods['revenue'] / methods['customer_id']\n",
    "methods['sold_per_cust'] = methods['nb_sold'] / methods['customer_id']\n",
    "methods['revenue_per_sold'] = methods['revenue'] / methods['nb_sold']\n",
    "methods.reset_index(inplace = True)\n",
    "methods"
   ]
  },
  {
   "cell_type": "code",
   "execution_count": null,
   "metadata": {},
   "outputs": [
    {
     "name": "stderr",
     "output_type": "stream",
     "text": [
      "No handles with labels found to put in legend.\n"
     ]
    },
    {
     "data": {
      "image/png": "[encoded data removed]",
      "text/plain": [
       "<Figure size 432x288 with 2 Axes>"
      ]
     },
     "metadata": {
      "needs_background": "light"
     },
     "output_type": "display_data"
    }
   ],
   "source": [
    "fig, axes = plt.subplots(1, 2) #, sharey=True\n",
    "\n",
    "method_order = ['Email + Call', 'Email', 'Call']\n",
    "method_colours = {'Email + Call': 'green', 'Email': 'blue', 'Call': 'orange'}\n",
    "\n",
    "sns.barplot(data = methods, x = 'sales_method', y = 'revenue_per_cust', ax = axes[0], \\\n",
    "    order = method_order, hue_order= method_order, palette= method_colours)\n",
    "sns.barplot(data = methods, x = 'sales_method', y = 'sold_per_cust', ax = axes[1], \\\n",
    "    order = method_order, hue_order= method_order,  palette= method_colours)\n",
    "\n",
    "fig.tight_layout()\n",
    "\n",
    "axes[0].set_xlabel(None)\n",
    "axes[0].set_ylabel('Revenue Per Customer')\n",
    "axes[1].set_xlabel(None)\n",
    "axes[1].set_ylabel('Number Sold Per Customer')\n",
    "plt.title('Average of Revenue/Number Sold per Customer', x = -0.1, y = 1.05)\n",
    "plt.savefig('Average_of_Revenue_and_Number_Sold_per_Customer.png', dpi = 300, bbox_inches = 'tight')\n",
    "plt.legend()\n",
    "plt.show()"
   ]
  },
  {
   "cell_type": "markdown",
   "metadata": {},
   "source": [
    "Email and Call seems to be the most effective sales method of all three. While this sales method had the fewest number of ciustomers, they had by far the most revenue in total. This means that had the largest ratio of revenue to customer out of all the three methods.\n",
    "\n",
    "The same is true for the number of site visits. While there was a narrower spread for the average number of site visits for each group, the email and call method, proves to still be most effective and yield the highest returns."
   ]
  },
  {
   "cell_type": "code",
   "execution_count": null,
   "metadata": {},
   "outputs": [
    {
     "data": {
      "text/html": [
       "<div>\n",
       "<style scoped>\n",
       "    .dataframe tbody tr th:only-of-type {\n",
       "        vertical-align: middle;\n",
       "    }\n",
       "\n",
       "    .dataframe tbody tr th {\n",
       "        vertical-align: top;\n",
       "    }\n",
       "\n",
       "    .dataframe thead th {\n",
       "        text-align: right;\n",
       "    }\n",
       "</style>\n",
       "<table border=\"1\" class=\"dataframe\">\n",
       "  <thead>\n",
       "    <tr style=\"text-align: right;\">\n",
       "      <th></th>\n",
       "      <th>week</th>\n",
       "      <th>sales_method</th>\n",
       "      <th>customer_id</th>\n",
       "      <th>nb_sold</th>\n",
       "      <th>revenue</th>\n",
       "      <th>years_as_customer</th>\n",
       "      <th>nb_site_visits</th>\n",
       "      <th>state</th>\n",
       "    </tr>\n",
       "  </thead>\n",
       "  <tbody>\n",
       "    <tr>\n",
       "      <th>1</th>\n",
       "      <td>6</td>\n",
       "      <td>Email + Call</td>\n",
       "      <td>3998a98d-70f5-44f7-942e-789bb8ad2fe7</td>\n",
       "      <td>15</td>\n",
       "      <td>225.47</td>\n",
       "      <td>1</td>\n",
       "      <td>28</td>\n",
       "      <td>Kansas</td>\n",
       "    </tr>\n",
       "    <tr>\n",
       "      <th>2</th>\n",
       "      <td>5</td>\n",
       "      <td>Call</td>\n",
       "      <td>d1de9884-8059-4065-b10f-86eef57e4a44</td>\n",
       "      <td>11</td>\n",
       "      <td>52.55</td>\n",
       "      <td>6</td>\n",
       "      <td>26</td>\n",
       "      <td>Wisconsin</td>\n",
       "    </tr>\n",
       "    <tr>\n",
       "      <th>5</th>\n",
       "      <td>6</td>\n",
       "      <td>Call</td>\n",
       "      <td>6489e678-40f2-4fed-a48e-d0dff9c09205</td>\n",
       "      <td>13</td>\n",
       "      <td>65.01</td>\n",
       "      <td>10</td>\n",
       "      <td>24</td>\n",
       "      <td>Mississippi</td>\n",
       "    </tr>\n",
       "    <tr>\n",
       "      <th>6</th>\n",
       "      <td>4</td>\n",
       "      <td>Email</td>\n",
       "      <td>eb6bd5f1-f115-4e4b-80a6-5e67fcfbfb94</td>\n",
       "      <td>11</td>\n",
       "      <td>113.38</td>\n",
       "      <td>9</td>\n",
       "      <td>28</td>\n",
       "      <td>Georgia</td>\n",
       "    </tr>\n",
       "    <tr>\n",
       "      <th>7</th>\n",
       "      <td>1</td>\n",
       "      <td>Email</td>\n",
       "      <td>047df079-071b-4380-9012-2bfe9bce45d5</td>\n",
       "      <td>10</td>\n",
       "      <td>99.94</td>\n",
       "      <td>1</td>\n",
       "      <td>22</td>\n",
       "      <td>Oklahoma</td>\n",
       "    </tr>\n",
       "    <tr>\n",
       "      <th>...</th>\n",
       "      <td>...</td>\n",
       "      <td>...</td>\n",
       "      <td>...</td>\n",
       "      <td>...</td>\n",
       "      <td>...</td>\n",
       "      <td>...</td>\n",
       "      <td>...</td>\n",
       "      <td>...</td>\n",
       "    </tr>\n",
       "    <tr>\n",
       "      <th>14993</th>\n",
       "      <td>1</td>\n",
       "      <td>Email</td>\n",
       "      <td>3ec54950-652e-4d8a-bc49-8b5c770c6cd2</td>\n",
       "      <td>8</td>\n",
       "      <td>83.98</td>\n",
       "      <td>2</td>\n",
       "      <td>21</td>\n",
       "      <td>Texas</td>\n",
       "    </tr>\n",
       "    <tr>\n",
       "      <th>14994</th>\n",
       "      <td>4</td>\n",
       "      <td>Email</td>\n",
       "      <td>56f02e26-3633-427d-8c4e-f45f00afa787</td>\n",
       "      <td>11</td>\n",
       "      <td>109.36</td>\n",
       "      <td>3</td>\n",
       "      <td>25</td>\n",
       "      <td>Ohio</td>\n",
       "    </tr>\n",
       "    <tr>\n",
       "      <th>14996</th>\n",
       "      <td>5</td>\n",
       "      <td>Call</td>\n",
       "      <td>09e10d6f-4508-4b27-895e-4db11ce8302b</td>\n",
       "      <td>10</td>\n",
       "      <td>52.33</td>\n",
       "      <td>1</td>\n",
       "      <td>27</td>\n",
       "      <td>Kansas</td>\n",
       "    </tr>\n",
       "    <tr>\n",
       "      <th>14997</th>\n",
       "      <td>1</td>\n",
       "      <td>Call</td>\n",
       "      <td>839653cb-68c9-48cb-a097-0a5a3b2b298b</td>\n",
       "      <td>7</td>\n",
       "      <td>34.87</td>\n",
       "      <td>4</td>\n",
       "      <td>22</td>\n",
       "      <td>West Virginia</td>\n",
       "    </tr>\n",
       "    <tr>\n",
       "      <th>14998</th>\n",
       "      <td>6</td>\n",
       "      <td>Call</td>\n",
       "      <td>e4dad70a-b23b-407c-8bd3-e32ea00fae17</td>\n",
       "      <td>13</td>\n",
       "      <td>64.90</td>\n",
       "      <td>2</td>\n",
       "      <td>27</td>\n",
       "      <td>New Jersey</td>\n",
       "    </tr>\n",
       "  </tbody>\n",
       "</table>\n",
       "<p>12576 rows × 8 columns</p>\n",
       "</div>"
      ],
      "text/plain": [
       "       week  sales_method                           customer_id  nb_sold  \\\n",
       "1         6  Email + Call  3998a98d-70f5-44f7-942e-789bb8ad2fe7       15   \n",
       "2         5          Call  d1de9884-8059-4065-b10f-86eef57e4a44       11   \n",
       "5         6          Call  6489e678-40f2-4fed-a48e-d0dff9c09205       13   \n",
       "6         4         Email  eb6bd5f1-f115-4e4b-80a6-5e67fcfbfb94       11   \n",
       "7         1         Email  047df079-071b-4380-9012-2bfe9bce45d5       10   \n",
       "...     ...           ...                                   ...      ...   \n",
       "14993     1         Email  3ec54950-652e-4d8a-bc49-8b5c770c6cd2        8   \n",
       "14994     4         Email  56f02e26-3633-427d-8c4e-f45f00afa787       11   \n",
       "14996     5          Call  09e10d6f-4508-4b27-895e-4db11ce8302b       10   \n",
       "14997     1          Call  839653cb-68c9-48cb-a097-0a5a3b2b298b        7   \n",
       "14998     6          Call  e4dad70a-b23b-407c-8bd3-e32ea00fae17       13   \n",
       "\n",
       "       revenue  years_as_customer  nb_site_visits          state  \n",
       "1       225.47                  1              28         Kansas  \n",
       "2        52.55                  6              26      Wisconsin  \n",
       "5        65.01                 10              24    Mississippi  \n",
       "6       113.38                  9              28        Georgia  \n",
       "7        99.94                  1              22       Oklahoma  \n",
       "...        ...                ...             ...            ...  \n",
       "14993    83.98                  2              21          Texas  \n",
       "14994   109.36                  3              25           Ohio  \n",
       "14996    52.33                  1              27         Kansas  \n",
       "14997    34.87                  4              22  West Virginia  \n",
       "14998    64.90                  2              27     New Jersey  \n",
       "\n",
       "[12576 rows x 8 columns]"
      ]
     },
     "execution_count": 20,
     "metadata": {},
     "output_type": "execute_result"
    }
   ],
   "source": [
    "df[(0 < df['years_as_customer']) & (df['years_as_customer'] < 40)]"
   ]
  },
  {
   "cell_type": "code",
   "execution_count": null,
   "metadata": {},
   "outputs": [
    {
     "data": {
      "image/png": "[encoded data removed]",
      "text/plain": [
       "<Figure size 432x288 with 1 Axes>"
      ]
     },
     "metadata": {
      "needs_background": "light"
     },
     "output_type": "display_data"
    }
   ],
   "source": [
    "sns.histplot(data = df[(0 < df['years_as_customer']) & (df['years_as_customer'] < 40)], \\\n",
    "    x = 'years_as_customer', hue= 'sales_method', bins= 15 )\n",
    "plt.show()"
   ]
  },
  {
   "cell_type": "code",
   "execution_count": null,
   "metadata": {},
   "outputs": [
    {
     "data": {
      "text/html": [
       "<div>\n",
       "<style scoped>\n",
       "    .dataframe tbody tr th:only-of-type {\n",
       "        vertical-align: middle;\n",
       "    }\n",
       "\n",
       "    .dataframe tbody tr th {\n",
       "        vertical-align: top;\n",
       "    }\n",
       "\n",
       "    .dataframe thead th {\n",
       "        text-align: right;\n",
       "    }\n",
       "</style>\n",
       "<table border=\"1\" class=\"dataframe\">\n",
       "  <thead>\n",
       "    <tr style=\"text-align: right;\">\n",
       "      <th></th>\n",
       "      <th>week</th>\n",
       "      <th>sales_method</th>\n",
       "      <th>customer_id</th>\n",
       "      <th>nb_sold</th>\n",
       "      <th>revenue</th>\n",
       "      <th>years_as_customer</th>\n",
       "      <th>nb_site_visits</th>\n",
       "      <th>state</th>\n",
       "      <th>years_as_customer_grp</th>\n",
       "    </tr>\n",
       "  </thead>\n",
       "  <tbody>\n",
       "    <tr>\n",
       "      <th>1</th>\n",
       "      <td>6</td>\n",
       "      <td>Email + Call</td>\n",
       "      <td>3998a98d-70f5-44f7-942e-789bb8ad2fe7</td>\n",
       "      <td>15</td>\n",
       "      <td>225.47</td>\n",
       "      <td>1</td>\n",
       "      <td>28</td>\n",
       "      <td>Kansas</td>\n",
       "      <td>0-5 yrs</td>\n",
       "    </tr>\n",
       "    <tr>\n",
       "      <th>2</th>\n",
       "      <td>5</td>\n",
       "      <td>Call</td>\n",
       "      <td>d1de9884-8059-4065-b10f-86eef57e4a44</td>\n",
       "      <td>11</td>\n",
       "      <td>52.55</td>\n",
       "      <td>6</td>\n",
       "      <td>26</td>\n",
       "      <td>Wisconsin</td>\n",
       "      <td>6-10 yrs</td>\n",
       "    </tr>\n",
       "    <tr>\n",
       "      <th>4</th>\n",
       "      <td>3</td>\n",
       "      <td>Email</td>\n",
       "      <td>10e6d446-10a5-42e5-8210-1b5438f70922</td>\n",
       "      <td>9</td>\n",
       "      <td>90.49</td>\n",
       "      <td>0</td>\n",
       "      <td>28</td>\n",
       "      <td>Illinois</td>\n",
       "      <td>0-5 yrs</td>\n",
       "    </tr>\n",
       "    <tr>\n",
       "      <th>5</th>\n",
       "      <td>6</td>\n",
       "      <td>Call</td>\n",
       "      <td>6489e678-40f2-4fed-a48e-d0dff9c09205</td>\n",
       "      <td>13</td>\n",
       "      <td>65.01</td>\n",
       "      <td>10</td>\n",
       "      <td>24</td>\n",
       "      <td>Mississippi</td>\n",
       "      <td>6-10 yrs</td>\n",
       "    </tr>\n",
       "    <tr>\n",
       "      <th>6</th>\n",
       "      <td>4</td>\n",
       "      <td>Email</td>\n",
       "      <td>eb6bd5f1-f115-4e4b-80a6-5e67fcfbfb94</td>\n",
       "      <td>11</td>\n",
       "      <td>113.38</td>\n",
       "      <td>9</td>\n",
       "      <td>28</td>\n",
       "      <td>Georgia</td>\n",
       "      <td>6-10 yrs</td>\n",
       "    </tr>\n",
       "  </tbody>\n",
       "</table>\n",
       "</div>"
      ],
      "text/plain": [
       "   week  sales_method                           customer_id  nb_sold  revenue  \\\n",
       "1     6  Email + Call  3998a98d-70f5-44f7-942e-789bb8ad2fe7       15   225.47   \n",
       "2     5          Call  d1de9884-8059-4065-b10f-86eef57e4a44       11    52.55   \n",
       "4     3         Email  10e6d446-10a5-42e5-8210-1b5438f70922        9    90.49   \n",
       "5     6          Call  6489e678-40f2-4fed-a48e-d0dff9c09205       13    65.01   \n",
       "6     4         Email  eb6bd5f1-f115-4e4b-80a6-5e67fcfbfb94       11   113.38   \n",
       "\n",
       "   years_as_customer  nb_site_visits        state years_as_customer_grp  \n",
       "1                  1              28       Kansas               0-5 yrs  \n",
       "2                  6              26    Wisconsin              6-10 yrs  \n",
       "4                  0              28     Illinois               0-5 yrs  \n",
       "5                 10              24  Mississippi              6-10 yrs  \n",
       "6                  9              28      Georgia              6-10 yrs  "
      ]
     },
     "execution_count": 22,
     "metadata": {},
     "output_type": "execute_result"
    }
   ],
   "source": [
    "ranges = list(np.arange(0, 45, 5))\n",
    "ranges.append(np.inf)\n",
    "group_names = ['0-5 yrs', '6-10 yrs', '11-15 yrs', '16-20 yrs', '21-25 yrs', '26-30 yrs', '31-35 yrs', '36-40 yrs', '41+ yrs']\n",
    "\n",
    "df['years_as_customer_grp'] = pd.cut(df['years_as_customer'], bins =ranges, labels = group_names)\n",
    "df.loc[df['years_as_customer'] == 0, 'years_as_customer_grp'] = '0-5 yrs'\n",
    "df.head()"
   ]
  },
  {
   "cell_type": "code",
   "execution_count": null,
   "metadata": {},
   "outputs": [
    {
     "data": {
      "image/png": "[encoded data removed]",
      "text/plain": [
       "<Figure size 432x288 with 1 Axes>"
      ]
     },
     "metadata": {
      "needs_background": "light"
     },
     "output_type": "display_data"
    }
   ],
   "source": [
    "\n",
    "group_names = ['0-5 yrs', '6-10 yrs', '11-15 yrs', '16-20 yrs', '21-25 yrs', '26-30 yrs', '31-35 yrs', '36-40 yrs', '41+ yrs']\n",
    "\n",
    "df['years_as_customer_grp'] = pd.cut(df['years_as_customer'], bins =ranges, labels = group_names)\n",
    "df.loc[df['years_as_customer'] == 0, 'years_as_customer_grp'] = '0-5 yrs'\n",
    "sns.countplot(data = df, \\\n",
    "    y = 'years_as_customer_grp', hue= 'sales_method', palette=method_colours)\n",
    "plt.show()"
   ]
  },
  {
   "cell_type": "code",
   "execution_count": null,
   "metadata": {},
   "outputs": [
    {
     "data": {
      "image/png": "[encoded data removed]",
      "text/plain": [
       "<Figure size 360x360 with 1 Axes>"
      ]
     },
     "metadata": {
      "needs_background": "light"
     },
     "output_type": "display_data"
    }
   ],
   "source": [
    "sns.lmplot(data = df, x = 'nb_sold', y = 'revenue', hue = 'sales_method', palette=method_colours, legend=False)\n",
    "\n",
    "\n",
    "\n",
    "plt.xlabel('Number of Site Visits')\n",
    "plt.ylabel('Revenue')\n",
    "plt.title('Site Vists against Revenue Regression Plot', x = 0.5, y = 1.05)\n",
    "plt.savefig('Site_Vists_against_Revenue_Regression_Plot.png', dpi = 300, bbox_inches = 'tight')\n",
    "plt.tight_layout()\n",
    "plt.legend()\n",
    "plt.show()"
   ]
  },
  {
   "cell_type": "markdown",
   "metadata": {},
   "source": [
    "We can see that, although week, there are is positive correlation between number of site visits and revenue. As the number of the site visites increases, as does the revenue. \n",
    "\n",
    "However, from the graph, we can see that with the email and call group, there is a stronger relationshp. Email and call strengthens the corrleation so an there's a higher rate of increase for the revenue compared to the number of site visits."
   ]
  },
  {
   "cell_type": "code",
   "execution_count": null,
   "metadata": {},
   "outputs": [
    {
     "data": {
      "text/html": [
       "<div>\n",
       "<style scoped>\n",
       "    .dataframe tbody tr th:only-of-type {\n",
       "        vertical-align: middle;\n",
       "    }\n",
       "\n",
       "    .dataframe tbody tr th {\n",
       "        vertical-align: top;\n",
       "    }\n",
       "\n",
       "    .dataframe thead th {\n",
       "        text-align: right;\n",
       "    }\n",
       "</style>\n",
       "<table border=\"1\" class=\"dataframe\">\n",
       "  <thead>\n",
       "    <tr style=\"text-align: right;\">\n",
       "      <th></th>\n",
       "      <th></th>\n",
       "      <th>state</th>\n",
       "    </tr>\n",
       "    <tr>\n",
       "      <th>sales_method</th>\n",
       "      <th></th>\n",
       "      <th></th>\n",
       "    </tr>\n",
       "  </thead>\n",
       "  <tbody>\n",
       "    <tr>\n",
       "      <th rowspan=\"4\" valign=\"top\">Email + Call</th>\n",
       "      <th>California</th>\n",
       "      <td>263</td>\n",
       "    </tr>\n",
       "    <tr>\n",
       "      <th>Texas</th>\n",
       "      <td>191</td>\n",
       "    </tr>\n",
       "    <tr>\n",
       "      <th>New York</th>\n",
       "      <td>137</td>\n",
       "    </tr>\n",
       "    <tr>\n",
       "      <th>Florida</th>\n",
       "      <td>131</td>\n",
       "    </tr>\n",
       "    <tr>\n",
       "      <th rowspan=\"4\" valign=\"top\">Call</th>\n",
       "      <th>California</th>\n",
       "      <td>621</td>\n",
       "    </tr>\n",
       "    <tr>\n",
       "      <th>Texas</th>\n",
       "      <td>357</td>\n",
       "    </tr>\n",
       "    <tr>\n",
       "      <th>New York</th>\n",
       "      <td>330</td>\n",
       "    </tr>\n",
       "    <tr>\n",
       "      <th>Florida</th>\n",
       "      <td>287</td>\n",
       "    </tr>\n",
       "    <tr>\n",
       "      <th rowspan=\"4\" valign=\"top\">Email</th>\n",
       "      <th>California</th>\n",
       "      <td>855</td>\n",
       "    </tr>\n",
       "    <tr>\n",
       "      <th>Texas</th>\n",
       "      <td>561</td>\n",
       "    </tr>\n",
       "    <tr>\n",
       "      <th>New York</th>\n",
       "      <td>432</td>\n",
       "    </tr>\n",
       "    <tr>\n",
       "      <th>Florida</th>\n",
       "      <td>408</td>\n",
       "    </tr>\n",
       "  </tbody>\n",
       "</table>\n",
       "</div>"
      ],
      "text/plain": [
       "                         state\n",
       "sales_method                  \n",
       "Email + Call California    263\n",
       "             Texas         191\n",
       "             New York      137\n",
       "             Florida       131\n",
       "Call         California    621\n",
       "             Texas         357\n",
       "             New York      330\n",
       "             Florida       287\n",
       "Email        California    855\n",
       "             Texas         561\n",
       "             New York      432\n",
       "             Florida       408"
      ]
     },
     "execution_count": 25,
     "metadata": {},
     "output_type": "execute_result"
    }
   ],
   "source": [
    "state = df.groupby('sales_method')['state'].apply(lambda groupp: groupp.value_counts().nlargest(4)).to_frame()\n",
    "#state.unstack()\n",
    "state"
   ]
  },
  {
   "cell_type": "code",
   "execution_count": null,
   "metadata": {},
   "outputs": [
    {
     "data": {
      "image/png": "[encoded data removed]",
      "text/plain": [
       "<Figure size 432x288 with 1 Axes>"
      ]
     },
     "metadata": {
      "needs_background": "light"
     },
     "output_type": "display_data"
    }
   ],
   "source": [
    "sns.boxplot(data = df, x = 'sales_method', y = 'years_as_customer')\n",
    "plt.show()"
   ]
  },
  {
   "cell_type": "code",
   "execution_count": null,
   "metadata": {},
   "outputs": [
    {
     "data": {
      "text/html": [
       "<div>\n",
       "<style scoped>\n",
       "    .dataframe tbody tr th:only-of-type {\n",
       "        vertical-align: middle;\n",
       "    }\n",
       "\n",
       "    .dataframe tbody tr th {\n",
       "        vertical-align: top;\n",
       "    }\n",
       "\n",
       "    .dataframe thead th {\n",
       "        text-align: right;\n",
       "    }\n",
       "</style>\n",
       "<table border=\"1\" class=\"dataframe\">\n",
       "  <thead>\n",
       "    <tr style=\"text-align: right;\">\n",
       "      <th></th>\n",
       "      <th>state</th>\n",
       "      <th>sales_method</th>\n",
       "      <th>sales_method</th>\n",
       "    </tr>\n",
       "  </thead>\n",
       "  <tbody>\n",
       "    <tr>\n",
       "      <th>0</th>\n",
       "      <td>Kansas</td>\n",
       "      <td>Email</td>\n",
       "      <td>64</td>\n",
       "    </tr>\n",
       "    <tr>\n",
       "      <th>1</th>\n",
       "      <td>Kansas</td>\n",
       "      <td>Call</td>\n",
       "      <td>45</td>\n",
       "    </tr>\n",
       "    <tr>\n",
       "      <th>2</th>\n",
       "      <td>Kansas</td>\n",
       "      <td>Email + Call</td>\n",
       "      <td>20</td>\n",
       "    </tr>\n",
       "    <tr>\n",
       "      <th>3</th>\n",
       "      <td>Wisconsin</td>\n",
       "      <td>Email</td>\n",
       "      <td>122</td>\n",
       "    </tr>\n",
       "    <tr>\n",
       "      <th>4</th>\n",
       "      <td>Wisconsin</td>\n",
       "      <td>Call</td>\n",
       "      <td>75</td>\n",
       "    </tr>\n",
       "    <tr>\n",
       "      <th>...</th>\n",
       "      <td>...</td>\n",
       "      <td>...</td>\n",
       "      <td>...</td>\n",
       "    </tr>\n",
       "    <tr>\n",
       "      <th>145</th>\n",
       "      <td>Idaho</td>\n",
       "      <td>Call</td>\n",
       "      <td>15</td>\n",
       "    </tr>\n",
       "    <tr>\n",
       "      <th>146</th>\n",
       "      <td>Idaho</td>\n",
       "      <td>Email + Call</td>\n",
       "      <td>13</td>\n",
       "    </tr>\n",
       "    <tr>\n",
       "      <th>147</th>\n",
       "      <td>Wyoming</td>\n",
       "      <td>Email</td>\n",
       "      <td>14</td>\n",
       "    </tr>\n",
       "    <tr>\n",
       "      <th>148</th>\n",
       "      <td>Wyoming</td>\n",
       "      <td>Call</td>\n",
       "      <td>12</td>\n",
       "    </tr>\n",
       "    <tr>\n",
       "      <th>149</th>\n",
       "      <td>Wyoming</td>\n",
       "      <td>Email + Call</td>\n",
       "      <td>6</td>\n",
       "    </tr>\n",
       "  </tbody>\n",
       "</table>\n",
       "<p>150 rows × 3 columns</p>\n",
       "</div>"
      ],
      "text/plain": [
       "         state  sales_method  sales_method\n",
       "0       Kansas         Email            64\n",
       "1       Kansas          Call            45\n",
       "2       Kansas  Email + Call            20\n",
       "3    Wisconsin         Email           122\n",
       "4    Wisconsin          Call            75\n",
       "..         ...           ...           ...\n",
       "145      Idaho          Call            15\n",
       "146      Idaho  Email + Call            13\n",
       "147    Wyoming         Email            14\n",
       "148    Wyoming          Call            12\n",
       "149    Wyoming  Email + Call             6\n",
       "\n",
       "[150 rows x 3 columns]"
      ]
     },
     "execution_count": 27,
     "metadata": {},
     "output_type": "execute_result"
    }
   ],
   "source": [
    "state = df.groupby('state')['sales_method'].value_counts().to_frame()\n",
    "state = state.reset_index().rename(columns= {'level_1': 'sales_method'})\n",
    "state"
   ]
  },
  {
   "cell_type": "markdown",
   "metadata": {},
   "source": [
    "### How many customers were there for each approach?"
   ]
  },
  {
   "cell_type": "code",
   "execution_count": null,
   "metadata": {},
   "outputs": [
    {
     "data": {
      "image/png": "[encoded data removed]",
      "text/plain": [
       "<Figure size 432x288 with 1 Axes>"
      ]
     },
     "metadata": {
      "needs_background": "light"
     },
     "output_type": "display_data"
    }
   ],
   "source": [
    "sns.countplot(data = df, x = 'sales_method', palette=method_colours)\n",
    "plt.ylabel('Count of Customers')\n",
    "plt.xlabel(None)\n",
    "plt.title('Number of Customer per Sales Method', y = 1.05)\n",
    "\n",
    "plt.tight_layout()\n",
    "plt.savefig('Number_of_Customer_per_Sales_Method.png', dpi = 300, bbox_inches = 'tight')\n",
    "plt.show()"
   ]
  },
  {
   "cell_type": "markdown",
   "metadata": {},
   "source": [
    "There was some disparity in the distribution of customers between the 3 sale method groups. The email group had the most with a total of 7466 customers. Second was those that received only call with 4962 customers. Those who received both email and call were of the minority with only 2572 customers, which is marginally higher than half of the number of call customers."
   ]
  },
  {
   "cell_type": "markdown",
   "metadata": {},
   "source": [
    "### What does the spread of the revenue look like overall? And for each method?"
   ]
  },
  {
   "cell_type": "code",
   "execution_count": null,
   "metadata": {},
   "outputs": [
    {
     "data": {
      "image/png": "[encoded data removed]",
      "text/plain": [
       "<Figure size 432x288 with 1 Axes>"
      ]
     },
     "metadata": {
      "needs_background": "light"
     },
     "output_type": "display_data"
    }
   ],
   "source": [
    "\n",
    "sns.boxplot(data = df, x = 'sales_method', y = 'revenue', palette=method_colours)\n",
    "plt.ylabel('Revenue')\n",
    "plt.xlabel(None)\n",
    "plt.title('Distribution of Revenue per Sales Method', y = 1.05)\n",
    "\n",
    "plt.tight_layout()\n",
    "plt.savefig('Distribution_of_Revenue_per_Sales_Method.png', dpi = 300, bbox_inches = 'tight')\n",
    "plt.show()"
   ]
  },
  {
   "cell_type": "markdown",
   "metadata": {},
   "source": [
    "Those who only received a call have the lowest spread of revenue (as depicted by the edges of the box). But they also have the lowest revenue amongst the three groups. In fact, the maximum revenue for a customer in the call method, is still lower than the minimum for any of the others.\n",
    "\n",
    "The Email group yields a wider spread of revenue. However, it does have an even distribution of data, as shown by the median being in the middle of the box.\n",
    "\n",
    "The Email and Call group have by far the widest spread of revenue but also the highest as well. The minimum generated revenue for a customer in the email and call group is just below the maxmium for the email group. It can be said though, that the revenue distribution for this group, is negatively skewed, as the median is closer to the upper quartile. This indicates that the data constitudes higher frequency of higher value revenues."
   ]
  },
  {
   "cell_type": "markdown",
   "metadata": {},
   "source": [
    "### Was there any difference in revenue over time for each of the methods?"
   ]
  },
  {
   "cell_type": "markdown",
   "metadata": {},
   "source": [
    "The linegraph shows, there is a general upwards trend in revenue. There is a slight dip in the 3rd week. However, there is a an exponential rise in revenue from the 5th week into the 6th."
   ]
  },
  {
   "cell_type": "code",
   "execution_count": null,
   "metadata": {},
   "outputs": [
    {
     "data": {
      "image/png": "[encoded data removed]",
      "text/plain": [
       "<Figure size 432x288 with 1 Axes>"
      ]
     },
     "metadata": {
      "needs_background": "light"
     },
     "output_type": "display_data"
    }
   ],
   "source": [
    "fig, ax = plt.subplots()\n",
    "\n",
    "sns.lineplot(data = df[df['sales_method'] == 'Email'], x = 'week', y = 'revenue', ax = ax, color=method_colours['Email'], label = 'Email', estimator = 'sum')\n",
    "sns.lineplot(data = df[df['sales_method'] == 'Call'], x = 'week', y = 'revenue', ax = ax, color=method_colours['Call'], label = 'Call', estimator = 'sum')\n",
    "sns.lineplot(data = df[df['sales_method'] == 'Email + Call'], x = 'week', y = 'revenue', ax = ax, color=method_colours['Email + Call'], label = 'Email + Call', estimator = 'sum')\n",
    "#sns.lineplot(data = df, x = 'week', y = 'revenue', ax = ax, color= 'grey', label = 'All Data', linestyle = '--', estimator = 'sum')\n",
    "\n",
    "plt.ylabel('Revenue')\n",
    "plt.xlabel('Week Number')\n",
    "plt.title('Sum of Revenue over Time Per Sales Method')\n",
    "plt.legend()\n",
    "plt.tight_layout()\n",
    "plt.savefig('Sum_Revenue_over_Time_Per_Sales_Method.png', dpi = 300, bbox_inches = 'tight')\n",
    "plt.show()"
   ]
  },
  {
   "cell_type": "code",
   "execution_count": null,
   "metadata": {},
   "outputs": [],
   "source": []
  },
  {
   "cell_type": "code",
   "execution_count": null,
   "metadata": {},
   "outputs": [],
   "source": [
    "# fig, ax = plt.subplots()\n",
    "\n",
    "# sns.lineplot(data = df[df['sales_method'] == 'Email'], x = 'week', y = 'customer_id', ax = ax, color=method_colours['Email'], label = 'Email', estimator = 'sum')\n",
    "# sns.lineplot(data = df[df['sales_method'] == 'Call'], x = 'week', y = 'customer_id', ax = ax, color=method_colours['Call'], label = 'Call', estimator = 'sum')\n",
    "# sns.lineplot(data = df[df['sales_method'] == 'Email + Call'], x = 'week', y = 'customer_id', ax = ax, color=method_colours['Email + Call'], label = 'Email + Call', estimator = 'sum')\n",
    "# #sns.lineplot(data = df, x = 'week', y = 'revenue', ax = ax, color= 'grey', label = 'All Data', linestyle = '--', estimator = 'sum')\n",
    "\n",
    "# plt.ylabel('Revenue')\n",
    "# plt.xlabel('Week Number')\n",
    "# plt.title('Sum of Revenue over Time Per Sales Method')\n",
    "# plt.legend()\n",
    "# plt.tight_layout()\n",
    "# plt.savefig('Sum_Revenue_over_Time_Per_Sales_Method.png', dpi = 300, bbox_inches = 'tight')\n",
    "# plt.show()"
   ]
  },
  {
   "cell_type": "code",
   "execution_count": null,
   "metadata": {},
   "outputs": [
    {
     "data": {
      "image/png": "[encoded data removed]",
      "text/plain": [
       "<Figure size 432x288 with 1 Axes>"
      ]
     },
     "metadata": {
      "needs_background": "light"
     },
     "output_type": "display_data"
    }
   ],
   "source": [
    "fig, ax = plt.subplots()\n",
    "\n",
    "sns.lineplot(data = df[df['sales_method'] == 'Email'], x = 'week', y = 'revenue', ax = ax, color=method_colours['Email'], label = 'Email')\n",
    "sns.lineplot(data = df[df['sales_method'] == 'Call'], x = 'week', y = 'revenue', ax = ax, color=method_colours['Call'], label = 'Call')\n",
    "sns.lineplot(data = df[df['sales_method'] == 'Email + Call'], x = 'week', y = 'revenue', ax = ax, color=method_colours['Email + Call'], label = 'Email + Call')\n",
    "#sns.lineplot(data = df, x = 'week', y = 'revenue', ax = ax, color= 'grey', label = 'All Data', linestyle = '--', estimator = 'sum')\n",
    "\n",
    "plt.ylabel('Revenue')\n",
    "plt.xlabel('Week Number')\n",
    "plt.title('Revenue over Time Per Sales Method')\n",
    "plt.legend()\n",
    "plt.tight_layout()\n",
    "plt.savefig('Average_Revenue_over_Time_Per_Sales_Method.png', dpi = 300, bbox_inches = 'tight')\n",
    "plt.show()"
   ]
  },
  {
   "cell_type": "code",
   "execution_count": null,
   "metadata": {},
   "outputs": [
    {
     "data": {
      "text/plain": [
       "0    272810.06\n",
       "1    198059.82\n",
       "2    183776.55\n",
       "3    235678.56\n",
       "4    254701.28\n",
       "5    163111.74\n",
       "Name: revenue, dtype: float64"
      ]
     },
     "execution_count": 34,
     "metadata": {},
     "output_type": "execute_result"
    }
   ],
   "source": [
    "df.groupby(['week'])['revenue'].sum().to_frame().reset_index().groupby('week')['revenue'].cumsum()\n",
    "  #.groupby(level=0).cumsum().reset_index()"
   ]
  },
  {
   "cell_type": "code",
   "execution_count": null,
   "metadata": {},
   "outputs": [
    {
     "data": {
      "image/png": "[encoded data removed]",
      "text/plain": [
       "<Figure size 432x288 with 1 Axes>"
      ]
     },
     "metadata": {
      "needs_background": "light"
     },
     "output_type": "display_data"
    }
   ],
   "source": [
    "cumsum = df.groupby('week').sum()\n",
    "cumsum['rev_cumsum'] = cumsum['revenue'].cumsum()\n",
    "cumsum['customers'] = df.groupby('week')['customer_id'].count()\n",
    "\n",
    "sns.barplot(data = cumsum, x = cumsum.index, y = 'rev_cumsum', color= 'grey')\n",
    "plt.ticklabel_format(style='plain', axis='y')\n",
    "\n",
    "plt.ylabel('Revenue')\n",
    "plt.xlabel('Week Number')\n",
    "plt.title('Cumulative Sum of Revenue Per Week')\n",
    "plt.tight_layout()\n",
    "plt.savefig('CumSum_of_Revenue_Per_Week.png', dpi = 300, bbox_inches = 'tight')\n",
    "plt.show()\n"
   ]
  },
  {
   "cell_type": "code",
   "execution_count": null,
   "metadata": {},
   "outputs": [
    {
     "data": {
      "text/html": [
       "<div>\n",
       "<style scoped>\n",
       "    .dataframe tbody tr th:only-of-type {\n",
       "        vertical-align: middle;\n",
       "    }\n",
       "\n",
       "    .dataframe tbody tr th {\n",
       "        vertical-align: top;\n",
       "    }\n",
       "\n",
       "    .dataframe thead th {\n",
       "        text-align: right;\n",
       "    }\n",
       "</style>\n",
       "<table border=\"1\" class=\"dataframe\">\n",
       "  <thead>\n",
       "    <tr style=\"text-align: right;\">\n",
       "      <th></th>\n",
       "      <th>nb_sold</th>\n",
       "      <th>revenue</th>\n",
       "      <th>years_as_customer</th>\n",
       "      <th>nb_site_visits</th>\n",
       "      <th>rev_cumsum</th>\n",
       "      <th>customers</th>\n",
       "    </tr>\n",
       "    <tr>\n",
       "      <th>week</th>\n",
       "      <th></th>\n",
       "      <th></th>\n",
       "      <th></th>\n",
       "      <th></th>\n",
       "      <th></th>\n",
       "      <th></th>\n",
       "    </tr>\n",
       "  </thead>\n",
       "  <tbody>\n",
       "    <tr>\n",
       "      <th>1</th>\n",
       "      <td>29298</td>\n",
       "      <td>272810.06</td>\n",
       "      <td>19402</td>\n",
       "      <td>80800</td>\n",
       "      <td>272810.06</td>\n",
       "      <td>3497</td>\n",
       "    </tr>\n",
       "    <tr>\n",
       "      <th>2</th>\n",
       "      <td>22402</td>\n",
       "      <td>198059.82</td>\n",
       "      <td>11540</td>\n",
       "      <td>57413</td>\n",
       "      <td>470869.88</td>\n",
       "      <td>2323</td>\n",
       "    </tr>\n",
       "    <tr>\n",
       "      <th>3</th>\n",
       "      <td>20294</td>\n",
       "      <td>183776.55</td>\n",
       "      <td>11822</td>\n",
       "      <td>53818</td>\n",
       "      <td>654646.43</td>\n",
       "      <td>2257</td>\n",
       "    </tr>\n",
       "    <tr>\n",
       "      <th>4</th>\n",
       "      <td>25863</td>\n",
       "      <td>235678.56</td>\n",
       "      <td>11246</td>\n",
       "      <td>62020</td>\n",
       "      <td>890324.99</td>\n",
       "      <td>2387</td>\n",
       "    </tr>\n",
       "    <tr>\n",
       "      <th>5</th>\n",
       "      <td>26624</td>\n",
       "      <td>254701.28</td>\n",
       "      <td>11011</td>\n",
       "      <td>62473</td>\n",
       "      <td>1145026.27</td>\n",
       "      <td>2366</td>\n",
       "    </tr>\n",
       "    <tr>\n",
       "      <th>6</th>\n",
       "      <td>15337</td>\n",
       "      <td>163111.74</td>\n",
       "      <td>4316</td>\n",
       "      <td>30888</td>\n",
       "      <td>1308138.01</td>\n",
       "      <td>1096</td>\n",
       "    </tr>\n",
       "  </tbody>\n",
       "</table>\n",
       "</div>"
      ],
      "text/plain": [
       "      nb_sold    revenue  years_as_customer  nb_site_visits  rev_cumsum  \\\n",
       "week                                                                      \n",
       "1       29298  272810.06              19402           80800   272810.06   \n",
       "2       22402  198059.82              11540           57413   470869.88   \n",
       "3       20294  183776.55              11822           53818   654646.43   \n",
       "4       25863  235678.56              11246           62020   890324.99   \n",
       "5       26624  254701.28              11011           62473  1145026.27   \n",
       "6       15337  163111.74               4316           30888  1308138.01   \n",
       "\n",
       "      customers  \n",
       "week             \n",
       "1          3497  \n",
       "2          2323  \n",
       "3          2257  \n",
       "4          2387  \n",
       "5          2366  \n",
       "6          1096  "
      ]
     },
     "execution_count": 36,
     "metadata": {},
     "output_type": "execute_result"
    }
   ],
   "source": [
    "cumsum"
   ]
  },
  {
   "cell_type": "code",
   "execution_count": null,
   "metadata": {},
   "outputs": [
    {
     "name": "stderr",
     "output_type": "stream",
     "text": [
      "No handles with labels found to put in legend.\n"
     ]
    },
    {
     "data": {
      "image/png": "[encoded data removed]",
      "text/plain": [
       "<Figure size 432x288 with 1 Axes>"
      ]
     },
     "metadata": {
      "needs_background": "light"
     },
     "output_type": "display_data"
    }
   ],
   "source": [
    "sns.lineplot(data = cumsum, x = cumsum.index, y = 'revenue', color= 'grey')\n",
    "plt.ticklabel_format(style='plain', axis='y')\n",
    "\n",
    "plt.ylabel('Revenue')\n",
    "plt.xlabel('Week Number')\n",
    "plt.title('Sum of Revenue Per Week')\n",
    "plt.legend()\n",
    "plt.tight_layout()\n",
    "plt.savefig('Sum_of_Revenue_Per_Week.png', dpi = 300, bbox_inches = 'tight')\n",
    "plt.show()"
   ]
  },
  {
   "cell_type": "code",
   "execution_count": null,
   "metadata": {},
   "outputs": [
    {
     "data": {
      "image/png": "[encoded data removed]",
      "text/plain": [
       "<Figure size 432x288 with 1 Axes>"
      ]
     },
     "metadata": {
      "needs_background": "light"
     },
     "output_type": "display_data"
    }
   ],
   "source": [
    "sns.barplot(data = cumsum, x = cumsum.index, y = 'customers', color= 'grey')\n",
    "plt.ticklabel_format(style='plain', axis='y')\n",
    "\n",
    "plt.ylabel('Revenue')\n",
    "plt.xlabel('Week Number')\n",
    "plt.title('Count of Customers Per Week')\n",
    "plt.tight_layout()\n",
    "plt.savefig('Count_of_Customers_Per_Week.png', dpi = 300, bbox_inches = 'tight')\n",
    "plt.show()\n"
   ]
  },
  {
   "cell_type": "markdown",
   "metadata": {},
   "source": [
    "When we seperate the trend in revenue between the different sales method, we can see that the email and call group consistently yields the highest revenue while calls consistenly yield the least.\n",
    "\n",
    "For the call groip and email group, the gradient for revenue is quite flat whereas the gradient for the email and call group is prominently steeper.\n",
    " "
   ]
  },
  {
   "cell_type": "markdown",
   "metadata": {},
   "source": [
    "### Which method would you recommend we continue to use?"
   ]
  },
  {
   "cell_type": "markdown",
   "metadata": {},
   "source": []
  },
  {
   "cell_type": "code",
   "execution_count": null,
   "metadata": {},
   "outputs": [
    {
     "data": {
      "text/plain": [
       "93.93494255349705"
      ]
     },
     "execution_count": 39,
     "metadata": {},
     "output_type": "execute_result"
    }
   ],
   "source": [
    "df['revenue'].sum() / df['customer_id'].count()"
   ]
  },
  {
   "cell_type": "code",
   "execution_count": null,
   "metadata": {},
   "outputs": [
    {
     "data": {
      "text/plain": [
       "183.651232568601"
      ]
     },
     "execution_count": 40,
     "metadata": {},
     "output_type": "execute_result"
    }
   ],
   "source": [
    "df[df['sales_method'] == 'Email + Call']['revenue'].sum() / df[df['sales_method'] == 'Email + Call']['customer_id'].count()"
   ]
  },
  {
   "cell_type": "markdown",
   "metadata": {},
   "source": [
    "## Business Metrics\n",
    "\n",
    "The key business metric should be revenue per customer. As the aim of is to discover the most effective sales strategy, its a collary that sales is an important metric. But the revenuew can be dependent on many factors, one of the biggest being the number of customers a given method was used on. As this varies widely throughout the six-week period, it gives a false/narrative of revenue. To standardise this, the best business method is an average of revenue generated per customer.\n",
    "\n",
    "At the end of the six week period, considering all sales methods combined, the average revenue per customer $93.93. But for the email and call method seperately, the revenue per customer is $183.66!!\n",
    "\n",
    "The Email and Call method generated just over 31% of the total revenue, despite only being use with 15% of the customers!"
   ]
  },
  {
   "cell_type": "code",
   "execution_count": null,
   "metadata": {},
   "outputs": [],
   "source": []
  },
  {
   "cell_type": "code",
   "execution_count": null,
   "metadata": {},
   "outputs": [
    {
     "data": {
      "text/plain": [
       "31.208992237753264"
      ]
     },
     "execution_count": 41,
     "metadata": {},
     "output_type": "execute_result"
    }
   ],
   "source": [
    "total_revenue = df['revenue'].sum()\n",
    "e_c_revenue = df.loc[df['sales_method'] == 'Email + Call', 'revenue'].sum()\n",
    "\n",
    "(e_c_revenue / total_revenue) *100"
   ]
  },
  {
   "cell_type": "code",
   "execution_count": null,
   "metadata": {},
   "outputs": [
    {
     "data": {
      "text/plain": [
       "15.962947005601032"
      ]
     },
     "execution_count": 42,
     "metadata": {},
     "output_type": "execute_result"
    }
   ],
   "source": [
    "total_revenue = df['customer_id'].count()\n",
    "e_c_revenue = df.loc[df['sales_method'] == 'Email + Call', 'customer_id'].count()\n",
    "\n",
    "(e_c_revenue / total_revenue) *100"
   ]
  },
  {
   "cell_type": "markdown",
   "metadata": {},
   "source": [
    "## Recommendations\n",
    "\n",
    "For the following weeks, I would recommend Pens & Printers use the email and calls method when trying to generate leads for thei new product line.\n",
    "\n",
    "- Measure and monitor whether the length of the email or the length of the phone calls further have an impact on the generated revenue from that customer.\n",
    "- Only use email and call in combination with each other, as its proven that in combination they are twice as effective than either by themself.\n",
    "\n",
    "Given that there was a greater return when both email and call were used at the same time, indicates that customers are more receptive and likely to buy when they feel that the comoany genuinely care about them and make them feel valued, as well as buidling a relationship with them.\n",
    "\n",
    "As an extention of that, Pens and Printers could also research into email marketing campaigns and sequences, as well as offering them discounts, for example, as a gift for being a custome to strengthen the brand - customer relationship.\n",
    "\n",
    "For a deeper analysis, they could also include more detailed data. For example, they could collect the specific time and date of a customer order to investigate any seasonality or peak sale times.\n",
    "\n",
    "If possible, they should also include more demographic data to explore if there's any other factors to do with the customer themselves, that influence the revenue or sales, as opposed to just purely the marketing/sales method. For example, does a certain age group tend buy more? Are married couples with children more likely to buy than single adults without a family?"
   ]
  },
  {
   "cell_type": "markdown",
   "metadata": {},
   "source": []
  },
  {
   "cell_type": "code",
   "execution_count": null,
   "metadata": {},
   "outputs": [
    {
     "data": {
      "image/png": "[encoded data removed]",
      "text/plain": [
       "<Figure size 432x288 with 1 Axes>"
      ]
     },
     "metadata": {
      "needs_background": "light"
     },
     "output_type": "display_data"
    }
   ],
   "source": [
    "plt.hist(df['revenue'])\n",
    "plt.show()"
   ]
  },
  {
   "cell_type": "code",
   "execution_count": null,
   "metadata": {},
   "outputs": [
    {
     "data": {
      "image/png": "[encoded data removed]",
      "text/plain": [
       "<Figure size 457.125x360 with 1 Axes>"
      ]
     },
     "metadata": {
      "needs_background": "light"
     },
     "output_type": "display_data"
    }
   ],
   "source": [
    "sns.displot(kind = 'hist', data = df, x= 'revenue', hue = 'sales_method', palette = method_colours)\n",
    "plt.show()"
   ]
  },
  {
   "cell_type": "code",
   "execution_count": null,
   "metadata": {},
   "outputs": [],
   "source": []
  }
 ],
 "metadata": {
  "kernelspec": {
   "display_name": "Python 3.9.7 ('base')",
   "language": "python",
   "name": "python3"
  },
  "language_info": {
   "codemirror_mode": {
    "name": "ipython",
    "version": 3
   },
   "file_extension": ".py",
   "mimetype": "text/x-python",
   "name": "python",
   "nbconvert_exporter": "python",
   "pygments_lexer": "ipython3",
   "version": "3.9.7"
  },
  "orig_nbformat": 4,
  "vscode": {
   "interpreter": {
    "hash": "40d3a090f54c6569ab1632332b64b2c03c39dcf918b08424e98f38b5ae0af88f"
   }
  }
 },
 "nbformat": 4,
 "nbformat_minor": 2
}
